{
 "cells": [
  {
   "cell_type": "code",
   "execution_count": 1,
   "metadata": {},
   "outputs": [],
   "source": [
    "import numpy as np\n",
    "import pandas as pd\n",
    "import seaborn as sns\n",
    "import matplotlib.pyplot as plt\n",
    "import calendar\n",
    "import plotly.express as px\n",
    "import streamlit as st\n"
   ]
  },
  {
   "cell_type": "code",
   "execution_count": 2,
   "metadata": {},
   "outputs": [],
   "source": [
    "# import csv file\n",
    "\n",
    "data = pd.read_csv(\"Unemployment_Rate_upto_11_2020.csv\")\n"
   ]
  },
  {
   "cell_type": "code",
   "execution_count": 3,
   "metadata": {},
   "outputs": [
    {
     "data": {
      "text/plain": [
       "(267, 9)"
      ]
     },
     "execution_count": 3,
     "metadata": {},
     "output_type": "execute_result"
    }
   ],
   "source": [
    "data.shape"
   ]
  },
  {
   "cell_type": "code",
   "execution_count": 4,
   "metadata": {},
   "outputs": [
    {
     "data": {
      "text/html": [
       "<div>\n",
       "<style scoped>\n",
       "    .dataframe tbody tr th:only-of-type {\n",
       "        vertical-align: middle;\n",
       "    }\n",
       "\n",
       "    .dataframe tbody tr th {\n",
       "        vertical-align: top;\n",
       "    }\n",
       "\n",
       "    .dataframe thead th {\n",
       "        text-align: right;\n",
       "    }\n",
       "</style>\n",
       "<table border=\"1\" class=\"dataframe\">\n",
       "  <thead>\n",
       "    <tr style=\"text-align: right;\">\n",
       "      <th></th>\n",
       "      <th>Region</th>\n",
       "      <th>Date</th>\n",
       "      <th>Frequency</th>\n",
       "      <th>Estimated Unemployment Rate (%)</th>\n",
       "      <th>Estimated Employed</th>\n",
       "      <th>Estimated Labour Participation Rate (%)</th>\n",
       "      <th>Region.1</th>\n",
       "      <th>longitude</th>\n",
       "      <th>latitude</th>\n",
       "    </tr>\n",
       "  </thead>\n",
       "  <tbody>\n",
       "    <tr>\n",
       "      <th>0</th>\n",
       "      <td>Andhra Pradesh</td>\n",
       "      <td>31-01-2020</td>\n",
       "      <td>M</td>\n",
       "      <td>5.48</td>\n",
       "      <td>16635535</td>\n",
       "      <td>41.02</td>\n",
       "      <td>South</td>\n",
       "      <td>15.9129</td>\n",
       "      <td>79.74</td>\n",
       "    </tr>\n",
       "    <tr>\n",
       "      <th>1</th>\n",
       "      <td>Andhra Pradesh</td>\n",
       "      <td>29-02-2020</td>\n",
       "      <td>M</td>\n",
       "      <td>5.83</td>\n",
       "      <td>16545652</td>\n",
       "      <td>40.90</td>\n",
       "      <td>South</td>\n",
       "      <td>15.9129</td>\n",
       "      <td>79.74</td>\n",
       "    </tr>\n",
       "    <tr>\n",
       "      <th>2</th>\n",
       "      <td>Andhra Pradesh</td>\n",
       "      <td>31-03-2020</td>\n",
       "      <td>M</td>\n",
       "      <td>5.79</td>\n",
       "      <td>15881197</td>\n",
       "      <td>39.18</td>\n",
       "      <td>South</td>\n",
       "      <td>15.9129</td>\n",
       "      <td>79.74</td>\n",
       "    </tr>\n",
       "    <tr>\n",
       "      <th>3</th>\n",
       "      <td>Andhra Pradesh</td>\n",
       "      <td>30-04-2020</td>\n",
       "      <td>M</td>\n",
       "      <td>20.51</td>\n",
       "      <td>11336911</td>\n",
       "      <td>33.10</td>\n",
       "      <td>South</td>\n",
       "      <td>15.9129</td>\n",
       "      <td>79.74</td>\n",
       "    </tr>\n",
       "    <tr>\n",
       "      <th>4</th>\n",
       "      <td>Andhra Pradesh</td>\n",
       "      <td>31-05-2020</td>\n",
       "      <td>M</td>\n",
       "      <td>17.43</td>\n",
       "      <td>12988845</td>\n",
       "      <td>36.46</td>\n",
       "      <td>South</td>\n",
       "      <td>15.9129</td>\n",
       "      <td>79.74</td>\n",
       "    </tr>\n",
       "  </tbody>\n",
       "</table>\n",
       "</div>"
      ],
      "text/plain": [
       "           Region         Date  Frequency   Estimated Unemployment Rate (%)  \\\n",
       "0  Andhra Pradesh   31-01-2020          M                              5.48   \n",
       "1  Andhra Pradesh   29-02-2020          M                              5.83   \n",
       "2  Andhra Pradesh   31-03-2020          M                              5.79   \n",
       "3  Andhra Pradesh   30-04-2020          M                             20.51   \n",
       "4  Andhra Pradesh   31-05-2020          M                             17.43   \n",
       "\n",
       "    Estimated Employed   Estimated Labour Participation Rate (%) Region.1  \\\n",
       "0             16635535                                     41.02    South   \n",
       "1             16545652                                     40.90    South   \n",
       "2             15881197                                     39.18    South   \n",
       "3             11336911                                     33.10    South   \n",
       "4             12988845                                     36.46    South   \n",
       "\n",
       "   longitude  latitude  \n",
       "0    15.9129     79.74  \n",
       "1    15.9129     79.74  \n",
       "2    15.9129     79.74  \n",
       "3    15.9129     79.74  \n",
       "4    15.9129     79.74  "
      ]
     },
     "execution_count": 4,
     "metadata": {},
     "output_type": "execute_result"
    }
   ],
   "source": [
    "data.head()"
   ]
  },
  {
   "cell_type": "code",
   "execution_count": 5,
   "metadata": {},
   "outputs": [
    {
     "name": "stdout",
     "output_type": "stream",
     "text": [
      "<class 'pandas.core.frame.DataFrame'>\n",
      "RangeIndex: 267 entries, 0 to 266\n",
      "Data columns (total 9 columns):\n",
      " #   Column                                    Non-Null Count  Dtype  \n",
      "---  ------                                    --------------  -----  \n",
      " 0   Region                                    267 non-null    object \n",
      " 1    Date                                     267 non-null    object \n",
      " 2    Frequency                                267 non-null    object \n",
      " 3    Estimated Unemployment Rate (%)          267 non-null    float64\n",
      " 4    Estimated Employed                       267 non-null    int64  \n",
      " 5    Estimated Labour Participation Rate (%)  267 non-null    float64\n",
      " 6   Region.1                                  267 non-null    object \n",
      " 7   longitude                                 267 non-null    float64\n",
      " 8   latitude                                  267 non-null    float64\n",
      "dtypes: float64(4), int64(1), object(4)\n",
      "memory usage: 18.9+ KB\n"
     ]
    }
   ],
   "source": [
    "data.info()"
   ]
  },
  {
   "cell_type": "code",
   "execution_count": 6,
   "metadata": {},
   "outputs": [
    {
     "data": {
      "text/plain": [
       "Region                                      0\n",
       " Date                                       0\n",
       " Frequency                                  0\n",
       " Estimated Unemployment Rate (%)            0\n",
       " Estimated Employed                         0\n",
       " Estimated Labour Participation Rate (%)    0\n",
       "Region.1                                    0\n",
       "longitude                                   0\n",
       "latitude                                    0\n",
       "dtype: int64"
      ]
     },
     "execution_count": 6,
     "metadata": {},
     "output_type": "execute_result"
    }
   ],
   "source": [
    "pd.isnull(data).sum()"
   ]
  },
  {
   "cell_type": "code",
   "execution_count": 7,
   "metadata": {},
   "outputs": [],
   "source": [
    "data.dropna(inplace=True)"
   ]
  },
  {
   "cell_type": "code",
   "execution_count": 8,
   "metadata": {},
   "outputs": [
    {
     "data": {
      "text/html": [
       "<div>\n",
       "<style scoped>\n",
       "    .dataframe tbody tr th:only-of-type {\n",
       "        vertical-align: middle;\n",
       "    }\n",
       "\n",
       "    .dataframe tbody tr th {\n",
       "        vertical-align: top;\n",
       "    }\n",
       "\n",
       "    .dataframe thead th {\n",
       "        text-align: right;\n",
       "    }\n",
       "</style>\n",
       "<table border=\"1\" class=\"dataframe\">\n",
       "  <thead>\n",
       "    <tr style=\"text-align: right;\">\n",
       "      <th></th>\n",
       "      <th>Estimated Unemployment Rate (%)</th>\n",
       "      <th>Estimated Employed</th>\n",
       "      <th>Estimated Labour Participation Rate (%)</th>\n",
       "      <th>longitude</th>\n",
       "      <th>latitude</th>\n",
       "    </tr>\n",
       "  </thead>\n",
       "  <tbody>\n",
       "    <tr>\n",
       "      <th>count</th>\n",
       "      <td>267.000000</td>\n",
       "      <td>2.670000e+02</td>\n",
       "      <td>267.000000</td>\n",
       "      <td>267.000000</td>\n",
       "      <td>267.000000</td>\n",
       "    </tr>\n",
       "    <tr>\n",
       "      <th>mean</th>\n",
       "      <td>12.236929</td>\n",
       "      <td>1.396211e+07</td>\n",
       "      <td>41.681573</td>\n",
       "      <td>22.826048</td>\n",
       "      <td>80.532425</td>\n",
       "    </tr>\n",
       "    <tr>\n",
       "      <th>std</th>\n",
       "      <td>10.803283</td>\n",
       "      <td>1.336632e+07</td>\n",
       "      <td>7.845419</td>\n",
       "      <td>6.270731</td>\n",
       "      <td>5.831738</td>\n",
       "    </tr>\n",
       "    <tr>\n",
       "      <th>min</th>\n",
       "      <td>0.500000</td>\n",
       "      <td>1.175420e+05</td>\n",
       "      <td>16.770000</td>\n",
       "      <td>10.850500</td>\n",
       "      <td>71.192400</td>\n",
       "    </tr>\n",
       "    <tr>\n",
       "      <th>25%</th>\n",
       "      <td>4.845000</td>\n",
       "      <td>2.838930e+06</td>\n",
       "      <td>37.265000</td>\n",
       "      <td>18.112400</td>\n",
       "      <td>76.085600</td>\n",
       "    </tr>\n",
       "    <tr>\n",
       "      <th>50%</th>\n",
       "      <td>9.650000</td>\n",
       "      <td>9.732417e+06</td>\n",
       "      <td>40.390000</td>\n",
       "      <td>23.610200</td>\n",
       "      <td>79.019300</td>\n",
       "    </tr>\n",
       "    <tr>\n",
       "      <th>75%</th>\n",
       "      <td>16.755000</td>\n",
       "      <td>2.187869e+07</td>\n",
       "      <td>44.055000</td>\n",
       "      <td>27.278400</td>\n",
       "      <td>85.279900</td>\n",
       "    </tr>\n",
       "    <tr>\n",
       "      <th>max</th>\n",
       "      <td>75.850000</td>\n",
       "      <td>5.943376e+07</td>\n",
       "      <td>69.690000</td>\n",
       "      <td>33.778200</td>\n",
       "      <td>92.937600</td>\n",
       "    </tr>\n",
       "  </tbody>\n",
       "</table>\n",
       "</div>"
      ],
      "text/plain": [
       "        Estimated Unemployment Rate (%)   Estimated Employed  \\\n",
       "count                        267.000000         2.670000e+02   \n",
       "mean                          12.236929         1.396211e+07   \n",
       "std                           10.803283         1.336632e+07   \n",
       "min                            0.500000         1.175420e+05   \n",
       "25%                            4.845000         2.838930e+06   \n",
       "50%                            9.650000         9.732417e+06   \n",
       "75%                           16.755000         2.187869e+07   \n",
       "max                           75.850000         5.943376e+07   \n",
       "\n",
       "        Estimated Labour Participation Rate (%)   longitude    latitude  \n",
       "count                                267.000000  267.000000  267.000000  \n",
       "mean                                  41.681573   22.826048   80.532425  \n",
       "std                                    7.845419    6.270731    5.831738  \n",
       "min                                   16.770000   10.850500   71.192400  \n",
       "25%                                   37.265000   18.112400   76.085600  \n",
       "50%                                   40.390000   23.610200   79.019300  \n",
       "75%                                   44.055000   27.278400   85.279900  \n",
       "max                                   69.690000   33.778200   92.937600  "
      ]
     },
     "execution_count": 8,
     "metadata": {},
     "output_type": "execute_result"
    }
   ],
   "source": [
    "data.describe()"
   ]
  },
  {
   "cell_type": "code",
   "execution_count": 9,
   "metadata": {},
   "outputs": [
    {
     "name": "stdout",
     "output_type": "stream",
     "text": [
      "Index(['State', 'Date', 'Frequency', 'Unemployment_Rate', 'Employed',\n",
      "       'Labor_Participation_Rate', 'Region', 'longitude', 'latitude'],\n",
      "      dtype='object')\n"
     ]
    }
   ],
   "source": [
    "data.columns = data.columns.str.strip()  # Remove leading and trailing whitespaces from column names\n",
    "\n",
    "data.rename(columns={\n",
    "    'Region': 'State',\n",
    "    'Date': 'Date',\n",
    "    'Frequency': 'Frequency',\n",
    "    'Estimated Unemployment Rate (%)': 'Unemployment_Rate',\n",
    "    'Estimated Employed': 'Employed',\n",
    "    'Estimated Labour Participation Rate (%)': 'Labor_Participation_Rate',\n",
    "    'Region.1': 'Region',\n",
    "    'Longitude': 'Latitude',\n",
    "    'Latitude': 'Longitude'\n",
    "}, inplace=True)\n",
    "\n",
    "print(data.columns)"
   ]
  },
  {
   "cell_type": "code",
   "execution_count": 10,
   "metadata": {},
   "outputs": [
    {
     "data": {
      "text/html": [
       "<div>\n",
       "<style scoped>\n",
       "    .dataframe tbody tr th:only-of-type {\n",
       "        vertical-align: middle;\n",
       "    }\n",
       "\n",
       "    .dataframe tbody tr th {\n",
       "        vertical-align: top;\n",
       "    }\n",
       "\n",
       "    .dataframe thead th {\n",
       "        text-align: right;\n",
       "    }\n",
       "</style>\n",
       "<table border=\"1\" class=\"dataframe\">\n",
       "  <thead>\n",
       "    <tr style=\"text-align: right;\">\n",
       "      <th></th>\n",
       "      <th>State</th>\n",
       "      <th>Date</th>\n",
       "      <th>Frequency</th>\n",
       "      <th>Unemployment_Rate</th>\n",
       "      <th>Employed</th>\n",
       "      <th>Labor_Participation_Rate</th>\n",
       "      <th>Region</th>\n",
       "      <th>longitude</th>\n",
       "      <th>latitude</th>\n",
       "    </tr>\n",
       "  </thead>\n",
       "  <tbody>\n",
       "    <tr>\n",
       "      <th>0</th>\n",
       "      <td>Andhra Pradesh</td>\n",
       "      <td>31-01-2020</td>\n",
       "      <td>M</td>\n",
       "      <td>5.48</td>\n",
       "      <td>16635535</td>\n",
       "      <td>41.02</td>\n",
       "      <td>South</td>\n",
       "      <td>15.9129</td>\n",
       "      <td>79.74</td>\n",
       "    </tr>\n",
       "    <tr>\n",
       "      <th>1</th>\n",
       "      <td>Andhra Pradesh</td>\n",
       "      <td>29-02-2020</td>\n",
       "      <td>M</td>\n",
       "      <td>5.83</td>\n",
       "      <td>16545652</td>\n",
       "      <td>40.90</td>\n",
       "      <td>South</td>\n",
       "      <td>15.9129</td>\n",
       "      <td>79.74</td>\n",
       "    </tr>\n",
       "    <tr>\n",
       "      <th>2</th>\n",
       "      <td>Andhra Pradesh</td>\n",
       "      <td>31-03-2020</td>\n",
       "      <td>M</td>\n",
       "      <td>5.79</td>\n",
       "      <td>15881197</td>\n",
       "      <td>39.18</td>\n",
       "      <td>South</td>\n",
       "      <td>15.9129</td>\n",
       "      <td>79.74</td>\n",
       "    </tr>\n",
       "    <tr>\n",
       "      <th>3</th>\n",
       "      <td>Andhra Pradesh</td>\n",
       "      <td>30-04-2020</td>\n",
       "      <td>M</td>\n",
       "      <td>20.51</td>\n",
       "      <td>11336911</td>\n",
       "      <td>33.10</td>\n",
       "      <td>South</td>\n",
       "      <td>15.9129</td>\n",
       "      <td>79.74</td>\n",
       "    </tr>\n",
       "    <tr>\n",
       "      <th>4</th>\n",
       "      <td>Andhra Pradesh</td>\n",
       "      <td>31-05-2020</td>\n",
       "      <td>M</td>\n",
       "      <td>17.43</td>\n",
       "      <td>12988845</td>\n",
       "      <td>36.46</td>\n",
       "      <td>South</td>\n",
       "      <td>15.9129</td>\n",
       "      <td>79.74</td>\n",
       "    </tr>\n",
       "  </tbody>\n",
       "</table>\n",
       "</div>"
      ],
      "text/plain": [
       "            State         Date Frequency  Unemployment_Rate  Employed  \\\n",
       "0  Andhra Pradesh   31-01-2020         M               5.48  16635535   \n",
       "1  Andhra Pradesh   29-02-2020         M               5.83  16545652   \n",
       "2  Andhra Pradesh   31-03-2020         M               5.79  15881197   \n",
       "3  Andhra Pradesh   30-04-2020         M              20.51  11336911   \n",
       "4  Andhra Pradesh   31-05-2020         M              17.43  12988845   \n",
       "\n",
       "   Labor_Participation_Rate Region  longitude  latitude  \n",
       "0                     41.02  South    15.9129     79.74  \n",
       "1                     40.90  South    15.9129     79.74  \n",
       "2                     39.18  South    15.9129     79.74  \n",
       "3                     33.10  South    15.9129     79.74  \n",
       "4                     36.46  South    15.9129     79.74  "
      ]
     },
     "execution_count": 10,
     "metadata": {},
     "output_type": "execute_result"
    }
   ],
   "source": [
    "data.head()"
   ]
  },
  {
   "cell_type": "code",
   "execution_count": 11,
   "metadata": {},
   "outputs": [
    {
     "data": {
      "text/plain": [
       "State\n",
       "Andhra Pradesh      10\n",
       "Assam               10\n",
       "Uttarakhand         10\n",
       "Uttar Pradesh       10\n",
       "Tripura             10\n",
       "Telangana           10\n",
       "Tamil Nadu          10\n",
       "Rajasthan           10\n",
       "Punjab              10\n",
       "Puducherry          10\n",
       "Odisha              10\n",
       "Meghalaya           10\n",
       "Maharashtra         10\n",
       "Madhya Pradesh      10\n",
       "Kerala              10\n",
       "Karnataka           10\n",
       "Jharkhand           10\n",
       "Himachal Pradesh    10\n",
       "Haryana             10\n",
       "Gujarat             10\n",
       "Goa                 10\n",
       "Delhi               10\n",
       "Chhattisgarh        10\n",
       "Bihar               10\n",
       "West Bengal         10\n",
       "Jammu & Kashmir      9\n",
       "Sikkim               8\n",
       "Name: count, dtype: int64"
      ]
     },
     "execution_count": 11,
     "metadata": {},
     "output_type": "execute_result"
    }
   ],
   "source": [
    "data.State.value_counts()"
   ]
  },
  {
   "cell_type": "code",
   "execution_count": 12,
   "metadata": {},
   "outputs": [
    {
     "name": "stdout",
     "output_type": "stream",
     "text": [
      "            State       Date Frequency  Unemployment_Rate  Employed  \\\n",
      "0  Andhra Pradesh 2020-01-31         M               5.48  16635535   \n",
      "1  Andhra Pradesh 2020-02-29         M               5.83  16545652   \n",
      "2  Andhra Pradesh 2020-03-31         M               5.79  15881197   \n",
      "3  Andhra Pradesh 2020-04-30         M              20.51  11336911   \n",
      "4  Andhra Pradesh 2020-05-31         M              17.43  12988845   \n",
      "\n",
      "   Labor_Participation_Rate Region  longitude  latitude  Month  \n",
      "0                     41.02  South    15.9129     79.74      1  \n",
      "1                     40.90  South    15.9129     79.74      2  \n",
      "2                     39.18  South    15.9129     79.74      3  \n",
      "3                     33.10  South    15.9129     79.74      4  \n",
      "4                     36.46  South    15.9129     79.74      5  \n"
     ]
    }
   ],
   "source": [
    "data['Date'] = pd.to_datetime(data['Date'],dayfirst=True)  # Converting 'Date' column to datetime\n",
    "\n",
    "# Creating a new column for the month\n",
    "data['Month'] = data['Date'].dt.month\n",
    "\n",
    "print(data.head())"
   ]
  },
  {
   "cell_type": "code",
   "execution_count": 13,
   "metadata": {},
   "outputs": [
    {
     "name": "stderr",
     "output_type": "stream",
     "text": [
      "c:\\Users\\dipra\\anaconda3\\Lib\\site-packages\\seaborn\\_oldcore.py:1119: FutureWarning: use_inf_as_na option is deprecated and will be removed in a future version. Convert inf values to NaN before operating instead.\n",
      "  with pd.option_context('mode.use_inf_as_na', True):\n"
     ]
    },
    {
     "data": {
      "image/png": "[encoded data removed]",
      "text/plain": [
       "<Figure size 800x600 with 1 Axes>"
      ]
     },
     "metadata": {},
     "output_type": "display_data"
    }
   ],
   "source": [
    "# Histogram of the Unemployment Rate\n",
    "plt.figure(figsize=(8, 6))\n",
    "sns.histplot(data['Unemployment_Rate'], bins=20, kde=True)\n",
    "plt.title('Histogram of Unemployment Rate')\n",
    "plt.xlabel('Unemployment Rate')\n",
    "plt.ylabel('Frequency')\n",
    "plt.show()"
   ]
  },
  {
   "cell_type": "code",
   "execution_count": 14,
   "metadata": {},
   "outputs": [
    {
     "name": "stderr",
     "output_type": "stream",
     "text": [
      "c:\\Users\\dipra\\anaconda3\\Lib\\site-packages\\seaborn\\_oldcore.py:1119: FutureWarning: use_inf_as_na option is deprecated and will be removed in a future version. Convert inf values to NaN before operating instead.\n",
      "  with pd.option_context('mode.use_inf_as_na', True):\n",
      "c:\\Users\\dipra\\anaconda3\\Lib\\site-packages\\seaborn\\_oldcore.py:1119: FutureWarning: use_inf_as_na option is deprecated and will be removed in a future version. Convert inf values to NaN before operating instead.\n",
      "  with pd.option_context('mode.use_inf_as_na', True):\n"
     ]
    },
    {
     "data": {
      "image/png": "[encoded data removed]",
      "text/plain": [
       "<Figure size 1000x600 with 1 Axes>"
      ]
     },
     "metadata": {},
     "output_type": "display_data"
    }
   ],
   "source": [
    "# Line plot of Unemployment Rate over time (Date)\n",
    "plt.figure(figsize=(10, 6))\n",
    "sns.lineplot(x='Date', y='Unemployment_Rate', data=data)\n",
    "plt.title('Unemployment Rate over Time')\n",
    "plt.xlabel('Month')\n",
    "plt.ylabel('Unemployment Rate')\n",
    "plt.xticks(rotation=45)\n",
    "plt.show()"
   ]
  },
  {
   "cell_type": "code",
   "execution_count": 15,
   "metadata": {},
   "outputs": [
    {
     "data": {
      "image/png": "[encoded data removed]",
      "text/plain": [
       "<Figure size 1000x600 with 1 Axes>"
      ]
     },
     "metadata": {},
     "output_type": "display_data"
    }
   ],
   "source": [
    "# Box plot of Unemployment Rate by Region\n",
    "plt.figure(figsize=(10, 6))\n",
    "sns.boxplot(x='Region', y='Unemployment_Rate', data=data)\n",
    "plt.title('Unemployment Rate by Region')\n",
    "plt.xlabel('Region')\n",
    "plt.ylabel('Unemployment Rate')\n",
    "plt.xticks(rotation=45)\n",
    "plt.show()"
   ]
  },
  {
   "cell_type": "code",
   "execution_count": 16,
   "metadata": {},
   "outputs": [
    {
     "data": {
      "image/png": "[encoded data removed]",
      "text/plain": [
       "<Figure size 800x600 with 1 Axes>"
      ]
     },
     "metadata": {},
     "output_type": "display_data"
    }
   ],
   "source": [
    "# Scatter plot of Employed vs. Labor Participation Rate\n",
    "plt.figure(figsize=(8, 6))\n",
    "sns.scatterplot(x='Employed', y='Labor_Participation_Rate', data=data)\n",
    "plt.title('Employed vs. Labor Participation Rate')\n",
    "plt.xlabel('Employed')\n",
    "plt.ylabel('Labor Participation Rate')\n",
    "plt.show()"
   ]
  },
  {
   "cell_type": "code",
   "execution_count": 17,
   "metadata": {},
   "outputs": [
    {
     "data": {
      "image/png": "[encoded data removed]",
      "text/plain": [
       "<Figure size 800x600 with 1 Axes>"
      ]
     },
     "metadata": {},
     "output_type": "display_data"
    }
   ],
   "source": [
    "monthly_avg_unemployment = data.groupby('Month')['Unemployment_Rate'].mean()\n",
    "# Plotting the monthly average of Unemployment Rate\n",
    "plt.figure(figsize=(8, 6))\n",
    "sns.barplot(x=monthly_avg_unemployment.index, y=monthly_avg_unemployment.values)\n",
    "plt.title('Monthly Average Unemployment Rate')\n",
    "plt.xlabel('Month')\n",
    "plt.ylabel('Average Unemployment Rate')\n",
    "plt.xticks(np.arange(0, 12), calendar.month_abbr[1:13], rotation=45)\n",
    "plt.show()"
   ]
  },
  {
   "cell_type": "code",
   "execution_count": 18,
   "metadata": {},
   "outputs": [
    {
     "data": {
      "image/png": "[encoded data removed]",
      "text/plain": [
       "<Figure size 1000x800 with 2 Axes>"
      ]
     },
     "metadata": {},
     "output_type": "display_data"
    }
   ],
   "source": [
    "# Exclude non-numeric columns from correlation calculation\n",
    "numeric_columns = data.select_dtypes(include=[np.number])\n",
    "\n",
    "# Calculate correlation matrix for numeric columns\n",
    "correlation_matrix = numeric_columns.corr()\n",
    "\n",
    "# Plotting the correlation heatmap\n",
    "plt.figure(figsize=(10, 8))\n",
    "sns.heatmap(correlation_matrix, annot=True, cmap='coolwarm', fmt='.2f')\n",
    "plt.title('Correlation Matrix Heatmap')\n",
    "plt.show()"
   ]
  },
  {
   "cell_type": "code",
   "execution_count": 19,
   "metadata": {},
   "outputs": [
    {
     "name": "stderr",
     "output_type": "stream",
     "text": [
      "c:\\Users\\dipra\\anaconda3\\Lib\\site-packages\\seaborn\\_oldcore.py:1119: FutureWarning: use_inf_as_na option is deprecated and will be removed in a future version. Convert inf values to NaN before operating instead.\n",
      "  with pd.option_context('mode.use_inf_as_na', True):\n",
      "c:\\Users\\dipra\\anaconda3\\Lib\\site-packages\\seaborn\\_oldcore.py:1119: FutureWarning: use_inf_as_na option is deprecated and will be removed in a future version. Convert inf values to NaN before operating instead.\n",
      "  with pd.option_context('mode.use_inf_as_na', True):\n",
      "c:\\Users\\dipra\\anaconda3\\Lib\\site-packages\\seaborn\\_oldcore.py:1119: FutureWarning: use_inf_as_na option is deprecated and will be removed in a future version. Convert inf values to NaN before operating instead.\n",
      "  with pd.option_context('mode.use_inf_as_na', True):\n",
      "c:\\Users\\dipra\\anaconda3\\Lib\\site-packages\\seaborn\\_oldcore.py:1119: FutureWarning: use_inf_as_na option is deprecated and will be removed in a future version. Convert inf values to NaN before operating instead.\n",
      "  with pd.option_context('mode.use_inf_as_na', True):\n",
      "c:\\Users\\dipra\\anaconda3\\Lib\\site-packages\\seaborn\\_oldcore.py:1119: FutureWarning: use_inf_as_na option is deprecated and will be removed in a future version. Convert inf values to NaN before operating instead.\n",
      "  with pd.option_context('mode.use_inf_as_na', True):\n"
     ]
    },
    {
     "data": {
      "image/png": "[encoded data removed]",
      "text/plain": [
       "<Figure size 1250x1250 with 30 Axes>"
      ]
     },
     "metadata": {},
     "output_type": "display_data"
    }
   ],
   "source": [
    "numerical_columns = ['Unemployment_Rate', 'Employed', 'Labor_Participation_Rate', 'longitude', 'latitude']\n",
    "sns.pairplot(data[numerical_columns])\n",
    "plt.title('Pairplot of Numerical Variables')\n",
    "plt.show()"
   ]
  },
  {
   "cell_type": "code",
   "execution_count": 20,
   "metadata": {},
   "outputs": [
    {
     "data": {
      "application/vnd.plotly.v1+json": {
       "config": {
        "plotlyServerURL": "https://plot.ly"
       },
       "data": [
        {
         "geo": "geo",
         "hovertemplate": "<b>%{hovertext}</b><br><br>State=Andhra Pradesh<br>Month=1<br>Unemployment_Rate=%{marker.size}<br>longitude=%{lat}<br>latitude=%{lon}<extra></extra>",
         "hovertext": [
          "Andhra Pradesh"
         ],
         "lat": [
          15.9129
         ],
         "legendgroup": "Andhra Pradesh",
         "lon": [
          79.74
         ],
         "marker": {
          "color": "#000001",
          "size": [
           5.48
          ],
          "sizemode": "area",
          "sizeref": 0.08427777777777777,
          "symbol": "circle"
         },
         "mode": "markers",
         "name": "Andhra Pradesh",
         "showlegend": true,
         "type": "scattergeo"
        },
        {
         "geo": "geo",
         "hovertemplate": "<b>%{hovertext}</b><br><br>State=Assam<br>Month=1<br>Unemployment_Rate=%{marker.size}<br>longitude=%{lat}<br>latitude=%{lon}<extra></extra>",
         "hovertext": [
          "Assam"
         ],
         "lat": [
          26.2006
         ],
         "legendgroup": "Assam",
         "lon": [
          92.9376
         ],
         "marker": {
          "color": "#000002",
          "size": [
           4.66
          ],
          "sizemode": "area",
          "sizeref": 0.08427777777777777,
          "symbol": "circle"
         },
         "mode": "markers",
         "name": "Assam",
         "showlegend": true,
         "type": "scattergeo"
        },
        {
         "geo": "geo",
         "hovertemplate": "<b>%{hovertext}</b><br><br>State=Bihar<br>Month=1<br>Unemployment_Rate=%{marker.size}<br>longitude=%{lat}<br>latitude=%{lon}<extra></extra>",
         "hovertext": [
          "Bihar"
         ],
         "lat": [
          25.0961
         ],
         "legendgroup": "Bihar",
         "lon": [
          85.3131
         ],
         "marker": {
          "color": "#000003",
          "size": [
           10.61
          ],
          "sizemode": "area",
          "sizeref": 0.08427777777777777,
          "symbol": "circle"
         },
         "mode": "markers",
         "name": "Bihar",
         "showlegend": true,
         "type": "scattergeo"
        },
        {
         "geo": "geo",
         "hovertemplate": "<b>%{hovertext}</b><br><br>State=Chhattisgarh<br>Month=1<br>Unemployment_Rate=%{marker.size}<br>longitude=%{lat}<br>latitude=%{lon}<extra></extra>",
         "hovertext": [
          "Chhattisgarh"
         ],
         "lat": [
          21.2787
         ],
         "legendgroup": "Chhattisgarh",
         "lon": [
          81.8661
         ],
         "marker": {
          "color": "#000004",
          "size": [
           9.65
          ],
          "sizemode": "area",
          "sizeref": 0.08427777777777777,
          "symbol": "circle"
         },
         "mode": "markers",
         "name": "Chhattisgarh",
         "showlegend": true,
         "type": "scattergeo"
        },
        {
         "geo": "geo",
         "hovertemplate": "<b>%{hovertext}</b><br><br>State=Delhi<br>Month=1<br>Unemployment_Rate=%{marker.size}<br>longitude=%{lat}<br>latitude=%{lon}<extra></extra>",
         "hovertext": [
          "Delhi"
         ],
         "lat": [
          28.7041
         ],
         "legendgroup": "Delhi",
         "lon": [
          77.1025
         ],
         "marker": {
          "color": "#000005",
          "size": [
           22.23
          ],
          "sizemode": "area",
          "sizeref": 0.08427777777777777,
          "symbol": "circle"
         },
         "mode": "markers",
         "name": "Delhi",
         "showlegend": true,
         "type": "scattergeo"
        },
        {
         "geo": "geo",
         "hovertemplate": "<b>%{hovertext}</b><br><br>State=Goa<br>Month=1<br>Unemployment_Rate=%{marker.size}<br>longitude=%{lat}<br>latitude=%{lon}<extra></extra>",
         "hovertext": [
          "Goa"
         ],
         "lat": [
          15.2993
         ],
         "legendgroup": "Goa",
         "lon": [
          74.124
         ],
         "marker": {
          "color": "#000006",
          "size": [
           8.89
          ],
          "sizemode": "area",
          "sizeref": 0.08427777777777777,
          "symbol": "circle"
         },
         "mode": "markers",
         "name": "Goa",
         "showlegend": true,
         "type": "scattergeo"
        },
        {
         "geo": "geo",
         "hovertemplate": "<b>%{hovertext}</b><br><br>State=Gujarat<br>Month=1<br>Unemployment_Rate=%{marker.size}<br>longitude=%{lat}<br>latitude=%{lon}<extra></extra>",
         "hovertext": [
          "Gujarat"
         ],
         "lat": [
          22.2587
         ],
         "legendgroup": "Gujarat",
         "lon": [
          71.1924
         ],
         "marker": {
          "color": "#000007",
          "size": [
           5.54
          ],
          "sizemode": "area",
          "sizeref": 0.08427777777777777,
          "symbol": "circle"
         },
         "mode": "markers",
         "name": "Gujarat",
         "showlegend": true,
         "type": "scattergeo"
        },
        {
         "geo": "geo",
         "hovertemplate": "<b>%{hovertext}</b><br><br>State=Haryana<br>Month=1<br>Unemployment_Rate=%{marker.size}<br>longitude=%{lat}<br>latitude=%{lon}<extra></extra>",
         "hovertext": [
          "Haryana"
         ],
         "lat": [
          29.0588
         ],
         "legendgroup": "Haryana",
         "lon": [
          76.0856
         ],
         "marker": {
          "color": "#000008",
          "size": [
           20.34
          ],
          "sizemode": "area",
          "sizeref": 0.08427777777777777,
          "symbol": "circle"
         },
         "mode": "markers",
         "name": "Haryana",
         "showlegend": true,
         "type": "scattergeo"
        },
        {
         "geo": "geo",
         "hovertemplate": "<b>%{hovertext}</b><br><br>State=Himachal Pradesh<br>Month=1<br>Unemployment_Rate=%{marker.size}<br>longitude=%{lat}<br>latitude=%{lon}<extra></extra>",
         "hovertext": [
          "Himachal Pradesh"
         ],
         "lat": [
          31.1048
         ],
         "legendgroup": "Himachal Pradesh",
         "lon": [
          77.1734
         ],
         "marker": {
          "color": "#000009",
          "size": [
           16.83
          ],
          "sizemode": "area",
          "sizeref": 0.08427777777777777,
          "symbol": "circle"
         },
         "mode": "markers",
         "name": "Himachal Pradesh",
         "showlegend": true,
         "type": "scattergeo"
        },
        {
         "geo": "geo",
         "hovertemplate": "<b>%{hovertext}</b><br><br>State=Jammu & Kashmir<br>Month=1<br>Unemployment_Rate=%{marker.size}<br>longitude=%{lat}<br>latitude=%{lon}<extra></extra>",
         "hovertext": [
          "Jammu & Kashmir"
         ],
         "lat": [
          33.7782
         ],
         "legendgroup": "Jammu & Kashmir",
         "lon": [
          76.5762
         ],
         "marker": {
          "color": "#000010",
          "size": [
           21.08
          ],
          "sizemode": "area",
          "sizeref": 0.08427777777777777,
          "symbol": "circle"
         },
         "mode": "markers",
         "name": "Jammu & Kashmir",
         "showlegend": true,
         "type": "scattergeo"
        },
        {
         "geo": "geo",
         "hovertemplate": "<b>%{hovertext}</b><br><br>State=Jharkhand<br>Month=1<br>Unemployment_Rate=%{marker.size}<br>longitude=%{lat}<br>latitude=%{lon}<extra></extra>",
         "hovertext": [
          "Jharkhand"
         ],
         "lat": [
          23.6102
         ],
         "legendgroup": "Jharkhand",
         "lon": [
          85.2799
         ],
         "marker": {
          "color": "#000001",
          "size": [
           10.61
          ],
          "sizemode": "area",
          "sizeref": 0.08427777777777777,
          "symbol": "circle"
         },
         "mode": "markers",
         "name": "Jharkhand",
         "showlegend": true,
         "type": "scattergeo"
        },
        {
         "geo": "geo",
         "hovertemplate": "<b>%{hovertext}</b><br><br>State=Karnataka<br>Month=1<br>Unemployment_Rate=%{marker.size}<br>longitude=%{lat}<br>latitude=%{lon}<extra></extra>",
         "hovertext": [
          "Karnataka"
         ],
         "lat": [
          15.3173
         ],
         "legendgroup": "Karnataka",
         "lon": [
          75.7139
         ],
         "marker": {
          "color": "#000002",
          "size": [
           2.86
          ],
          "sizemode": "area",
          "sizeref": 0.08427777777777777,
          "symbol": "circle"
         },
         "mode": "markers",
         "name": "Karnataka",
         "showlegend": true,
         "type": "scattergeo"
        },
        {
         "geo": "geo",
         "hovertemplate": "<b>%{hovertext}</b><br><br>State=Kerala<br>Month=1<br>Unemployment_Rate=%{marker.size}<br>longitude=%{lat}<br>latitude=%{lon}<extra></extra>",
         "hovertext": [
          "Kerala"
         ],
         "lat": [
          10.8505
         ],
         "legendgroup": "Kerala",
         "lon": [
          76.2711
         ],
         "marker": {
          "color": "#000003",
          "size": [
           5.31
          ],
          "sizemode": "area",
          "sizeref": 0.08427777777777777,
          "symbol": "circle"
         },
         "mode": "markers",
         "name": "Kerala",
         "showlegend": true,
         "type": "scattergeo"
        },
        {
         "geo": "geo",
         "hovertemplate": "<b>%{hovertext}</b><br><br>State=Madhya Pradesh<br>Month=1<br>Unemployment_Rate=%{marker.size}<br>longitude=%{lat}<br>latitude=%{lon}<extra></extra>",
         "hovertext": [
          "Madhya Pradesh"
         ],
         "lat": [
          22.9734
         ],
         "legendgroup": "Madhya Pradesh",
         "lon": [
          78.6569
         ],
         "marker": {
          "color": "#000004",
          "size": [
           4.11
          ],
          "sizemode": "area",
          "sizeref": 0.08427777777777777,
          "symbol": "circle"
         },
         "mode": "markers",
         "name": "Madhya Pradesh",
         "showlegend": true,
         "type": "scattergeo"
        },
        {
         "geo": "geo",
         "hovertemplate": "<b>%{hovertext}</b><br><br>State=Maharashtra<br>Month=1<br>Unemployment_Rate=%{marker.size}<br>longitude=%{lat}<br>latitude=%{lon}<extra></extra>",
         "hovertext": [
          "Maharashtra"
         ],
         "lat": [
          19.7515
         ],
         "legendgroup": "Maharashtra",
         "lon": [
          75.7139
         ],
         "marker": {
          "color": "#000005",
          "size": [
           4.95
          ],
          "sizemode": "area",
          "sizeref": 0.08427777777777777,
          "symbol": "circle"
         },
         "mode": "markers",
         "name": "Maharashtra",
         "showlegend": true,
         "type": "scattergeo"
        },
        {
         "geo": "geo",
         "hovertemplate": "<b>%{hovertext}</b><br><br>State=Meghalaya<br>Month=1<br>Unemployment_Rate=%{marker.size}<br>longitude=%{lat}<br>latitude=%{lon}<extra></extra>",
         "hovertext": [
          "Meghalaya"
         ],
         "lat": [
          25.467
         ],
         "legendgroup": "Meghalaya",
         "lon": [
          91.3662
         ],
         "marker": {
          "color": "#000006",
          "size": [
           1.66
          ],
          "sizemode": "area",
          "sizeref": 0.08427777777777777,
          "symbol": "circle"
         },
         "mode": "markers",
         "name": "Meghalaya",
         "showlegend": true,
         "type": "scattergeo"
        },
        {
         "geo": "geo",
         "hovertemplate": "<b>%{hovertext}</b><br><br>State=Odisha<br>Month=1<br>Unemployment_Rate=%{marker.size}<br>longitude=%{lat}<br>latitude=%{lon}<extra></extra>",
         "hovertext": [
          "Odisha"
         ],
         "lat": [
          20.9517
         ],
         "legendgroup": "Odisha",
         "lon": [
          85.0985
         ],
         "marker": {
          "color": "#000007",
          "size": [
           1.9
          ],
          "sizemode": "area",
          "sizeref": 0.08427777777777777,
          "symbol": "circle"
         },
         "mode": "markers",
         "name": "Odisha",
         "showlegend": true,
         "type": "scattergeo"
        },
        {
         "geo": "geo",
         "hovertemplate": "<b>%{hovertext}</b><br><br>State=Puducherry<br>Month=1<br>Unemployment_Rate=%{marker.size}<br>longitude=%{lat}<br>latitude=%{lon}<extra></extra>",
         "hovertext": [
          "Puducherry"
         ],
         "lat": [
          11.9416
         ],
         "legendgroup": "Puducherry",
         "lon": [
          79.8083
         ],
         "marker": {
          "color": "#000008",
          "size": [
           0.58
          ],
          "sizemode": "area",
          "sizeref": 0.08427777777777777,
          "symbol": "circle"
         },
         "mode": "markers",
         "name": "Puducherry",
         "showlegend": true,
         "type": "scattergeo"
        },
        {
         "geo": "geo",
         "hovertemplate": "<b>%{hovertext}</b><br><br>State=Punjab<br>Month=1<br>Unemployment_Rate=%{marker.size}<br>longitude=%{lat}<br>latitude=%{lon}<extra></extra>",
         "hovertext": [
          "Punjab"
         ],
         "lat": [
          31.1471
         ],
         "legendgroup": "Punjab",
         "lon": [
          75.3412
         ],
         "marker": {
          "color": "#000009",
          "size": [
           11.11
          ],
          "sizemode": "area",
          "sizeref": 0.08427777777777777,
          "symbol": "circle"
         },
         "mode": "markers",
         "name": "Punjab",
         "showlegend": true,
         "type": "scattergeo"
        },
        {
         "geo": "geo",
         "hovertemplate": "<b>%{hovertext}</b><br><br>State=Rajasthan<br>Month=1<br>Unemployment_Rate=%{marker.size}<br>longitude=%{lat}<br>latitude=%{lon}<extra></extra>",
         "hovertext": [
          "Rajasthan"
         ],
         "lat": [
          27.0238
         ],
         "legendgroup": "Rajasthan",
         "lon": [
          74.2179
         ],
         "marker": {
          "color": "#000010",
          "size": [
           10.97
          ],
          "sizemode": "area",
          "sizeref": 0.08427777777777777,
          "symbol": "circle"
         },
         "mode": "markers",
         "name": "Rajasthan",
         "showlegend": true,
         "type": "scattergeo"
        },
        {
         "geo": "geo",
         "hovertemplate": "<b>%{hovertext}</b><br><br>State=Tamil Nadu<br>Month=1<br>Unemployment_Rate=%{marker.size}<br>longitude=%{lat}<br>latitude=%{lon}<extra></extra>",
         "hovertext": [
          "Tamil Nadu"
         ],
         "lat": [
          11.1271
         ],
         "legendgroup": "Tamil Nadu",
         "lon": [
          78.6569
         ],
         "marker": {
          "color": "#000002",
          "size": [
           1.57
          ],
          "sizemode": "area",
          "sizeref": 0.08427777777777777,
          "symbol": "circle"
         },
         "mode": "markers",
         "name": "Tamil Nadu",
         "showlegend": true,
         "type": "scattergeo"
        },
        {
         "geo": "geo",
         "hovertemplate": "<b>%{hovertext}</b><br><br>State=Telangana<br>Month=1<br>Unemployment_Rate=%{marker.size}<br>longitude=%{lat}<br>latitude=%{lon}<extra></extra>",
         "hovertext": [
          "Telangana"
         ],
         "lat": [
          18.1124
         ],
         "legendgroup": "Telangana",
         "lon": [
          79.0193
         ],
         "marker": {
          "color": "#000003",
          "size": [
           5.49
          ],
          "sizemode": "area",
          "sizeref": 0.08427777777777777,
          "symbol": "circle"
         },
         "mode": "markers",
         "name": "Telangana",
         "showlegend": true,
         "type": "scattergeo"
        },
        {
         "geo": "geo",
         "hovertemplate": "<b>%{hovertext}</b><br><br>State=Tripura<br>Month=1<br>Unemployment_Rate=%{marker.size}<br>longitude=%{lat}<br>latitude=%{lon}<extra></extra>",
         "hovertext": [
          "Tripura"
         ],
         "lat": [
          23.9408
         ],
         "legendgroup": "Tripura",
         "lon": [
          91.9882
         ],
         "marker": {
          "color": "#000004",
          "size": [
           32.67
          ],
          "sizemode": "area",
          "sizeref": 0.08427777777777777,
          "symbol": "circle"
         },
         "mode": "markers",
         "name": "Tripura",
         "showlegend": true,
         "type": "scattergeo"
        },
        {
         "geo": "geo",
         "hovertemplate": "<b>%{hovertext}</b><br><br>State=Uttar Pradesh<br>Month=1<br>Unemployment_Rate=%{marker.size}<br>longitude=%{lat}<br>latitude=%{lon}<extra></extra>",
         "hovertext": [
          "Uttar Pradesh"
         ],
         "lat": [
          26.8467
         ],
         "legendgroup": "Uttar Pradesh",
         "lon": [
          80.9462
         ],
         "marker": {
          "color": "#000005",
          "size": [
           7.58
          ],
          "sizemode": "area",
          "sizeref": 0.08427777777777777,
          "symbol": "circle"
         },
         "mode": "markers",
         "name": "Uttar Pradesh",
         "showlegend": true,
         "type": "scattergeo"
        },
        {
         "geo": "geo",
         "hovertemplate": "<b>%{hovertext}</b><br><br>State=Uttarakhand<br>Month=1<br>Unemployment_Rate=%{marker.size}<br>longitude=%{lat}<br>latitude=%{lon}<extra></extra>",
         "hovertext": [
          "Uttarakhand"
         ],
         "lat": [
          30.0668
         ],
         "legendgroup": "Uttarakhand",
         "lon": [
          79.0193
         ],
         "marker": {
          "color": "#000006",
          "size": [
           5.49
          ],
          "sizemode": "area",
          "sizeref": 0.08427777777777777,
          "symbol": "circle"
         },
         "mode": "markers",
         "name": "Uttarakhand",
         "showlegend": true,
         "type": "scattergeo"
        },
        {
         "geo": "geo",
         "hovertemplate": "<b>%{hovertext}</b><br><br>State=West Bengal<br>Month=1<br>Unemployment_Rate=%{marker.size}<br>longitude=%{lat}<br>latitude=%{lon}<extra></extra>",
         "hovertext": [
          "West Bengal"
         ],
         "lat": [
          22.9868
         ],
         "legendgroup": "West Bengal",
         "lon": [
          87.855
         ],
         "marker": {
          "color": "#000007",
          "size": [
           6.94
          ],
          "sizemode": "area",
          "sizeref": 0.08427777777777777,
          "symbol": "circle"
         },
         "mode": "markers",
         "name": "West Bengal",
         "showlegend": true,
         "type": "scattergeo"
        }
       ],
       "frames": [
        {
         "data": [
          {
           "geo": "geo",
           "hovertemplate": "<b>%{hovertext}</b><br><br>State=Andhra Pradesh<br>Month=1<br>Unemployment_Rate=%{marker.size}<br>longitude=%{lat}<br>latitude=%{lon}<extra></extra>",
           "hovertext": [
            "Andhra Pradesh"
           ],
           "lat": [
            15.9129
           ],
           "legendgroup": "Andhra Pradesh",
           "lon": [
            79.74
           ],
           "marker": {
            "color": "#000001",
            "size": [
             5.48
            ],
            "sizemode": "area",
            "sizeref": 0.08427777777777777,
            "symbol": "circle"
           },
           "mode": "markers",
           "name": "Andhra Pradesh",
           "showlegend": true,
           "type": "scattergeo"
          },
          {
           "geo": "geo",
           "hovertemplate": "<b>%{hovertext}</b><br><br>State=Assam<br>Month=1<br>Unemployment_Rate=%{marker.size}<br>longitude=%{lat}<br>latitude=%{lon}<extra></extra>",
           "hovertext": [
            "Assam"
           ],
           "lat": [
            26.2006
           ],
           "legendgroup": "Assam",
           "lon": [
            92.9376
           ],
           "marker": {
            "color": "#000002",
            "size": [
             4.66
            ],
            "sizemode": "area",
            "sizeref": 0.08427777777777777,
            "symbol": "circle"
           },
           "mode": "markers",
           "name": "Assam",
           "showlegend": true,
           "type": "scattergeo"
          },
          {
           "geo": "geo",
           "hovertemplate": "<b>%{hovertext}</b><br><br>State=Bihar<br>Month=1<br>Unemployment_Rate=%{marker.size}<br>longitude=%{lat}<br>latitude=%{lon}<extra></extra>",
           "hovertext": [
            "Bihar"
           ],
           "lat": [
            25.0961
           ],
           "legendgroup": "Bihar",
           "lon": [
            85.3131
           ],
           "marker": {
            "color": "#000003",
            "size": [
             10.61
            ],
            "sizemode": "area",
            "sizeref": 0.08427777777777777,
            "symbol": "circle"
           },
           "mode": "markers",
           "name": "Bihar",
           "showlegend": true,
           "type": "scattergeo"
          },
          {
           "geo": "geo",
           "hovertemplate": "<b>%{hovertext}</b><br><br>State=Chhattisgarh<br>Month=1<br>Unemployment_Rate=%{marker.size}<br>longitude=%{lat}<br>latitude=%{lon}<extra></extra>",
           "hovertext": [
            "Chhattisgarh"
           ],
           "lat": [
            21.2787
           ],
           "legendgroup": "Chhattisgarh",
           "lon": [
            81.8661
           ],
           "marker": {
            "color": "#000004",
            "size": [
             9.65
            ],
            "sizemode": "area",
            "sizeref": 0.08427777777777777,
            "symbol": "circle"
           },
           "mode": "markers",
           "name": "Chhattisgarh",
           "showlegend": true,
           "type": "scattergeo"
          },
          {
           "geo": "geo",
           "hovertemplate": "<b>%{hovertext}</b><br><br>State=Delhi<br>Month=1<br>Unemployment_Rate=%{marker.size}<br>longitude=%{lat}<br>latitude=%{lon}<extra></extra>",
           "hovertext": [
            "Delhi"
           ],
           "lat": [
            28.7041
           ],
           "legendgroup": "Delhi",
           "lon": [
            77.1025
           ],
           "marker": {
            "color": "#000005",
            "size": [
             22.23
            ],
            "sizemode": "area",
            "sizeref": 0.08427777777777777,
            "symbol": "circle"
           },
           "mode": "markers",
           "name": "Delhi",
           "showlegend": true,
           "type": "scattergeo"
          },
          {
           "geo": "geo",
           "hovertemplate": "<b>%{hovertext}</b><br><br>State=Goa<br>Month=1<br>Unemployment_Rate=%{marker.size}<br>longitude=%{lat}<br>latitude=%{lon}<extra></extra>",
           "hovertext": [
            "Goa"
           ],
           "lat": [
            15.2993
           ],
           "legendgroup": "Goa",
           "lon": [
            74.124
           ],
           "marker": {
            "color": "#000006",
            "size": [
             8.89
            ],
            "sizemode": "area",
            "sizeref": 0.08427777777777777,
            "symbol": "circle"
           },
           "mode": "markers",
           "name": "Goa",
           "showlegend": true,
           "type": "scattergeo"
          },
          {
           "geo": "geo",
           "hovertemplate": "<b>%{hovertext}</b><br><br>State=Gujarat<br>Month=1<br>Unemployment_Rate=%{marker.size}<br>longitude=%{lat}<br>latitude=%{lon}<extra></extra>",
           "hovertext": [
            "Gujarat"
           ],
           "lat": [
            22.2587
           ],
           "legendgroup": "Gujarat",
           "lon": [
            71.1924
           ],
           "marker": {
            "color": "#000007",
            "size": [
             5.54
            ],
            "sizemode": "area",
            "sizeref": 0.08427777777777777,
            "symbol": "circle"
           },
           "mode": "markers",
           "name": "Gujarat",
           "showlegend": true,
           "type": "scattergeo"
          },
          {
           "geo": "geo",
           "hovertemplate": "<b>%{hovertext}</b><br><br>State=Haryana<br>Month=1<br>Unemployment_Rate=%{marker.size}<br>longitude=%{lat}<br>latitude=%{lon}<extra></extra>",
           "hovertext": [
            "Haryana"
           ],
           "lat": [
            29.0588
           ],
           "legendgroup": "Haryana",
           "lon": [
            76.0856
           ],
           "marker": {
            "color": "#000008",
            "size": [
             20.34
            ],
            "sizemode": "area",
            "sizeref": 0.08427777777777777,
            "symbol": "circle"
           },
           "mode": "markers",
           "name": "Haryana",
           "showlegend": true,
           "type": "scattergeo"
          },
          {
           "geo": "geo",
           "hovertemplate": "<b>%{hovertext}</b><br><br>State=Himachal Pradesh<br>Month=1<br>Unemployment_Rate=%{marker.size}<br>longitude=%{lat}<br>latitude=%{lon}<extra></extra>",
           "hovertext": [
            "Himachal Pradesh"
           ],
           "lat": [
            31.1048
           ],
           "legendgroup": "Himachal Pradesh",
           "lon": [
            77.1734
           ],
           "marker": {
            "color": "#000009",
            "size": [
             16.83
            ],
            "sizemode": "area",
            "sizeref": 0.08427777777777777,
            "symbol": "circle"
           },
           "mode": "markers",
           "name": "Himachal Pradesh",
           "showlegend": true,
           "type": "scattergeo"
          },
          {
           "geo": "geo",
           "hovertemplate": "<b>%{hovertext}</b><br><br>State=Jammu & Kashmir<br>Month=1<br>Unemployment_Rate=%{marker.size}<br>longitude=%{lat}<br>latitude=%{lon}<extra></extra>",
           "hovertext": [
            "Jammu & Kashmir"
           ],
           "lat": [
            33.7782
           ],
           "legendgroup": "Jammu & Kashmir",
           "lon": [
            76.5762
           ],
           "marker": {
            "color": "#000010",
            "size": [
             21.08
            ],
            "sizemode": "area",
            "sizeref": 0.08427777777777777,
            "symbol": "circle"
           },
           "mode": "markers",
           "name": "Jammu & Kashmir",
           "showlegend": true,
           "type": "scattergeo"
          },
          {
           "geo": "geo",
           "hovertemplate": "<b>%{hovertext}</b><br><br>State=Jharkhand<br>Month=1<br>Unemployment_Rate=%{marker.size}<br>longitude=%{lat}<br>latitude=%{lon}<extra></extra>",
           "hovertext": [
            "Jharkhand"
           ],
           "lat": [
            23.6102
           ],
           "legendgroup": "Jharkhand",
           "lon": [
            85.2799
           ],
           "marker": {
            "color": "#000001",
            "size": [
             10.61
            ],
            "sizemode": "area",
            "sizeref": 0.08427777777777777,
            "symbol": "circle"
           },
           "mode": "markers",
           "name": "Jharkhand",
           "showlegend": true,
           "type": "scattergeo"
          },
          {
           "geo": "geo",
           "hovertemplate": "<b>%{hovertext}</b><br><br>State=Karnataka<br>Month=1<br>Unemployment_Rate=%{marker.size}<br>longitude=%{lat}<br>latitude=%{lon}<extra></extra>",
           "hovertext": [
            "Karnataka"
           ],
           "lat": [
            15.3173
           ],
           "legendgroup": "Karnataka",
           "lon": [
            75.7139
           ],
           "marker": {
            "color": "#000002",
            "size": [
             2.86
            ],
            "sizemode": "area",
            "sizeref": 0.08427777777777777,
            "symbol": "circle"
           },
           "mode": "markers",
           "name": "Karnataka",
           "showlegend": true,
           "type": "scattergeo"
          },
          {
           "geo": "geo",
           "hovertemplate": "<b>%{hovertext}</b><br><br>State=Kerala<br>Month=1<br>Unemployment_Rate=%{marker.size}<br>longitude=%{lat}<br>latitude=%{lon}<extra></extra>",
           "hovertext": [
            "Kerala"
           ],
           "lat": [
            10.8505
           ],
           "legendgroup": "Kerala",
           "lon": [
            76.2711
           ],
           "marker": {
            "color": "#000003",
            "size": [
             5.31
            ],
            "sizemode": "area",
            "sizeref": 0.08427777777777777,
            "symbol": "circle"
           },
           "mode": "markers",
           "name": "Kerala",
           "showlegend": true,
           "type": "scattergeo"
          },
          {
           "geo": "geo",
           "hovertemplate": "<b>%{hovertext}</b><br><br>State=Madhya Pradesh<br>Month=1<br>Unemployment_Rate=%{marker.size}<br>longitude=%{lat}<br>latitude=%{lon}<extra></extra>",
           "hovertext": [
            "Madhya Pradesh"
           ],
           "lat": [
            22.9734
           ],
           "legendgroup": "Madhya Pradesh",
           "lon": [
            78.6569
           ],
           "marker": {
            "color": "#000004",
            "size": [
             4.11
            ],
            "sizemode": "area",
            "sizeref": 0.08427777777777777,
            "symbol": "circle"
           },
           "mode": "markers",
           "name": "Madhya Pradesh",
           "showlegend": true,
           "type": "scattergeo"
          },
          {
           "geo": "geo",
           "hovertemplate": "<b>%{hovertext}</b><br><br>State=Maharashtra<br>Month=1<br>Unemployment_Rate=%{marker.size}<br>longitude=%{lat}<br>latitude=%{lon}<extra></extra>",
           "hovertext": [
            "Maharashtra"
           ],
           "lat": [
            19.7515
           ],
           "legendgroup": "Maharashtra",
           "lon": [
            75.7139
           ],
           "marker": {
            "color": "#000005",
            "size": [
             4.95
            ],
            "sizemode": "area",
            "sizeref": 0.08427777777777777,
            "symbol": "circle"
           },
           "mode": "markers",
           "name": "Maharashtra",
           "showlegend": true,
           "type": "scattergeo"
          },
          {
           "geo": "geo",
           "hovertemplate": "<b>%{hovertext}</b><br><br>State=Meghalaya<br>Month=1<br>Unemployment_Rate=%{marker.size}<br>longitude=%{lat}<br>latitude=%{lon}<extra></extra>",
           "hovertext": [
            "Meghalaya"
           ],
           "lat": [
            25.467
           ],
           "legendgroup": "Meghalaya",
           "lon": [
            91.3662
           ],
           "marker": {
            "color": "#000006",
            "size": [
             1.66
            ],
            "sizemode": "area",
            "sizeref": 0.08427777777777777,
            "symbol": "circle"
           },
           "mode": "markers",
           "name": "Meghalaya",
           "showlegend": true,
           "type": "scattergeo"
          },
          {
           "geo": "geo",
           "hovertemplate": "<b>%{hovertext}</b><br><br>State=Odisha<br>Month=1<br>Unemployment_Rate=%{marker.size}<br>longitude=%{lat}<br>latitude=%{lon}<extra></extra>",
           "hovertext": [
            "Odisha"
           ],
           "lat": [
            20.9517
           ],
           "legendgroup": "Odisha",
           "lon": [
            85.0985
           ],
           "marker": {
            "color": "#000007",
            "size": [
             1.9
            ],
            "sizemode": "area",
            "sizeref": 0.08427777777777777,
            "symbol": "circle"
           },
           "mode": "markers",
           "name": "Odisha",
           "showlegend": true,
           "type": "scattergeo"
          },
          {
           "geo": "geo",
           "hovertemplate": "<b>%{hovertext}</b><br><br>State=Puducherry<br>Month=1<br>Unemployment_Rate=%{marker.size}<br>longitude=%{lat}<br>latitude=%{lon}<extra></extra>",
           "hovertext": [
            "Puducherry"
           ],
           "lat": [
            11.9416
           ],
           "legendgroup": "Puducherry",
           "lon": [
            79.8083
           ],
           "marker": {
            "color": "#000008",
            "size": [
             0.58
            ],
            "sizemode": "area",
            "sizeref": 0.08427777777777777,
            "symbol": "circle"
           },
           "mode": "markers",
           "name": "Puducherry",
           "showlegend": true,
           "type": "scattergeo"
          },
          {
           "geo": "geo",
           "hovertemplate": "<b>%{hovertext}</b><br><br>State=Punjab<br>Month=1<br>Unemployment_Rate=%{marker.size}<br>longitude=%{lat}<br>latitude=%{lon}<extra></extra>",
           "hovertext": [
            "Punjab"
           ],
           "lat": [
            31.1471
           ],
           "legendgroup": "Punjab",
           "lon": [
            75.3412
           ],
           "marker": {
            "color": "#000009",
            "size": [
             11.11
            ],
            "sizemode": "area",
            "sizeref": 0.08427777777777777,
            "symbol": "circle"
           },
           "mode": "markers",
           "name": "Punjab",
           "showlegend": true,
           "type": "scattergeo"
          },
          {
           "geo": "geo",
           "hovertemplate": "<b>%{hovertext}</b><br><br>State=Rajasthan<br>Month=1<br>Unemployment_Rate=%{marker.size}<br>longitude=%{lat}<br>latitude=%{lon}<extra></extra>",
           "hovertext": [
            "Rajasthan"
           ],
           "lat": [
            27.0238
           ],
           "legendgroup": "Rajasthan",
           "lon": [
            74.2179
           ],
           "marker": {
            "color": "#000010",
            "size": [
             10.97
            ],
            "sizemode": "area",
            "sizeref": 0.08427777777777777,
            "symbol": "circle"
           },
           "mode": "markers",
           "name": "Rajasthan",
           "showlegend": true,
           "type": "scattergeo"
          },
          {
           "geo": "geo",
           "hovertemplate": "<b>%{hovertext}</b><br><br>State=Tamil Nadu<br>Month=1<br>Unemployment_Rate=%{marker.size}<br>longitude=%{lat}<br>latitude=%{lon}<extra></extra>",
           "hovertext": [
            "Tamil Nadu"
           ],
           "lat": [
            11.1271
           ],
           "legendgroup": "Tamil Nadu",
           "lon": [
            78.6569
           ],
           "marker": {
            "color": "#000002",
            "size": [
             1.57
            ],
            "sizemode": "area",
            "sizeref": 0.08427777777777777,
            "symbol": "circle"
           },
           "mode": "markers",
           "name": "Tamil Nadu",
           "showlegend": true,
           "type": "scattergeo"
          },
          {
           "geo": "geo",
           "hovertemplate": "<b>%{hovertext}</b><br><br>State=Telangana<br>Month=1<br>Unemployment_Rate=%{marker.size}<br>longitude=%{lat}<br>latitude=%{lon}<extra></extra>",
           "hovertext": [
            "Telangana"
           ],
           "lat": [
            18.1124
           ],
           "legendgroup": "Telangana",
           "lon": [
            79.0193
           ],
           "marker": {
            "color": "#000003",
            "size": [
             5.49
            ],
            "sizemode": "area",
            "sizeref": 0.08427777777777777,
            "symbol": "circle"
           },
           "mode": "markers",
           "name": "Telangana",
           "showlegend": true,
           "type": "scattergeo"
          },
          {
           "geo": "geo",
           "hovertemplate": "<b>%{hovertext}</b><br><br>State=Tripura<br>Month=1<br>Unemployment_Rate=%{marker.size}<br>longitude=%{lat}<br>latitude=%{lon}<extra></extra>",
           "hovertext": [
            "Tripura"
           ],
           "lat": [
            23.9408
           ],
           "legendgroup": "Tripura",
           "lon": [
            91.9882
           ],
           "marker": {
            "color": "#000004",
            "size": [
             32.67
            ],
            "sizemode": "area",
            "sizeref": 0.08427777777777777,
            "symbol": "circle"
           },
           "mode": "markers",
           "name": "Tripura",
           "showlegend": true,
           "type": "scattergeo"
          },
          {
           "geo": "geo",
           "hovertemplate": "<b>%{hovertext}</b><br><br>State=Uttar Pradesh<br>Month=1<br>Unemployment_Rate=%{marker.size}<br>longitude=%{lat}<br>latitude=%{lon}<extra></extra>",
           "hovertext": [
            "Uttar Pradesh"
           ],
           "lat": [
            26.8467
           ],
           "legendgroup": "Uttar Pradesh",
           "lon": [
            80.9462
           ],
           "marker": {
            "color": "#000005",
            "size": [
             7.58
            ],
            "sizemode": "area",
            "sizeref": 0.08427777777777777,
            "symbol": "circle"
           },
           "mode": "markers",
           "name": "Uttar Pradesh",
           "showlegend": true,
           "type": "scattergeo"
          },
          {
           "geo": "geo",
           "hovertemplate": "<b>%{hovertext}</b><br><br>State=Uttarakhand<br>Month=1<br>Unemployment_Rate=%{marker.size}<br>longitude=%{lat}<br>latitude=%{lon}<extra></extra>",
           "hovertext": [
            "Uttarakhand"
           ],
           "lat": [
            30.0668
           ],
           "legendgroup": "Uttarakhand",
           "lon": [
            79.0193
           ],
           "marker": {
            "color": "#000006",
            "size": [
             5.49
            ],
            "sizemode": "area",
            "sizeref": 0.08427777777777777,
            "symbol": "circle"
           },
           "mode": "markers",
           "name": "Uttarakhand",
           "showlegend": true,
           "type": "scattergeo"
          },
          {
           "geo": "geo",
           "hovertemplate": "<b>%{hovertext}</b><br><br>State=West Bengal<br>Month=1<br>Unemployment_Rate=%{marker.size}<br>longitude=%{lat}<br>latitude=%{lon}<extra></extra>",
           "hovertext": [
            "West Bengal"
           ],
           "lat": [
            22.9868
           ],
           "legendgroup": "West Bengal",
           "lon": [
            87.855
           ],
           "marker": {
            "color": "#000007",
            "size": [
             6.94
            ],
            "sizemode": "area",
            "sizeref": 0.08427777777777777,
            "symbol": "circle"
           },
           "mode": "markers",
           "name": "West Bengal",
           "showlegend": true,
           "type": "scattergeo"
          }
         ],
         "name": "1"
        },
        {
         "data": [
          {
           "geo": "geo",
           "hovertemplate": "<b>%{hovertext}</b><br><br>State=Andhra Pradesh<br>Month=2<br>Unemployment_Rate=%{marker.size}<br>longitude=%{lat}<br>latitude=%{lon}<extra></extra>",
           "hovertext": [
            "Andhra Pradesh"
           ],
           "lat": [
            15.9129
           ],
           "legendgroup": "Andhra Pradesh",
           "lon": [
            79.74
           ],
           "marker": {
            "color": "#000001",
            "size": [
             5.83
            ],
            "sizemode": "area",
            "sizeref": 0.08427777777777777,
            "symbol": "circle"
           },
           "mode": "markers",
           "name": "Andhra Pradesh",
           "showlegend": true,
           "type": "scattergeo"
          },
          {
           "geo": "geo",
           "hovertemplate": "<b>%{hovertext}</b><br><br>State=Assam<br>Month=2<br>Unemployment_Rate=%{marker.size}<br>longitude=%{lat}<br>latitude=%{lon}<extra></extra>",
           "hovertext": [
            "Assam"
           ],
           "lat": [
            26.2006
           ],
           "legendgroup": "Assam",
           "lon": [
            92.9376
           ],
           "marker": {
            "color": "#000002",
            "size": [
             4.41
            ],
            "sizemode": "area",
            "sizeref": 0.08427777777777777,
            "symbol": "circle"
           },
           "mode": "markers",
           "name": "Assam",
           "showlegend": true,
           "type": "scattergeo"
          },
          {
           "geo": "geo",
           "hovertemplate": "<b>%{hovertext}</b><br><br>State=Bihar<br>Month=2<br>Unemployment_Rate=%{marker.size}<br>longitude=%{lat}<br>latitude=%{lon}<extra></extra>",
           "hovertext": [
            "Bihar"
           ],
           "lat": [
            25.0961
           ],
           "legendgroup": "Bihar",
           "lon": [
            85.3131
           ],
           "marker": {
            "color": "#000003",
            "size": [
             10.29
            ],
            "sizemode": "area",
            "sizeref": 0.08427777777777777,
            "symbol": "circle"
           },
           "mode": "markers",
           "name": "Bihar",
           "showlegend": true,
           "type": "scattergeo"
          },
          {
           "geo": "geo",
           "hovertemplate": "<b>%{hovertext}</b><br><br>State=Chhattisgarh<br>Month=2<br>Unemployment_Rate=%{marker.size}<br>longitude=%{lat}<br>latitude=%{lon}<extra></extra>",
           "hovertext": [
            "Chhattisgarh"
           ],
           "lat": [
            21.2787
           ],
           "legendgroup": "Chhattisgarh",
           "lon": [
            81.8661
           ],
           "marker": {
            "color": "#000004",
            "size": [
             8.38
            ],
            "sizemode": "area",
            "sizeref": 0.08427777777777777,
            "symbol": "circle"
           },
           "mode": "markers",
           "name": "Chhattisgarh",
           "showlegend": true,
           "type": "scattergeo"
          },
          {
           "geo": "geo",
           "hovertemplate": "<b>%{hovertext}</b><br><br>State=Delhi<br>Month=2<br>Unemployment_Rate=%{marker.size}<br>longitude=%{lat}<br>latitude=%{lon}<extra></extra>",
           "hovertext": [
            "Delhi"
           ],
           "lat": [
            28.7041
           ],
           "legendgroup": "Delhi",
           "lon": [
            77.1025
           ],
           "marker": {
            "color": "#000005",
            "size": [
             14.84
            ],
            "sizemode": "area",
            "sizeref": 0.08427777777777777,
            "symbol": "circle"
           },
           "mode": "markers",
           "name": "Delhi",
           "showlegend": true,
           "type": "scattergeo"
          },
          {
           "geo": "geo",
           "hovertemplate": "<b>%{hovertext}</b><br><br>State=Goa<br>Month=2<br>Unemployment_Rate=%{marker.size}<br>longitude=%{lat}<br>latitude=%{lon}<extra></extra>",
           "hovertext": [
            "Goa"
           ],
           "lat": [
            15.2993
           ],
           "legendgroup": "Goa",
           "lon": [
            74.124
           ],
           "marker": {
            "color": "#000006",
            "size": [
             2.81
            ],
            "sizemode": "area",
            "sizeref": 0.08427777777777777,
            "symbol": "circle"
           },
           "mode": "markers",
           "name": "Goa",
           "showlegend": true,
           "type": "scattergeo"
          },
          {
           "geo": "geo",
           "hovertemplate": "<b>%{hovertext}</b><br><br>State=Gujarat<br>Month=2<br>Unemployment_Rate=%{marker.size}<br>longitude=%{lat}<br>latitude=%{lon}<extra></extra>",
           "hovertext": [
            "Gujarat"
           ],
           "lat": [
            22.2587
           ],
           "legendgroup": "Gujarat",
           "lon": [
            71.1924
           ],
           "marker": {
            "color": "#000007",
            "size": [
             6.38
            ],
            "sizemode": "area",
            "sizeref": 0.08427777777777777,
            "symbol": "circle"
           },
           "mode": "markers",
           "name": "Gujarat",
           "showlegend": true,
           "type": "scattergeo"
          },
          {
           "geo": "geo",
           "hovertemplate": "<b>%{hovertext}</b><br><br>State=Haryana<br>Month=2<br>Unemployment_Rate=%{marker.size}<br>longitude=%{lat}<br>latitude=%{lon}<extra></extra>",
           "hovertext": [
            "Haryana"
           ],
           "lat": [
            29.0588
           ],
           "legendgroup": "Haryana",
           "lon": [
            76.0856
           ],
           "marker": {
            "color": "#000008",
            "size": [
             25.77
            ],
            "sizemode": "area",
            "sizeref": 0.08427777777777777,
            "symbol": "circle"
           },
           "mode": "markers",
           "name": "Haryana",
           "showlegend": true,
           "type": "scattergeo"
          },
          {
           "geo": "geo",
           "hovertemplate": "<b>%{hovertext}</b><br><br>State=Himachal Pradesh<br>Month=2<br>Unemployment_Rate=%{marker.size}<br>longitude=%{lat}<br>latitude=%{lon}<extra></extra>",
           "hovertext": [
            "Himachal Pradesh"
           ],
           "lat": [
            31.1048
           ],
           "legendgroup": "Himachal Pradesh",
           "lon": [
            77.1734
           ],
           "marker": {
            "color": "#000009",
            "size": [
             16.84
            ],
            "sizemode": "area",
            "sizeref": 0.08427777777777777,
            "symbol": "circle"
           },
           "mode": "markers",
           "name": "Himachal Pradesh",
           "showlegend": true,
           "type": "scattergeo"
          },
          {
           "geo": "geo",
           "hovertemplate": "<b>%{hovertext}</b><br><br>State=Jammu & Kashmir<br>Month=2<br>Unemployment_Rate=%{marker.size}<br>longitude=%{lat}<br>latitude=%{lon}<extra></extra>",
           "hovertext": [
            "Jammu & Kashmir"
           ],
           "lat": [
            33.7782
           ],
           "legendgroup": "Jammu & Kashmir",
           "lon": [
            76.5762
           ],
           "marker": {
            "color": "#000010",
            "size": [
             20.78
            ],
            "sizemode": "area",
            "sizeref": 0.08427777777777777,
            "symbol": "circle"
           },
           "mode": "markers",
           "name": "Jammu & Kashmir",
           "showlegend": true,
           "type": "scattergeo"
          },
          {
           "geo": "geo",
           "hovertemplate": "<b>%{hovertext}</b><br><br>State=Jharkhand<br>Month=2<br>Unemployment_Rate=%{marker.size}<br>longitude=%{lat}<br>latitude=%{lon}<extra></extra>",
           "hovertext": [
            "Jharkhand"
           ],
           "lat": [
            23.6102
           ],
           "legendgroup": "Jharkhand",
           "lon": [
            85.2799
           ],
           "marker": {
            "color": "#000001",
            "size": [
             11.85
            ],
            "sizemode": "area",
            "sizeref": 0.08427777777777777,
            "symbol": "circle"
           },
           "mode": "markers",
           "name": "Jharkhand",
           "showlegend": true,
           "type": "scattergeo"
          },
          {
           "geo": "geo",
           "hovertemplate": "<b>%{hovertext}</b><br><br>State=Karnataka<br>Month=2<br>Unemployment_Rate=%{marker.size}<br>longitude=%{lat}<br>latitude=%{lon}<extra></extra>",
           "hovertext": [
            "Karnataka"
           ],
           "lat": [
            15.3173
           ],
           "legendgroup": "Karnataka",
           "lon": [
            75.7139
           ],
           "marker": {
            "color": "#000002",
            "size": [
             3.61
            ],
            "sizemode": "area",
            "sizeref": 0.08427777777777777,
            "symbol": "circle"
           },
           "mode": "markers",
           "name": "Karnataka",
           "showlegend": true,
           "type": "scattergeo"
          },
          {
           "geo": "geo",
           "hovertemplate": "<b>%{hovertext}</b><br><br>State=Kerala<br>Month=2<br>Unemployment_Rate=%{marker.size}<br>longitude=%{lat}<br>latitude=%{lon}<extra></extra>",
           "hovertext": [
            "Kerala"
           ],
           "lat": [
            10.8505
           ],
           "legendgroup": "Kerala",
           "lon": [
            76.2711
           ],
           "marker": {
            "color": "#000003",
            "size": [
             7.6
            ],
            "sizemode": "area",
            "sizeref": 0.08427777777777777,
            "symbol": "circle"
           },
           "mode": "markers",
           "name": "Kerala",
           "showlegend": true,
           "type": "scattergeo"
          },
          {
           "geo": "geo",
           "hovertemplate": "<b>%{hovertext}</b><br><br>State=Madhya Pradesh<br>Month=2<br>Unemployment_Rate=%{marker.size}<br>longitude=%{lat}<br>latitude=%{lon}<extra></extra>",
           "hovertext": [
            "Madhya Pradesh"
           ],
           "lat": [
            22.9734
           ],
           "legendgroup": "Madhya Pradesh",
           "lon": [
            78.6569
           ],
           "marker": {
            "color": "#000004",
            "size": [
             4.57
            ],
            "sizemode": "area",
            "sizeref": 0.08427777777777777,
            "symbol": "circle"
           },
           "mode": "markers",
           "name": "Madhya Pradesh",
           "showlegend": true,
           "type": "scattergeo"
          },
          {
           "geo": "geo",
           "hovertemplate": "<b>%{hovertext}</b><br><br>State=Maharashtra<br>Month=2<br>Unemployment_Rate=%{marker.size}<br>longitude=%{lat}<br>latitude=%{lon}<extra></extra>",
           "hovertext": [
            "Maharashtra"
           ],
           "lat": [
            19.7515
           ],
           "legendgroup": "Maharashtra",
           "lon": [
            75.7139
           ],
           "marker": {
            "color": "#000005",
            "size": [
             4.69
            ],
            "sizemode": "area",
            "sizeref": 0.08427777777777777,
            "symbol": "circle"
           },
           "mode": "markers",
           "name": "Maharashtra",
           "showlegend": true,
           "type": "scattergeo"
          },
          {
           "geo": "geo",
           "hovertemplate": "<b>%{hovertext}</b><br><br>State=Meghalaya<br>Month=2<br>Unemployment_Rate=%{marker.size}<br>longitude=%{lat}<br>latitude=%{lon}<extra></extra>",
           "hovertext": [
            "Meghalaya"
           ],
           "lat": [
            25.467
           ],
           "legendgroup": "Meghalaya",
           "lon": [
            91.3662
           ],
           "marker": {
            "color": "#000006",
            "size": [
             3.59
            ],
            "sizemode": "area",
            "sizeref": 0.08427777777777777,
            "symbol": "circle"
           },
           "mode": "markers",
           "name": "Meghalaya",
           "showlegend": true,
           "type": "scattergeo"
          },
          {
           "geo": "geo",
           "hovertemplate": "<b>%{hovertext}</b><br><br>State=Odisha<br>Month=2<br>Unemployment_Rate=%{marker.size}<br>longitude=%{lat}<br>latitude=%{lon}<extra></extra>",
           "hovertext": [
            "Odisha"
           ],
           "lat": [
            20.9517
           ],
           "legendgroup": "Odisha",
           "lon": [
            85.0985
           ],
           "marker": {
            "color": "#000007",
            "size": [
             3.12
            ],
            "sizemode": "area",
            "sizeref": 0.08427777777777777,
            "symbol": "circle"
           },
           "mode": "markers",
           "name": "Odisha",
           "showlegend": true,
           "type": "scattergeo"
          },
          {
           "geo": "geo",
           "hovertemplate": "<b>%{hovertext}</b><br><br>State=Puducherry<br>Month=2<br>Unemployment_Rate=%{marker.size}<br>longitude=%{lat}<br>latitude=%{lon}<extra></extra>",
           "hovertext": [
            "Puducherry"
           ],
           "lat": [
            11.9416
           ],
           "legendgroup": "Puducherry",
           "lon": [
            79.8083
           ],
           "marker": {
            "color": "#000008",
            "size": [
             1.76
            ],
            "sizemode": "area",
            "sizeref": 0.08427777777777777,
            "symbol": "circle"
           },
           "mode": "markers",
           "name": "Puducherry",
           "showlegend": true,
           "type": "scattergeo"
          },
          {
           "geo": "geo",
           "hovertemplate": "<b>%{hovertext}</b><br><br>State=Punjab<br>Month=2<br>Unemployment_Rate=%{marker.size}<br>longitude=%{lat}<br>latitude=%{lon}<extra></extra>",
           "hovertext": [
            "Punjab"
           ],
           "lat": [
            31.1471
           ],
           "legendgroup": "Punjab",
           "lon": [
            75.3412
           ],
           "marker": {
            "color": "#000009",
            "size": [
             10.97
            ],
            "sizemode": "area",
            "sizeref": 0.08427777777777777,
            "symbol": "circle"
           },
           "mode": "markers",
           "name": "Punjab",
           "showlegend": true,
           "type": "scattergeo"
          },
          {
           "geo": "geo",
           "hovertemplate": "<b>%{hovertext}</b><br><br>State=Rajasthan<br>Month=2<br>Unemployment_Rate=%{marker.size}<br>longitude=%{lat}<br>latitude=%{lon}<extra></extra>",
           "hovertext": [
            "Rajasthan"
           ],
           "lat": [
            27.0238
           ],
           "legendgroup": "Rajasthan",
           "lon": [
            74.2179
           ],
           "marker": {
            "color": "#000010",
            "size": [
             15.16
            ],
            "sizemode": "area",
            "sizeref": 0.08427777777777777,
            "symbol": "circle"
           },
           "mode": "markers",
           "name": "Rajasthan",
           "showlegend": true,
           "type": "scattergeo"
          },
          {
           "geo": "geo",
           "hovertemplate": "<b>%{hovertext}</b><br><br>State=Tamil Nadu<br>Month=2<br>Unemployment_Rate=%{marker.size}<br>longitude=%{lat}<br>latitude=%{lon}<extra></extra>",
           "hovertext": [
            "Tamil Nadu"
           ],
           "lat": [
            11.1271
           ],
           "legendgroup": "Tamil Nadu",
           "lon": [
            78.6569
           ],
           "marker": {
            "color": "#000002",
            "size": [
             2.09
            ],
            "sizemode": "area",
            "sizeref": 0.08427777777777777,
            "symbol": "circle"
           },
           "mode": "markers",
           "name": "Tamil Nadu",
           "showlegend": true,
           "type": "scattergeo"
          },
          {
           "geo": "geo",
           "hovertemplate": "<b>%{hovertext}</b><br><br>State=Telangana<br>Month=2<br>Unemployment_Rate=%{marker.size}<br>longitude=%{lat}<br>latitude=%{lon}<extra></extra>",
           "hovertext": [
            "Telangana"
           ],
           "lat": [
            18.1124
           ],
           "legendgroup": "Telangana",
           "lon": [
            79.0193
           ],
           "marker": {
            "color": "#000003",
            "size": [
             8.29
            ],
            "sizemode": "area",
            "sizeref": 0.08427777777777777,
            "symbol": "circle"
           },
           "mode": "markers",
           "name": "Telangana",
           "showlegend": true,
           "type": "scattergeo"
          },
          {
           "geo": "geo",
           "hovertemplate": "<b>%{hovertext}</b><br><br>State=Tripura<br>Month=2<br>Unemployment_Rate=%{marker.size}<br>longitude=%{lat}<br>latitude=%{lon}<extra></extra>",
           "hovertext": [
            "Tripura"
           ],
           "lat": [
            23.9408
           ],
           "legendgroup": "Tripura",
           "lon": [
            91.9882
           ],
           "marker": {
            "color": "#000004",
            "size": [
             28.4
            ],
            "sizemode": "area",
            "sizeref": 0.08427777777777777,
            "symbol": "circle"
           },
           "mode": "markers",
           "name": "Tripura",
           "showlegend": true,
           "type": "scattergeo"
          },
          {
           "geo": "geo",
           "hovertemplate": "<b>%{hovertext}</b><br><br>State=Uttar Pradesh<br>Month=2<br>Unemployment_Rate=%{marker.size}<br>longitude=%{lat}<br>latitude=%{lon}<extra></extra>",
           "hovertext": [
            "Uttar Pradesh"
           ],
           "lat": [
            26.8467
           ],
           "legendgroup": "Uttar Pradesh",
           "lon": [
            80.9462
           ],
           "marker": {
            "color": "#000005",
            "size": [
             8.98
            ],
            "sizemode": "area",
            "sizeref": 0.08427777777777777,
            "symbol": "circle"
           },
           "mode": "markers",
           "name": "Uttar Pradesh",
           "showlegend": true,
           "type": "scattergeo"
          },
          {
           "geo": "geo",
           "hovertemplate": "<b>%{hovertext}</b><br><br>State=Uttarakhand<br>Month=2<br>Unemployment_Rate=%{marker.size}<br>longitude=%{lat}<br>latitude=%{lon}<extra></extra>",
           "hovertext": [
            "Uttarakhand"
           ],
           "lat": [
            30.0668
           ],
           "legendgroup": "Uttarakhand",
           "lon": [
            79.0193
           ],
           "marker": {
            "color": "#000006",
            "size": [
             4.99
            ],
            "sizemode": "area",
            "sizeref": 0.08427777777777777,
            "symbol": "circle"
           },
           "mode": "markers",
           "name": "Uttarakhand",
           "showlegend": true,
           "type": "scattergeo"
          },
          {
           "geo": "geo",
           "hovertemplate": "<b>%{hovertext}</b><br><br>State=West Bengal<br>Month=2<br>Unemployment_Rate=%{marker.size}<br>longitude=%{lat}<br>latitude=%{lon}<extra></extra>",
           "hovertext": [
            "West Bengal"
           ],
           "lat": [
            22.9868
           ],
           "legendgroup": "West Bengal",
           "lon": [
            87.855
           ],
           "marker": {
            "color": "#000007",
            "size": [
             4.92
            ],
            "sizemode": "area",
            "sizeref": 0.08427777777777777,
            "symbol": "circle"
           },
           "mode": "markers",
           "name": "West Bengal",
           "showlegend": true,
           "type": "scattergeo"
          }
         ],
         "name": "2"
        },
        {
         "data": [
          {
           "geo": "geo",
           "hovertemplate": "<b>%{hovertext}</b><br><br>State=Andhra Pradesh<br>Month=3<br>Unemployment_Rate=%{marker.size}<br>longitude=%{lat}<br>latitude=%{lon}<extra></extra>",
           "hovertext": [
            "Andhra Pradesh"
           ],
           "lat": [
            15.9129
           ],
           "legendgroup": "Andhra Pradesh",
           "lon": [
            79.74
           ],
           "marker": {
            "color": "#000001",
            "size": [
             5.79
            ],
            "sizemode": "area",
            "sizeref": 0.08427777777777777,
            "symbol": "circle"
           },
           "mode": "markers",
           "name": "Andhra Pradesh",
           "showlegend": true,
           "type": "scattergeo"
          },
          {
           "geo": "geo",
           "hovertemplate": "<b>%{hovertext}</b><br><br>State=Assam<br>Month=3<br>Unemployment_Rate=%{marker.size}<br>longitude=%{lat}<br>latitude=%{lon}<extra></extra>",
           "hovertext": [
            "Assam"
           ],
           "lat": [
            26.2006
           ],
           "legendgroup": "Assam",
           "lon": [
            92.9376
           ],
           "marker": {
            "color": "#000002",
            "size": [
             4.77
            ],
            "sizemode": "area",
            "sizeref": 0.08427777777777777,
            "symbol": "circle"
           },
           "mode": "markers",
           "name": "Assam",
           "showlegend": true,
           "type": "scattergeo"
          },
          {
           "geo": "geo",
           "hovertemplate": "<b>%{hovertext}</b><br><br>State=Bihar<br>Month=3<br>Unemployment_Rate=%{marker.size}<br>longitude=%{lat}<br>latitude=%{lon}<extra></extra>",
           "hovertext": [
            "Bihar"
           ],
           "lat": [
            25.0961
           ],
           "legendgroup": "Bihar",
           "lon": [
            85.3131
           ],
           "marker": {
            "color": "#000003",
            "size": [
             15.43
            ],
            "sizemode": "area",
            "sizeref": 0.08427777777777777,
            "symbol": "circle"
           },
           "mode": "markers",
           "name": "Bihar",
           "showlegend": true,
           "type": "scattergeo"
          },
          {
           "geo": "geo",
           "hovertemplate": "<b>%{hovertext}</b><br><br>State=Chhattisgarh<br>Month=3<br>Unemployment_Rate=%{marker.size}<br>longitude=%{lat}<br>latitude=%{lon}<extra></extra>",
           "hovertext": [
            "Chhattisgarh"
           ],
           "lat": [
            21.2787
           ],
           "legendgroup": "Chhattisgarh",
           "lon": [
            81.8661
           ],
           "marker": {
            "color": "#000004",
            "size": [
             7.54
            ],
            "sizemode": "area",
            "sizeref": 0.08427777777777777,
            "symbol": "circle"
           },
           "mode": "markers",
           "name": "Chhattisgarh",
           "showlegend": true,
           "type": "scattergeo"
          },
          {
           "geo": "geo",
           "hovertemplate": "<b>%{hovertext}</b><br><br>State=Delhi<br>Month=3<br>Unemployment_Rate=%{marker.size}<br>longitude=%{lat}<br>latitude=%{lon}<extra></extra>",
           "hovertext": [
            "Delhi"
           ],
           "lat": [
            28.7041
           ],
           "legendgroup": "Delhi",
           "lon": [
            77.1025
           ],
           "marker": {
            "color": "#000005",
            "size": [
             17.04
            ],
            "sizemode": "area",
            "sizeref": 0.08427777777777777,
            "symbol": "circle"
           },
           "mode": "markers",
           "name": "Delhi",
           "showlegend": true,
           "type": "scattergeo"
          },
          {
           "geo": "geo",
           "hovertemplate": "<b>%{hovertext}</b><br><br>State=Goa<br>Month=3<br>Unemployment_Rate=%{marker.size}<br>longitude=%{lat}<br>latitude=%{lon}<extra></extra>",
           "hovertext": [
            "Goa"
           ],
           "lat": [
            15.2993
           ],
           "legendgroup": "Goa",
           "lon": [
            74.124
           ],
           "marker": {
            "color": "#000006",
            "size": [
             5.25
            ],
            "sizemode": "area",
            "sizeref": 0.08427777777777777,
            "symbol": "circle"
           },
           "mode": "markers",
           "name": "Goa",
           "showlegend": true,
           "type": "scattergeo"
          },
          {
           "geo": "geo",
           "hovertemplate": "<b>%{hovertext}</b><br><br>State=Gujarat<br>Month=3<br>Unemployment_Rate=%{marker.size}<br>longitude=%{lat}<br>latitude=%{lon}<extra></extra>",
           "hovertext": [
            "Gujarat"
           ],
           "lat": [
            22.2587
           ],
           "legendgroup": "Gujarat",
           "lon": [
            71.1924
           ],
           "marker": {
            "color": "#000007",
            "size": [
             6.66
            ],
            "sizemode": "area",
            "sizeref": 0.08427777777777777,
            "symbol": "circle"
           },
           "mode": "markers",
           "name": "Gujarat",
           "showlegend": true,
           "type": "scattergeo"
          },
          {
           "geo": "geo",
           "hovertemplate": "<b>%{hovertext}</b><br><br>State=Haryana<br>Month=3<br>Unemployment_Rate=%{marker.size}<br>longitude=%{lat}<br>latitude=%{lon}<extra></extra>",
           "hovertext": [
            "Haryana"
           ],
           "lat": [
            29.0588
           ],
           "legendgroup": "Haryana",
           "lon": [
            76.0856
           ],
           "marker": {
            "color": "#000008",
            "size": [
             25.05
            ],
            "sizemode": "area",
            "sizeref": 0.08427777777777777,
            "symbol": "circle"
           },
           "mode": "markers",
           "name": "Haryana",
           "showlegend": true,
           "type": "scattergeo"
          },
          {
           "geo": "geo",
           "hovertemplate": "<b>%{hovertext}</b><br><br>State=Himachal Pradesh<br>Month=3<br>Unemployment_Rate=%{marker.size}<br>longitude=%{lat}<br>latitude=%{lon}<extra></extra>",
           "hovertext": [
            "Himachal Pradesh"
           ],
           "lat": [
            31.1048
           ],
           "legendgroup": "Himachal Pradesh",
           "lon": [
            77.1734
           ],
           "marker": {
            "color": "#000009",
            "size": [
             18.76
            ],
            "sizemode": "area",
            "sizeref": 0.08427777777777777,
            "symbol": "circle"
           },
           "mode": "markers",
           "name": "Himachal Pradesh",
           "showlegend": true,
           "type": "scattergeo"
          },
          {
           "geo": "geo",
           "hovertemplate": "<b>%{hovertext}</b><br><br>State=Jammu & Kashmir<br>Month=3<br>Unemployment_Rate=%{marker.size}<br>longitude=%{lat}<br>latitude=%{lon}<extra></extra>",
           "hovertext": [
            "Jammu & Kashmir"
           ],
           "lat": [
            33.7782
           ],
           "legendgroup": "Jammu & Kashmir",
           "lon": [
            76.5762
           ],
           "marker": {
            "color": "#000010",
            "size": [
             15.5
            ],
            "sizemode": "area",
            "sizeref": 0.08427777777777777,
            "symbol": "circle"
           },
           "mode": "markers",
           "name": "Jammu & Kashmir",
           "showlegend": true,
           "type": "scattergeo"
          },
          {
           "geo": "geo",
           "hovertemplate": "<b>%{hovertext}</b><br><br>State=Jharkhand<br>Month=3<br>Unemployment_Rate=%{marker.size}<br>longitude=%{lat}<br>latitude=%{lon}<extra></extra>",
           "hovertext": [
            "Jharkhand"
           ],
           "lat": [
            23.6102
           ],
           "legendgroup": "Jharkhand",
           "lon": [
            85.2799
           ],
           "marker": {
            "color": "#000001",
            "size": [
             8.23
            ],
            "sizemode": "area",
            "sizeref": 0.08427777777777777,
            "symbol": "circle"
           },
           "mode": "markers",
           "name": "Jharkhand",
           "showlegend": true,
           "type": "scattergeo"
          },
          {
           "geo": "geo",
           "hovertemplate": "<b>%{hovertext}</b><br><br>State=Karnataka<br>Month=3<br>Unemployment_Rate=%{marker.size}<br>longitude=%{lat}<br>latitude=%{lon}<extra></extra>",
           "hovertext": [
            "Karnataka"
           ],
           "lat": [
            15.3173
           ],
           "legendgroup": "Karnataka",
           "lon": [
            75.7139
           ],
           "marker": {
            "color": "#000002",
            "size": [
             3.46
            ],
            "sizemode": "area",
            "sizeref": 0.08427777777777777,
            "symbol": "circle"
           },
           "mode": "markers",
           "name": "Karnataka",
           "showlegend": true,
           "type": "scattergeo"
          },
          {
           "geo": "geo",
           "hovertemplate": "<b>%{hovertext}</b><br><br>State=Kerala<br>Month=3<br>Unemployment_Rate=%{marker.size}<br>longitude=%{lat}<br>latitude=%{lon}<extra></extra>",
           "hovertext": [
            "Kerala"
           ],
           "lat": [
            10.8505
           ],
           "legendgroup": "Kerala",
           "lon": [
            76.2711
           ],
           "marker": {
            "color": "#000003",
            "size": [
             8.99
            ],
            "sizemode": "area",
            "sizeref": 0.08427777777777777,
            "symbol": "circle"
           },
           "mode": "markers",
           "name": "Kerala",
           "showlegend": true,
           "type": "scattergeo"
          },
          {
           "geo": "geo",
           "hovertemplate": "<b>%{hovertext}</b><br><br>State=Madhya Pradesh<br>Month=3<br>Unemployment_Rate=%{marker.size}<br>longitude=%{lat}<br>latitude=%{lon}<extra></extra>",
           "hovertext": [
            "Madhya Pradesh"
           ],
           "lat": [
            22.9734
           ],
           "legendgroup": "Madhya Pradesh",
           "lon": [
            78.6569
           ],
           "marker": {
            "color": "#000004",
            "size": [
             2.22
            ],
            "sizemode": "area",
            "sizeref": 0.08427777777777777,
            "symbol": "circle"
           },
           "mode": "markers",
           "name": "Madhya Pradesh",
           "showlegend": true,
           "type": "scattergeo"
          },
          {
           "geo": "geo",
           "hovertemplate": "<b>%{hovertext}</b><br><br>State=Maharashtra<br>Month=3<br>Unemployment_Rate=%{marker.size}<br>longitude=%{lat}<br>latitude=%{lon}<extra></extra>",
           "hovertext": [
            "Maharashtra"
           ],
           "lat": [
            19.7515
           ],
           "legendgroup": "Maharashtra",
           "lon": [
            75.7139
           ],
           "marker": {
            "color": "#000005",
            "size": [
             5.79
            ],
            "sizemode": "area",
            "sizeref": 0.08427777777777777,
            "symbol": "circle"
           },
           "mode": "markers",
           "name": "Maharashtra",
           "showlegend": true,
           "type": "scattergeo"
          },
          {
           "geo": "geo",
           "hovertemplate": "<b>%{hovertext}</b><br><br>State=Meghalaya<br>Month=3<br>Unemployment_Rate=%{marker.size}<br>longitude=%{lat}<br>latitude=%{lon}<extra></extra>",
           "hovertext": [
            "Meghalaya"
           ],
           "lat": [
            25.467
           ],
           "legendgroup": "Meghalaya",
           "lon": [
            91.3662
           ],
           "marker": {
            "color": "#000006",
            "size": [
             1.58
            ],
            "sizemode": "area",
            "sizeref": 0.08427777777777777,
            "symbol": "circle"
           },
           "mode": "markers",
           "name": "Meghalaya",
           "showlegend": true,
           "type": "scattergeo"
          },
          {
           "geo": "geo",
           "hovertemplate": "<b>%{hovertext}</b><br><br>State=Odisha<br>Month=3<br>Unemployment_Rate=%{marker.size}<br>longitude=%{lat}<br>latitude=%{lon}<extra></extra>",
           "hovertext": [
            "Odisha"
           ],
           "lat": [
            20.9517
           ],
           "legendgroup": "Odisha",
           "lon": [
            85.0985
           ],
           "marker": {
            "color": "#000007",
            "size": [
             13.08
            ],
            "sizemode": "area",
            "sizeref": 0.08427777777777777,
            "symbol": "circle"
           },
           "mode": "markers",
           "name": "Odisha",
           "showlegend": true,
           "type": "scattergeo"
          },
          {
           "geo": "geo",
           "hovertemplate": "<b>%{hovertext}</b><br><br>State=Puducherry<br>Month=3<br>Unemployment_Rate=%{marker.size}<br>longitude=%{lat}<br>latitude=%{lon}<extra></extra>",
           "hovertext": [
            "Puducherry"
           ],
           "lat": [
            11.9416
           ],
           "legendgroup": "Puducherry",
           "lon": [
            79.8083
           ],
           "marker": {
            "color": "#000008",
            "size": [
             1.2
            ],
            "sizemode": "area",
            "sizeref": 0.08427777777777777,
            "symbol": "circle"
           },
           "mode": "markers",
           "name": "Puducherry",
           "showlegend": true,
           "type": "scattergeo"
          },
          {
           "geo": "geo",
           "hovertemplate": "<b>%{hovertext}</b><br><br>State=Punjab<br>Month=3<br>Unemployment_Rate=%{marker.size}<br>longitude=%{lat}<br>latitude=%{lon}<extra></extra>",
           "hovertext": [
            "Punjab"
           ],
           "lat": [
            31.1471
           ],
           "legendgroup": "Punjab",
           "lon": [
            75.3412
           ],
           "marker": {
            "color": "#000009",
            "size": [
             10.32
            ],
            "sizemode": "area",
            "sizeref": 0.08427777777777777,
            "symbol": "circle"
           },
           "mode": "markers",
           "name": "Punjab",
           "showlegend": true,
           "type": "scattergeo"
          },
          {
           "geo": "geo",
           "hovertemplate": "<b>%{hovertext}</b><br><br>State=Rajasthan<br>Month=3<br>Unemployment_Rate=%{marker.size}<br>longitude=%{lat}<br>latitude=%{lon}<extra></extra>",
           "hovertext": [
            "Rajasthan"
           ],
           "lat": [
            27.0238
           ],
           "legendgroup": "Rajasthan",
           "lon": [
            74.2179
           ],
           "marker": {
            "color": "#000010",
            "size": [
             11.9
            ],
            "sizemode": "area",
            "sizeref": 0.08427777777777777,
            "symbol": "circle"
           },
           "mode": "markers",
           "name": "Rajasthan",
           "showlegend": true,
           "type": "scattergeo"
          },
          {
           "geo": "geo",
           "hovertemplate": "<b>%{hovertext}</b><br><br>State=Sikkim<br>Month=3<br>Unemployment_Rate=%{marker.size}<br>longitude=%{lat}<br>latitude=%{lon}<extra></extra>",
           "hovertext": [
            "Sikkim"
           ],
           "lat": [
            27.533
           ],
           "legendgroup": "Sikkim",
           "lon": [
            88.5122
           ],
           "marker": {
            "color": "#000001",
            "size": [
             23.57
            ],
            "sizemode": "area",
            "sizeref": 0.08427777777777777,
            "symbol": "circle"
           },
           "mode": "markers",
           "name": "Sikkim",
           "showlegend": true,
           "type": "scattergeo"
          },
          {
           "geo": "geo",
           "hovertemplate": "<b>%{hovertext}</b><br><br>State=Tamil Nadu<br>Month=3<br>Unemployment_Rate=%{marker.size}<br>longitude=%{lat}<br>latitude=%{lon}<extra></extra>",
           "hovertext": [
            "Tamil Nadu"
           ],
           "lat": [
            11.1271
           ],
           "legendgroup": "Tamil Nadu",
           "lon": [
            78.6569
           ],
           "marker": {
            "color": "#000002",
            "size": [
             6.4
            ],
            "sizemode": "area",
            "sizeref": 0.08427777777777777,
            "symbol": "circle"
           },
           "mode": "markers",
           "name": "Tamil Nadu",
           "showlegend": true,
           "type": "scattergeo"
          },
          {
           "geo": "geo",
           "hovertemplate": "<b>%{hovertext}</b><br><br>State=Telangana<br>Month=3<br>Unemployment_Rate=%{marker.size}<br>longitude=%{lat}<br>latitude=%{lon}<extra></extra>",
           "hovertext": [
            "Telangana"
           ],
           "lat": [
            18.1124
           ],
           "legendgroup": "Telangana",
           "lon": [
            79.0193
           ],
           "marker": {
            "color": "#000003",
            "size": [
             5.77
            ],
            "sizemode": "area",
            "sizeref": 0.08427777777777777,
            "symbol": "circle"
           },
           "mode": "markers",
           "name": "Telangana",
           "showlegend": true,
           "type": "scattergeo"
          },
          {
           "geo": "geo",
           "hovertemplate": "<b>%{hovertext}</b><br><br>State=Tripura<br>Month=3<br>Unemployment_Rate=%{marker.size}<br>longitude=%{lat}<br>latitude=%{lon}<extra></extra>",
           "hovertext": [
            "Tripura"
           ],
           "lat": [
            23.9408
           ],
           "legendgroup": "Tripura",
           "lon": [
            91.9882
           ],
           "marker": {
            "color": "#000004",
            "size": [
             29.95
            ],
            "sizemode": "area",
            "sizeref": 0.08427777777777777,
            "symbol": "circle"
           },
           "mode": "markers",
           "name": "Tripura",
           "showlegend": true,
           "type": "scattergeo"
          },
          {
           "geo": "geo",
           "hovertemplate": "<b>%{hovertext}</b><br><br>State=Uttar Pradesh<br>Month=3<br>Unemployment_Rate=%{marker.size}<br>longitude=%{lat}<br>latitude=%{lon}<extra></extra>",
           "hovertext": [
            "Uttar Pradesh"
           ],
           "lat": [
            26.8467
           ],
           "legendgroup": "Uttar Pradesh",
           "lon": [
            80.9462
           ],
           "marker": {
            "color": "#000005",
            "size": [
             10.11
            ],
            "sizemode": "area",
            "sizeref": 0.08427777777777777,
            "symbol": "circle"
           },
           "mode": "markers",
           "name": "Uttar Pradesh",
           "showlegend": true,
           "type": "scattergeo"
          },
          {
           "geo": "geo",
           "hovertemplate": "<b>%{hovertext}</b><br><br>State=Uttarakhand<br>Month=3<br>Unemployment_Rate=%{marker.size}<br>longitude=%{lat}<br>latitude=%{lon}<extra></extra>",
           "hovertext": [
            "Uttarakhand"
           ],
           "lat": [
            30.0668
           ],
           "legendgroup": "Uttarakhand",
           "lon": [
            79.0193
           ],
           "marker": {
            "color": "#000006",
            "size": [
             19.85
            ],
            "sizemode": "area",
            "sizeref": 0.08427777777777777,
            "symbol": "circle"
           },
           "mode": "markers",
           "name": "Uttarakhand",
           "showlegend": true,
           "type": "scattergeo"
          },
          {
           "geo": "geo",
           "hovertemplate": "<b>%{hovertext}</b><br><br>State=West Bengal<br>Month=3<br>Unemployment_Rate=%{marker.size}<br>longitude=%{lat}<br>latitude=%{lon}<extra></extra>",
           "hovertext": [
            "West Bengal"
           ],
           "lat": [
            22.9868
           ],
           "legendgroup": "West Bengal",
           "lon": [
            87.855
           ],
           "marker": {
            "color": "#000007",
            "size": [
             6.92
            ],
            "sizemode": "area",
            "sizeref": 0.08427777777777777,
            "symbol": "circle"
           },
           "mode": "markers",
           "name": "West Bengal",
           "showlegend": true,
           "type": "scattergeo"
          }
         ],
         "name": "3"
        },
        {
         "data": [
          {
           "geo": "geo",
           "hovertemplate": "<b>%{hovertext}</b><br><br>State=Andhra Pradesh<br>Month=4<br>Unemployment_Rate=%{marker.size}<br>longitude=%{lat}<br>latitude=%{lon}<extra></extra>",
           "hovertext": [
            "Andhra Pradesh"
           ],
           "lat": [
            15.9129
           ],
           "legendgroup": "Andhra Pradesh",
           "lon": [
            79.74
           ],
           "marker": {
            "color": "#000001",
            "size": [
             20.51
            ],
            "sizemode": "area",
            "sizeref": 0.08427777777777777,
            "symbol": "circle"
           },
           "mode": "markers",
           "name": "Andhra Pradesh",
           "showlegend": true,
           "type": "scattergeo"
          },
          {
           "geo": "geo",
           "hovertemplate": "<b>%{hovertext}</b><br><br>State=Assam<br>Month=4<br>Unemployment_Rate=%{marker.size}<br>longitude=%{lat}<br>latitude=%{lon}<extra></extra>",
           "hovertext": [
            "Assam"
           ],
           "lat": [
            26.2006
           ],
           "legendgroup": "Assam",
           "lon": [
            92.9376
           ],
           "marker": {
            "color": "#000002",
            "size": [
             11.06
            ],
            "sizemode": "area",
            "sizeref": 0.08427777777777777,
            "symbol": "circle"
           },
           "mode": "markers",
           "name": "Assam",
           "showlegend": true,
           "type": "scattergeo"
          },
          {
           "geo": "geo",
           "hovertemplate": "<b>%{hovertext}</b><br><br>State=Bihar<br>Month=4<br>Unemployment_Rate=%{marker.size}<br>longitude=%{lat}<br>latitude=%{lon}<extra></extra>",
           "hovertext": [
            "Bihar"
           ],
           "lat": [
            25.0961
           ],
           "legendgroup": "Bihar",
           "lon": [
            85.3131
           ],
           "marker": {
            "color": "#000003",
            "size": [
             46.64
            ],
            "sizemode": "area",
            "sizeref": 0.08427777777777777,
            "symbol": "circle"
           },
           "mode": "markers",
           "name": "Bihar",
           "showlegend": true,
           "type": "scattergeo"
          },
          {
           "geo": "geo",
           "hovertemplate": "<b>%{hovertext}</b><br><br>State=Chhattisgarh<br>Month=4<br>Unemployment_Rate=%{marker.size}<br>longitude=%{lat}<br>latitude=%{lon}<extra></extra>",
           "hovertext": [
            "Chhattisgarh"
           ],
           "lat": [
            21.2787
           ],
           "legendgroup": "Chhattisgarh",
           "lon": [
            81.8661
           ],
           "marker": {
            "color": "#000004",
            "size": [
             3.41
            ],
            "sizemode": "area",
            "sizeref": 0.08427777777777777,
            "symbol": "circle"
           },
           "mode": "markers",
           "name": "Chhattisgarh",
           "showlegend": true,
           "type": "scattergeo"
          },
          {
           "geo": "geo",
           "hovertemplate": "<b>%{hovertext}</b><br><br>State=Delhi<br>Month=4<br>Unemployment_Rate=%{marker.size}<br>longitude=%{lat}<br>latitude=%{lon}<extra></extra>",
           "hovertext": [
            "Delhi"
           ],
           "lat": [
            28.7041
           ],
           "legendgroup": "Delhi",
           "lon": [
            77.1025
           ],
           "marker": {
            "color": "#000005",
            "size": [
             16.68
            ],
            "sizemode": "area",
            "sizeref": 0.08427777777777777,
            "symbol": "circle"
           },
           "mode": "markers",
           "name": "Delhi",
           "showlegend": true,
           "type": "scattergeo"
          },
          {
           "geo": "geo",
           "hovertemplate": "<b>%{hovertext}</b><br><br>State=Goa<br>Month=4<br>Unemployment_Rate=%{marker.size}<br>longitude=%{lat}<br>latitude=%{lon}<extra></extra>",
           "hovertext": [
            "Goa"
           ],
           "lat": [
            15.2993
           ],
           "legendgroup": "Goa",
           "lon": [
            74.124
           ],
           "marker": {
            "color": "#000006",
            "size": [
             13.31
            ],
            "sizemode": "area",
            "sizeref": 0.08427777777777777,
            "symbol": "circle"
           },
           "mode": "markers",
           "name": "Goa",
           "showlegend": true,
           "type": "scattergeo"
          },
          {
           "geo": "geo",
           "hovertemplate": "<b>%{hovertext}</b><br><br>State=Gujarat<br>Month=4<br>Unemployment_Rate=%{marker.size}<br>longitude=%{lat}<br>latitude=%{lon}<extra></extra>",
           "hovertext": [
            "Gujarat"
           ],
           "lat": [
            22.2587
           ],
           "legendgroup": "Gujarat",
           "lon": [
            71.1924
           ],
           "marker": {
            "color": "#000007",
            "size": [
             18.71
            ],
            "sizemode": "area",
            "sizeref": 0.08427777777777777,
            "symbol": "circle"
           },
           "mode": "markers",
           "name": "Gujarat",
           "showlegend": true,
           "type": "scattergeo"
          },
          {
           "geo": "geo",
           "hovertemplate": "<b>%{hovertext}</b><br><br>State=Haryana<br>Month=4<br>Unemployment_Rate=%{marker.size}<br>longitude=%{lat}<br>latitude=%{lon}<extra></extra>",
           "hovertext": [
            "Haryana"
           ],
           "lat": [
            29.0588
           ],
           "legendgroup": "Haryana",
           "lon": [
            76.0856
           ],
           "marker": {
            "color": "#000008",
            "size": [
             43.22
            ],
            "sizemode": "area",
            "sizeref": 0.08427777777777777,
            "symbol": "circle"
           },
           "mode": "markers",
           "name": "Haryana",
           "showlegend": true,
           "type": "scattergeo"
          },
          {
           "geo": "geo",
           "hovertemplate": "<b>%{hovertext}</b><br><br>State=Himachal Pradesh<br>Month=4<br>Unemployment_Rate=%{marker.size}<br>longitude=%{lat}<br>latitude=%{lon}<extra></extra>",
           "hovertext": [
            "Himachal Pradesh"
           ],
           "lat": [
            31.1048
           ],
           "legendgroup": "Himachal Pradesh",
           "lon": [
            77.1734
           ],
           "marker": {
            "color": "#000009",
            "size": [
             2.2
            ],
            "sizemode": "area",
            "sizeref": 0.08427777777777777,
            "symbol": "circle"
           },
           "mode": "markers",
           "name": "Himachal Pradesh",
           "showlegend": true,
           "type": "scattergeo"
          },
          {
           "geo": "geo",
           "hovertemplate": "<b>%{hovertext}</b><br><br>State=Jharkhand<br>Month=4<br>Unemployment_Rate=%{marker.size}<br>longitude=%{lat}<br>latitude=%{lon}<extra></extra>",
           "hovertext": [
            "Jharkhand"
           ],
           "lat": [
            23.6102
           ],
           "legendgroup": "Jharkhand",
           "lon": [
            85.2799
           ],
           "marker": {
            "color": "#000001",
            "size": [
             47.09
            ],
            "sizemode": "area",
            "sizeref": 0.08427777777777777,
            "symbol": "circle"
           },
           "mode": "markers",
           "name": "Jharkhand",
           "showlegend": true,
           "type": "scattergeo"
          },
          {
           "geo": "geo",
           "hovertemplate": "<b>%{hovertext}</b><br><br>State=Karnataka<br>Month=4<br>Unemployment_Rate=%{marker.size}<br>longitude=%{lat}<br>latitude=%{lon}<extra></extra>",
           "hovertext": [
            "Karnataka"
           ],
           "lat": [
            15.3173
           ],
           "legendgroup": "Karnataka",
           "lon": [
            75.7139
           ],
           "marker": {
            "color": "#000002",
            "size": [
             29.84
            ],
            "sizemode": "area",
            "sizeref": 0.08427777777777777,
            "symbol": "circle"
           },
           "mode": "markers",
           "name": "Karnataka",
           "showlegend": true,
           "type": "scattergeo"
          },
          {
           "geo": "geo",
           "hovertemplate": "<b>%{hovertext}</b><br><br>State=Kerala<br>Month=4<br>Unemployment_Rate=%{marker.size}<br>longitude=%{lat}<br>latitude=%{lon}<extra></extra>",
           "hovertext": [
            "Kerala"
           ],
           "lat": [
            10.8505
           ],
           "legendgroup": "Kerala",
           "lon": [
            76.2711
           ],
           "marker": {
            "color": "#000003",
            "size": [
             16.99
            ],
            "sizemode": "area",
            "sizeref": 0.08427777777777777,
            "symbol": "circle"
           },
           "mode": "markers",
           "name": "Kerala",
           "showlegend": true,
           "type": "scattergeo"
          },
          {
           "geo": "geo",
           "hovertemplate": "<b>%{hovertext}</b><br><br>State=Madhya Pradesh<br>Month=4<br>Unemployment_Rate=%{marker.size}<br>longitude=%{lat}<br>latitude=%{lon}<extra></extra>",
           "hovertext": [
            "Madhya Pradesh"
           ],
           "lat": [
            22.9734
           ],
           "legendgroup": "Madhya Pradesh",
           "lon": [
            78.6569
           ],
           "marker": {
            "color": "#000004",
            "size": [
             12.36
            ],
            "sizemode": "area",
            "sizeref": 0.08427777777777777,
            "symbol": "circle"
           },
           "mode": "markers",
           "name": "Madhya Pradesh",
           "showlegend": true,
           "type": "scattergeo"
          },
          {
           "geo": "geo",
           "hovertemplate": "<b>%{hovertext}</b><br><br>State=Maharashtra<br>Month=4<br>Unemployment_Rate=%{marker.size}<br>longitude=%{lat}<br>latitude=%{lon}<extra></extra>",
           "hovertext": [
            "Maharashtra"
           ],
           "lat": [
            19.7515
           ],
           "legendgroup": "Maharashtra",
           "lon": [
            75.7139
           ],
           "marker": {
            "color": "#000005",
            "size": [
             20.9
            ],
            "sizemode": "area",
            "sizeref": 0.08427777777777777,
            "symbol": "circle"
           },
           "mode": "markers",
           "name": "Maharashtra",
           "showlegend": true,
           "type": "scattergeo"
          },
          {
           "geo": "geo",
           "hovertemplate": "<b>%{hovertext}</b><br><br>State=Meghalaya<br>Month=4<br>Unemployment_Rate=%{marker.size}<br>longitude=%{lat}<br>latitude=%{lon}<extra></extra>",
           "hovertext": [
            "Meghalaya"
           ],
           "lat": [
            25.467
           ],
           "legendgroup": "Meghalaya",
           "lon": [
            91.3662
           ],
           "marker": {
            "color": "#000006",
            "size": [
             10.03
            ],
            "sizemode": "area",
            "sizeref": 0.08427777777777777,
            "symbol": "circle"
           },
           "mode": "markers",
           "name": "Meghalaya",
           "showlegend": true,
           "type": "scattergeo"
          },
          {
           "geo": "geo",
           "hovertemplate": "<b>%{hovertext}</b><br><br>State=Odisha<br>Month=4<br>Unemployment_Rate=%{marker.size}<br>longitude=%{lat}<br>latitude=%{lon}<extra></extra>",
           "hovertext": [
            "Odisha"
           ],
           "lat": [
            20.9517
           ],
           "legendgroup": "Odisha",
           "lon": [
            85.0985
           ],
           "marker": {
            "color": "#000007",
            "size": [
             23.76
            ],
            "sizemode": "area",
            "sizeref": 0.08427777777777777,
            "symbol": "circle"
           },
           "mode": "markers",
           "name": "Odisha",
           "showlegend": true,
           "type": "scattergeo"
          },
          {
           "geo": "geo",
           "hovertemplate": "<b>%{hovertext}</b><br><br>State=Puducherry<br>Month=4<br>Unemployment_Rate=%{marker.size}<br>longitude=%{lat}<br>latitude=%{lon}<extra></extra>",
           "hovertext": [
            "Puducherry"
           ],
           "lat": [
            11.9416
           ],
           "legendgroup": "Puducherry",
           "lon": [
            79.8083
           ],
           "marker": {
            "color": "#000008",
            "size": [
             75.85
            ],
            "sizemode": "area",
            "sizeref": 0.08427777777777777,
            "symbol": "circle"
           },
           "mode": "markers",
           "name": "Puducherry",
           "showlegend": true,
           "type": "scattergeo"
          },
          {
           "geo": "geo",
           "hovertemplate": "<b>%{hovertext}</b><br><br>State=Punjab<br>Month=4<br>Unemployment_Rate=%{marker.size}<br>longitude=%{lat}<br>latitude=%{lon}<extra></extra>",
           "hovertext": [
            "Punjab"
           ],
           "lat": [
            31.1471
           ],
           "legendgroup": "Punjab",
           "lon": [
            75.3412
           ],
           "marker": {
            "color": "#000009",
            "size": [
             2.86
            ],
            "sizemode": "area",
            "sizeref": 0.08427777777777777,
            "symbol": "circle"
           },
           "mode": "markers",
           "name": "Punjab",
           "showlegend": true,
           "type": "scattergeo"
          },
          {
           "geo": "geo",
           "hovertemplate": "<b>%{hovertext}</b><br><br>State=Rajasthan<br>Month=4<br>Unemployment_Rate=%{marker.size}<br>longitude=%{lat}<br>latitude=%{lon}<extra></extra>",
           "hovertext": [
            "Rajasthan"
           ],
           "lat": [
            27.0238
           ],
           "legendgroup": "Rajasthan",
           "lon": [
            74.2179
           ],
           "marker": {
            "color": "#000010",
            "size": [
             17.7
            ],
            "sizemode": "area",
            "sizeref": 0.08427777777777777,
            "symbol": "circle"
           },
           "mode": "markers",
           "name": "Rajasthan",
           "showlegend": true,
           "type": "scattergeo"
          },
          {
           "geo": "geo",
           "hovertemplate": "<b>%{hovertext}</b><br><br>State=Sikkim<br>Month=4<br>Unemployment_Rate=%{marker.size}<br>longitude=%{lat}<br>latitude=%{lon}<extra></extra>",
           "hovertext": [
            "Sikkim"
           ],
           "lat": [
            27.533
           ],
           "legendgroup": "Sikkim",
           "lon": [
            88.5122
           ],
           "marker": {
            "color": "#000001",
            "size": [
             2.28
            ],
            "sizemode": "area",
            "sizeref": 0.08427777777777777,
            "symbol": "circle"
           },
           "mode": "markers",
           "name": "Sikkim",
           "showlegend": true,
           "type": "scattergeo"
          },
          {
           "geo": "geo",
           "hovertemplate": "<b>%{hovertext}</b><br><br>State=Tamil Nadu<br>Month=4<br>Unemployment_Rate=%{marker.size}<br>longitude=%{lat}<br>latitude=%{lon}<extra></extra>",
           "hovertext": [
            "Tamil Nadu"
           ],
           "lat": [
            11.1271
           ],
           "legendgroup": "Tamil Nadu",
           "lon": [
            78.6569
           ],
           "marker": {
            "color": "#000002",
            "size": [
             49.83
            ],
            "sizemode": "area",
            "sizeref": 0.08427777777777777,
            "symbol": "circle"
           },
           "mode": "markers",
           "name": "Tamil Nadu",
           "showlegend": true,
           "type": "scattergeo"
          },
          {
           "geo": "geo",
           "hovertemplate": "<b>%{hovertext}</b><br><br>State=Telangana<br>Month=4<br>Unemployment_Rate=%{marker.size}<br>longitude=%{lat}<br>latitude=%{lon}<extra></extra>",
           "hovertext": [
            "Telangana"
           ],
           "lat": [
            18.1124
           ],
           "legendgroup": "Telangana",
           "lon": [
            79.0193
           ],
           "marker": {
            "color": "#000003",
            "size": [
             6.25
            ],
            "sizemode": "area",
            "sizeref": 0.08427777777777777,
            "symbol": "circle"
           },
           "mode": "markers",
           "name": "Telangana",
           "showlegend": true,
           "type": "scattergeo"
          },
          {
           "geo": "geo",
           "hovertemplate": "<b>%{hovertext}</b><br><br>State=Tripura<br>Month=4<br>Unemployment_Rate=%{marker.size}<br>longitude=%{lat}<br>latitude=%{lon}<extra></extra>",
           "hovertext": [
            "Tripura"
           ],
           "lat": [
            23.9408
           ],
           "legendgroup": "Tripura",
           "lon": [
            91.9882
           ],
           "marker": {
            "color": "#000004",
            "size": [
             41.23
            ],
            "sizemode": "area",
            "sizeref": 0.08427777777777777,
            "symbol": "circle"
           },
           "mode": "markers",
           "name": "Tripura",
           "showlegend": true,
           "type": "scattergeo"
          },
          {
           "geo": "geo",
           "hovertemplate": "<b>%{hovertext}</b><br><br>State=Uttar Pradesh<br>Month=4<br>Unemployment_Rate=%{marker.size}<br>longitude=%{lat}<br>latitude=%{lon}<extra></extra>",
           "hovertext": [
            "Uttar Pradesh"
           ],
           "lat": [
            26.8467
           ],
           "legendgroup": "Uttar Pradesh",
           "lon": [
            80.9462
           ],
           "marker": {
            "color": "#000005",
            "size": [
             21.54
            ],
            "sizemode": "area",
            "sizeref": 0.08427777777777777,
            "symbol": "circle"
           },
           "mode": "markers",
           "name": "Uttar Pradesh",
           "showlegend": true,
           "type": "scattergeo"
          },
          {
           "geo": "geo",
           "hovertemplate": "<b>%{hovertext}</b><br><br>State=Uttarakhand<br>Month=4<br>Unemployment_Rate=%{marker.size}<br>longitude=%{lat}<br>latitude=%{lon}<extra></extra>",
           "hovertext": [
            "Uttarakhand"
           ],
           "lat": [
            30.0668
           ],
           "legendgroup": "Uttarakhand",
           "lon": [
            79.0193
           ],
           "marker": {
            "color": "#000006",
            "size": [
             6.48
            ],
            "sizemode": "area",
            "sizeref": 0.08427777777777777,
            "symbol": "circle"
           },
           "mode": "markers",
           "name": "Uttarakhand",
           "showlegend": true,
           "type": "scattergeo"
          },
          {
           "geo": "geo",
           "hovertemplate": "<b>%{hovertext}</b><br><br>State=West Bengal<br>Month=4<br>Unemployment_Rate=%{marker.size}<br>longitude=%{lat}<br>latitude=%{lon}<extra></extra>",
           "hovertext": [
            "West Bengal"
           ],
           "lat": [
            22.9868
           ],
           "legendgroup": "West Bengal",
           "lon": [
            87.855
           ],
           "marker": {
            "color": "#000007",
            "size": [
             17.41
            ],
            "sizemode": "area",
            "sizeref": 0.08427777777777777,
            "symbol": "circle"
           },
           "mode": "markers",
           "name": "West Bengal",
           "showlegend": true,
           "type": "scattergeo"
          }
         ],
         "name": "4"
        },
        {
         "data": [
          {
           "geo": "geo",
           "hovertemplate": "<b>%{hovertext}</b><br><br>State=Andhra Pradesh<br>Month=5<br>Unemployment_Rate=%{marker.size}<br>longitude=%{lat}<br>latitude=%{lon}<extra></extra>",
           "hovertext": [
            "Andhra Pradesh"
           ],
           "lat": [
            15.9129
           ],
           "legendgroup": "Andhra Pradesh",
           "lon": [
            79.74
           ],
           "marker": {
            "color": "#000001",
            "size": [
             17.43
            ],
            "sizemode": "area",
            "sizeref": 0.08427777777777777,
            "symbol": "circle"
           },
           "mode": "markers",
           "name": "Andhra Pradesh",
           "showlegend": true,
           "type": "scattergeo"
          },
          {
           "geo": "geo",
           "hovertemplate": "<b>%{hovertext}</b><br><br>State=Assam<br>Month=5<br>Unemployment_Rate=%{marker.size}<br>longitude=%{lat}<br>latitude=%{lon}<extra></extra>",
           "hovertext": [
            "Assam"
           ],
           "lat": [
            26.2006
           ],
           "legendgroup": "Assam",
           "lon": [
            92.9376
           ],
           "marker": {
            "color": "#000002",
            "size": [
             9.55
            ],
            "sizemode": "area",
            "sizeref": 0.08427777777777777,
            "symbol": "circle"
           },
           "mode": "markers",
           "name": "Assam",
           "showlegend": true,
           "type": "scattergeo"
          },
          {
           "geo": "geo",
           "hovertemplate": "<b>%{hovertext}</b><br><br>State=Bihar<br>Month=5<br>Unemployment_Rate=%{marker.size}<br>longitude=%{lat}<br>latitude=%{lon}<extra></extra>",
           "hovertext": [
            "Bihar"
           ],
           "lat": [
            25.0961
           ],
           "legendgroup": "Bihar",
           "lon": [
            85.3131
           ],
           "marker": {
            "color": "#000003",
            "size": [
             45.96
            ],
            "sizemode": "area",
            "sizeref": 0.08427777777777777,
            "symbol": "circle"
           },
           "mode": "markers",
           "name": "Bihar",
           "showlegend": true,
           "type": "scattergeo"
          },
          {
           "geo": "geo",
           "hovertemplate": "<b>%{hovertext}</b><br><br>State=Chhattisgarh<br>Month=5<br>Unemployment_Rate=%{marker.size}<br>longitude=%{lat}<br>latitude=%{lon}<extra></extra>",
           "hovertext": [
            "Chhattisgarh"
           ],
           "lat": [
            21.2787
           ],
           "legendgroup": "Chhattisgarh",
           "lon": [
            81.8661
           ],
           "marker": {
            "color": "#000004",
            "size": [
             10.5
            ],
            "sizemode": "area",
            "sizeref": 0.08427777777777777,
            "symbol": "circle"
           },
           "mode": "markers",
           "name": "Chhattisgarh",
           "showlegend": true,
           "type": "scattergeo"
          },
          {
           "geo": "geo",
           "hovertemplate": "<b>%{hovertext}</b><br><br>State=Delhi<br>Month=5<br>Unemployment_Rate=%{marker.size}<br>longitude=%{lat}<br>latitude=%{lon}<extra></extra>",
           "hovertext": [
            "Delhi"
           ],
           "lat": [
            28.7041
           ],
           "legendgroup": "Delhi",
           "lon": [
            77.1025
           ],
           "marker": {
            "color": "#000005",
            "size": [
             42.27
            ],
            "sizemode": "area",
            "sizeref": 0.08427777777777777,
            "symbol": "circle"
           },
           "mode": "markers",
           "name": "Delhi",
           "showlegend": true,
           "type": "scattergeo"
          },
          {
           "geo": "geo",
           "hovertemplate": "<b>%{hovertext}</b><br><br>State=Goa<br>Month=5<br>Unemployment_Rate=%{marker.size}<br>longitude=%{lat}<br>latitude=%{lon}<extra></extra>",
           "hovertext": [
            "Goa"
           ],
           "lat": [
            15.2993
           ],
           "legendgroup": "Goa",
           "lon": [
            74.124
           ],
           "marker": {
            "color": "#000006",
            "size": [
             21.25
            ],
            "sizemode": "area",
            "sizeref": 0.08427777777777777,
            "symbol": "circle"
           },
           "mode": "markers",
           "name": "Goa",
           "showlegend": true,
           "type": "scattergeo"
          },
          {
           "geo": "geo",
           "hovertemplate": "<b>%{hovertext}</b><br><br>State=Gujarat<br>Month=5<br>Unemployment_Rate=%{marker.size}<br>longitude=%{lat}<br>latitude=%{lon}<extra></extra>",
           "hovertext": [
            "Gujarat"
           ],
           "lat": [
            22.2587
           ],
           "legendgroup": "Gujarat",
           "lon": [
            71.1924
           ],
           "marker": {
            "color": "#000007",
            "size": [
             12.11
            ],
            "sizemode": "area",
            "sizeref": 0.08427777777777777,
            "symbol": "circle"
           },
           "mode": "markers",
           "name": "Gujarat",
           "showlegend": true,
           "type": "scattergeo"
          },
          {
           "geo": "geo",
           "hovertemplate": "<b>%{hovertext}</b><br><br>State=Haryana<br>Month=5<br>Unemployment_Rate=%{marker.size}<br>longitude=%{lat}<br>latitude=%{lon}<extra></extra>",
           "hovertext": [
            "Haryana"
           ],
           "lat": [
            29.0588
           ],
           "legendgroup": "Haryana",
           "lon": [
            76.0856
           ],
           "marker": {
            "color": "#000008",
            "size": [
             29.02
            ],
            "sizemode": "area",
            "sizeref": 0.08427777777777777,
            "symbol": "circle"
           },
           "mode": "markers",
           "name": "Haryana",
           "showlegend": true,
           "type": "scattergeo"
          },
          {
           "geo": "geo",
           "hovertemplate": "<b>%{hovertext}</b><br><br>State=Himachal Pradesh<br>Month=5<br>Unemployment_Rate=%{marker.size}<br>longitude=%{lat}<br>latitude=%{lon}<extra></extra>",
           "hovertext": [
            "Himachal Pradesh"
           ],
           "lat": [
            31.1048
           ],
           "legendgroup": "Himachal Pradesh",
           "lon": [
            77.1734
           ],
           "marker": {
            "color": "#000009",
            "size": [
             26.95
            ],
            "sizemode": "area",
            "sizeref": 0.08427777777777777,
            "symbol": "circle"
           },
           "mode": "markers",
           "name": "Himachal Pradesh",
           "showlegend": true,
           "type": "scattergeo"
          },
          {
           "geo": "geo",
           "hovertemplate": "<b>%{hovertext}</b><br><br>State=Jammu & Kashmir<br>Month=5<br>Unemployment_Rate=%{marker.size}<br>longitude=%{lat}<br>latitude=%{lon}<extra></extra>",
           "hovertext": [
            "Jammu & Kashmir"
           ],
           "lat": [
            33.7782
           ],
           "legendgroup": "Jammu & Kashmir",
           "lon": [
            76.5762
           ],
           "marker": {
            "color": "#000010",
            "size": [
             18.74
            ],
            "sizemode": "area",
            "sizeref": 0.08427777777777777,
            "symbol": "circle"
           },
           "mode": "markers",
           "name": "Jammu & Kashmir",
           "showlegend": true,
           "type": "scattergeo"
          },
          {
           "geo": "geo",
           "hovertemplate": "<b>%{hovertext}</b><br><br>State=Jharkhand<br>Month=5<br>Unemployment_Rate=%{marker.size}<br>longitude=%{lat}<br>latitude=%{lon}<extra></extra>",
           "hovertext": [
            "Jharkhand"
           ],
           "lat": [
            23.6102
           ],
           "legendgroup": "Jharkhand",
           "lon": [
            85.2799
           ],
           "marker": {
            "color": "#000001",
            "size": [
             59.23
            ],
            "sizemode": "area",
            "sizeref": 0.08427777777777777,
            "symbol": "circle"
           },
           "mode": "markers",
           "name": "Jharkhand",
           "showlegend": true,
           "type": "scattergeo"
          },
          {
           "geo": "geo",
           "hovertemplate": "<b>%{hovertext}</b><br><br>State=Karnataka<br>Month=5<br>Unemployment_Rate=%{marker.size}<br>longitude=%{lat}<br>latitude=%{lon}<extra></extra>",
           "hovertext": [
            "Karnataka"
           ],
           "lat": [
            15.3173
           ],
           "legendgroup": "Karnataka",
           "lon": [
            75.7139
           ],
           "marker": {
            "color": "#000002",
            "size": [
             19.97
            ],
            "sizemode": "area",
            "sizeref": 0.08427777777777777,
            "symbol": "circle"
           },
           "mode": "markers",
           "name": "Karnataka",
           "showlegend": true,
           "type": "scattergeo"
          },
          {
           "geo": "geo",
           "hovertemplate": "<b>%{hovertext}</b><br><br>State=Kerala<br>Month=5<br>Unemployment_Rate=%{marker.size}<br>longitude=%{lat}<br>latitude=%{lon}<extra></extra>",
           "hovertext": [
            "Kerala"
           ],
           "lat": [
            10.8505
           ],
           "legendgroup": "Kerala",
           "lon": [
            76.2711
           ],
           "marker": {
            "color": "#000003",
            "size": [
             17.88
            ],
            "sizemode": "area",
            "sizeref": 0.08427777777777777,
            "symbol": "circle"
           },
           "mode": "markers",
           "name": "Kerala",
           "showlegend": true,
           "type": "scattergeo"
          },
          {
           "geo": "geo",
           "hovertemplate": "<b>%{hovertext}</b><br><br>State=Madhya Pradesh<br>Month=5<br>Unemployment_Rate=%{marker.size}<br>longitude=%{lat}<br>latitude=%{lon}<extra></extra>",
           "hovertext": [
            "Madhya Pradesh"
           ],
           "lat": [
            22.9734
           ],
           "legendgroup": "Madhya Pradesh",
           "lon": [
            78.6569
           ],
           "marker": {
            "color": "#000004",
            "size": [
             21.98
            ],
            "sizemode": "area",
            "sizeref": 0.08427777777777777,
            "symbol": "circle"
           },
           "mode": "markers",
           "name": "Madhya Pradesh",
           "showlegend": true,
           "type": "scattergeo"
          },
          {
           "geo": "geo",
           "hovertemplate": "<b>%{hovertext}</b><br><br>State=Maharashtra<br>Month=5<br>Unemployment_Rate=%{marker.size}<br>longitude=%{lat}<br>latitude=%{lon}<extra></extra>",
           "hovertext": [
            "Maharashtra"
           ],
           "lat": [
            19.7515
           ],
           "legendgroup": "Maharashtra",
           "lon": [
            75.7139
           ],
           "marker": {
            "color": "#000005",
            "size": [
             15.46
            ],
            "sizemode": "area",
            "sizeref": 0.08427777777777777,
            "symbol": "circle"
           },
           "mode": "markers",
           "name": "Maharashtra",
           "showlegend": true,
           "type": "scattergeo"
          },
          {
           "geo": "geo",
           "hovertemplate": "<b>%{hovertext}</b><br><br>State=Meghalaya<br>Month=5<br>Unemployment_Rate=%{marker.size}<br>longitude=%{lat}<br>latitude=%{lon}<extra></extra>",
           "hovertext": [
            "Meghalaya"
           ],
           "lat": [
            25.467
           ],
           "legendgroup": "Meghalaya",
           "lon": [
            91.3662
           ],
           "marker": {
            "color": "#000006",
            "size": [
             5.92
            ],
            "sizemode": "area",
            "sizeref": 0.08427777777777777,
            "symbol": "circle"
           },
           "mode": "markers",
           "name": "Meghalaya",
           "showlegend": true,
           "type": "scattergeo"
          },
          {
           "geo": "geo",
           "hovertemplate": "<b>%{hovertext}</b><br><br>State=Odisha<br>Month=5<br>Unemployment_Rate=%{marker.size}<br>longitude=%{lat}<br>latitude=%{lon}<extra></extra>",
           "hovertext": [
            "Odisha"
           ],
           "lat": [
            20.9517
           ],
           "legendgroup": "Odisha",
           "lon": [
            85.0985
           ],
           "marker": {
            "color": "#000007",
            "size": [
             11.41
            ],
            "sizemode": "area",
            "sizeref": 0.08427777777777777,
            "symbol": "circle"
           },
           "mode": "markers",
           "name": "Odisha",
           "showlegend": true,
           "type": "scattergeo"
          },
          {
           "geo": "geo",
           "hovertemplate": "<b>%{hovertext}</b><br><br>State=Puducherry<br>Month=5<br>Unemployment_Rate=%{marker.size}<br>longitude=%{lat}<br>latitude=%{lon}<extra></extra>",
           "hovertext": [
            "Puducherry"
           ],
           "lat": [
            11.9416
           ],
           "legendgroup": "Puducherry",
           "lon": [
            79.8083
           ],
           "marker": {
            "color": "#000008",
            "size": [
             58.19
            ],
            "sizemode": "area",
            "sizeref": 0.08427777777777777,
            "symbol": "circle"
           },
           "mode": "markers",
           "name": "Puducherry",
           "showlegend": true,
           "type": "scattergeo"
          },
          {
           "geo": "geo",
           "hovertemplate": "<b>%{hovertext}</b><br><br>State=Punjab<br>Month=5<br>Unemployment_Rate=%{marker.size}<br>longitude=%{lat}<br>latitude=%{lon}<extra></extra>",
           "hovertext": [
            "Punjab"
           ],
           "lat": [
            31.1471
           ],
           "legendgroup": "Punjab",
           "lon": [
            75.3412
           ],
           "marker": {
            "color": "#000009",
            "size": [
             28.33
            ],
            "sizemode": "area",
            "sizeref": 0.08427777777777777,
            "symbol": "circle"
           },
           "mode": "markers",
           "name": "Punjab",
           "showlegend": true,
           "type": "scattergeo"
          },
          {
           "geo": "geo",
           "hovertemplate": "<b>%{hovertext}</b><br><br>State=Rajasthan<br>Month=5<br>Unemployment_Rate=%{marker.size}<br>longitude=%{lat}<br>latitude=%{lon}<extra></extra>",
           "hovertext": [
            "Rajasthan"
           ],
           "lat": [
            27.0238
           ],
           "legendgroup": "Rajasthan",
           "lon": [
            74.2179
           ],
           "marker": {
            "color": "#000010",
            "size": [
             15.74
            ],
            "sizemode": "area",
            "sizeref": 0.08427777777777777,
            "symbol": "circle"
           },
           "mode": "markers",
           "name": "Rajasthan",
           "showlegend": true,
           "type": "scattergeo"
          },
          {
           "geo": "geo",
           "hovertemplate": "<b>%{hovertext}</b><br><br>State=Sikkim<br>Month=5<br>Unemployment_Rate=%{marker.size}<br>longitude=%{lat}<br>latitude=%{lon}<extra></extra>",
           "hovertext": [
            "Sikkim"
           ],
           "lat": [
            27.533
           ],
           "legendgroup": "Sikkim",
           "lon": [
            88.5122
           ],
           "marker": {
            "color": "#000001",
            "size": [
             24.51
            ],
            "sizemode": "area",
            "sizeref": 0.08427777777777777,
            "symbol": "circle"
           },
           "mode": "markers",
           "name": "Sikkim",
           "showlegend": true,
           "type": "scattergeo"
          },
          {
           "geo": "geo",
           "hovertemplate": "<b>%{hovertext}</b><br><br>State=Tamil Nadu<br>Month=5<br>Unemployment_Rate=%{marker.size}<br>longitude=%{lat}<br>latitude=%{lon}<extra></extra>",
           "hovertext": [
            "Tamil Nadu"
           ],
           "lat": [
            11.1271
           ],
           "legendgroup": "Tamil Nadu",
           "lon": [
            78.6569
           ],
           "marker": {
            "color": "#000002",
            "size": [
             33.16
            ],
            "sizemode": "area",
            "sizeref": 0.08427777777777777,
            "symbol": "circle"
           },
           "mode": "markers",
           "name": "Tamil Nadu",
           "showlegend": true,
           "type": "scattergeo"
          },
          {
           "geo": "geo",
           "hovertemplate": "<b>%{hovertext}</b><br><br>State=Telangana<br>Month=5<br>Unemployment_Rate=%{marker.size}<br>longitude=%{lat}<br>latitude=%{lon}<extra></extra>",
           "hovertext": [
            "Telangana"
           ],
           "lat": [
            18.1124
           ],
           "legendgroup": "Telangana",
           "lon": [
            79.0193
           ],
           "marker": {
            "color": "#000003",
            "size": [
             14.7
            ],
            "sizemode": "area",
            "sizeref": 0.08427777777777777,
            "symbol": "circle"
           },
           "mode": "markers",
           "name": "Telangana",
           "showlegend": true,
           "type": "scattergeo"
          },
          {
           "geo": "geo",
           "hovertemplate": "<b>%{hovertext}</b><br><br>State=Tripura<br>Month=5<br>Unemployment_Rate=%{marker.size}<br>longitude=%{lat}<br>latitude=%{lon}<extra></extra>",
           "hovertext": [
            "Tripura"
           ],
           "lat": [
            23.9408
           ],
           "legendgroup": "Tripura",
           "lon": [
            91.9882
           ],
           "marker": {
            "color": "#000004",
            "size": [
             21.51
            ],
            "sizemode": "area",
            "sizeref": 0.08427777777777777,
            "symbol": "circle"
           },
           "mode": "markers",
           "name": "Tripura",
           "showlegend": true,
           "type": "scattergeo"
          },
          {
           "geo": "geo",
           "hovertemplate": "<b>%{hovertext}</b><br><br>State=Uttar Pradesh<br>Month=5<br>Unemployment_Rate=%{marker.size}<br>longitude=%{lat}<br>latitude=%{lon}<extra></extra>",
           "hovertext": [
            "Uttar Pradesh"
           ],
           "lat": [
            26.8467
           ],
           "legendgroup": "Uttar Pradesh",
           "lon": [
            80.9462
           ],
           "marker": {
            "color": "#000005",
            "size": [
             20.41
            ],
            "sizemode": "area",
            "sizeref": 0.08427777777777777,
            "symbol": "circle"
           },
           "mode": "markers",
           "name": "Uttar Pradesh",
           "showlegend": true,
           "type": "scattergeo"
          },
          {
           "geo": "geo",
           "hovertemplate": "<b>%{hovertext}</b><br><br>State=Uttarakhand<br>Month=5<br>Unemployment_Rate=%{marker.size}<br>longitude=%{lat}<br>latitude=%{lon}<extra></extra>",
           "hovertext": [
            "Uttarakhand"
           ],
           "lat": [
            30.0668
           ],
           "legendgroup": "Uttarakhand",
           "lon": [
            79.0193
           ],
           "marker": {
            "color": "#000006",
            "size": [
             8.01
            ],
            "sizemode": "area",
            "sizeref": 0.08427777777777777,
            "symbol": "circle"
           },
           "mode": "markers",
           "name": "Uttarakhand",
           "showlegend": true,
           "type": "scattergeo"
          },
          {
           "geo": "geo",
           "hovertemplate": "<b>%{hovertext}</b><br><br>State=West Bengal<br>Month=5<br>Unemployment_Rate=%{marker.size}<br>longitude=%{lat}<br>latitude=%{lon}<extra></extra>",
           "hovertext": [
            "West Bengal"
           ],
           "lat": [
            22.9868
           ],
           "legendgroup": "West Bengal",
           "lon": [
            87.855
           ],
           "marker": {
            "color": "#000007",
            "size": [
             17.41
            ],
            "sizemode": "area",
            "sizeref": 0.08427777777777777,
            "symbol": "circle"
           },
           "mode": "markers",
           "name": "West Bengal",
           "showlegend": true,
           "type": "scattergeo"
          }
         ],
         "name": "5"
        },
        {
         "data": [
          {
           "geo": "geo",
           "hovertemplate": "<b>%{hovertext}</b><br><br>State=Andhra Pradesh<br>Month=6<br>Unemployment_Rate=%{marker.size}<br>longitude=%{lat}<br>latitude=%{lon}<extra></extra>",
           "hovertext": [
            "Andhra Pradesh"
           ],
           "lat": [
            15.9129
           ],
           "legendgroup": "Andhra Pradesh",
           "lon": [
            79.74
           ],
           "marker": {
            "color": "#000001",
            "size": [
             3.31
            ],
            "sizemode": "area",
            "sizeref": 0.08427777777777777,
            "symbol": "circle"
           },
           "mode": "markers",
           "name": "Andhra Pradesh",
           "showlegend": true,
           "type": "scattergeo"
          },
          {
           "geo": "geo",
           "hovertemplate": "<b>%{hovertext}</b><br><br>State=Assam<br>Month=6<br>Unemployment_Rate=%{marker.size}<br>longitude=%{lat}<br>latitude=%{lon}<extra></extra>",
           "hovertext": [
            "Assam"
           ],
           "lat": [
            26.2006
           ],
           "legendgroup": "Assam",
           "lon": [
            92.9376
           ],
           "marker": {
            "color": "#000002",
            "size": [
             0.6
            ],
            "sizemode": "area",
            "sizeref": 0.08427777777777777,
            "symbol": "circle"
           },
           "mode": "markers",
           "name": "Assam",
           "showlegend": true,
           "type": "scattergeo"
          },
          {
           "geo": "geo",
           "hovertemplate": "<b>%{hovertext}</b><br><br>State=Bihar<br>Month=6<br>Unemployment_Rate=%{marker.size}<br>longitude=%{lat}<br>latitude=%{lon}<extra></extra>",
           "hovertext": [
            "Bihar"
           ],
           "lat": [
            25.0961
           ],
           "legendgroup": "Bihar",
           "lon": [
            85.3131
           ],
           "marker": {
            "color": "#000003",
            "size": [
             17.82
            ],
            "sizemode": "area",
            "sizeref": 0.08427777777777777,
            "symbol": "circle"
           },
           "mode": "markers",
           "name": "Bihar",
           "showlegend": true,
           "type": "scattergeo"
          },
          {
           "geo": "geo",
           "hovertemplate": "<b>%{hovertext}</b><br><br>State=Chhattisgarh<br>Month=6<br>Unemployment_Rate=%{marker.size}<br>longitude=%{lat}<br>latitude=%{lon}<extra></extra>",
           "hovertext": [
            "Chhattisgarh"
           ],
           "lat": [
            21.2787
           ],
           "legendgroup": "Chhattisgarh",
           "lon": [
            81.8661
           ],
           "marker": {
            "color": "#000004",
            "size": [
             14.23
            ],
            "sizemode": "area",
            "sizeref": 0.08427777777777777,
            "symbol": "circle"
           },
           "mode": "markers",
           "name": "Chhattisgarh",
           "showlegend": true,
           "type": "scattergeo"
          },
          {
           "geo": "geo",
           "hovertemplate": "<b>%{hovertext}</b><br><br>State=Delhi<br>Month=6<br>Unemployment_Rate=%{marker.size}<br>longitude=%{lat}<br>latitude=%{lon}<extra></extra>",
           "hovertext": [
            "Delhi"
           ],
           "lat": [
            28.7041
           ],
           "legendgroup": "Delhi",
           "lon": [
            77.1025
           ],
           "marker": {
            "color": "#000005",
            "size": [
             18.19
            ],
            "sizemode": "area",
            "sizeref": 0.08427777777777777,
            "symbol": "circle"
           },
           "mode": "markers",
           "name": "Delhi",
           "showlegend": true,
           "type": "scattergeo"
          },
          {
           "geo": "geo",
           "hovertemplate": "<b>%{hovertext}</b><br><br>State=Goa<br>Month=6<br>Unemployment_Rate=%{marker.size}<br>longitude=%{lat}<br>latitude=%{lon}<extra></extra>",
           "hovertext": [
            "Goa"
           ],
           "lat": [
            15.2993
           ],
           "legendgroup": "Goa",
           "lon": [
            74.124
           ],
           "marker": {
            "color": "#000006",
            "size": [
             9.96
            ],
            "sizemode": "area",
            "sizeref": 0.08427777777777777,
            "symbol": "circle"
           },
           "mode": "markers",
           "name": "Goa",
           "showlegend": true,
           "type": "scattergeo"
          },
          {
           "geo": "geo",
           "hovertemplate": "<b>%{hovertext}</b><br><br>State=Gujarat<br>Month=6<br>Unemployment_Rate=%{marker.size}<br>longitude=%{lat}<br>latitude=%{lon}<extra></extra>",
           "hovertext": [
            "Gujarat"
           ],
           "lat": [
            22.2587
           ],
           "legendgroup": "Gujarat",
           "lon": [
            71.1924
           ],
           "marker": {
            "color": "#000007",
            "size": [
             3.2
            ],
            "sizemode": "area",
            "sizeref": 0.08427777777777777,
            "symbol": "circle"
           },
           "mode": "markers",
           "name": "Gujarat",
           "showlegend": true,
           "type": "scattergeo"
          },
          {
           "geo": "geo",
           "hovertemplate": "<b>%{hovertext}</b><br><br>State=Haryana<br>Month=6<br>Unemployment_Rate=%{marker.size}<br>longitude=%{lat}<br>latitude=%{lon}<extra></extra>",
           "hovertext": [
            "Haryana"
           ],
           "lat": [
            29.0588
           ],
           "legendgroup": "Haryana",
           "lon": [
            76.0856
           ],
           "marker": {
            "color": "#000008",
            "size": [
             26.7
            ],
            "sizemode": "area",
            "sizeref": 0.08427777777777777,
            "symbol": "circle"
           },
           "mode": "markers",
           "name": "Haryana",
           "showlegend": true,
           "type": "scattergeo"
          },
          {
           "geo": "geo",
           "hovertemplate": "<b>%{hovertext}</b><br><br>State=Himachal Pradesh<br>Month=6<br>Unemployment_Rate=%{marker.size}<br>longitude=%{lat}<br>latitude=%{lon}<extra></extra>",
           "hovertext": [
            "Himachal Pradesh"
           ],
           "lat": [
            31.1048
           ],
           "legendgroup": "Himachal Pradesh",
           "lon": [
            77.1734
           ],
           "marker": {
            "color": "#000009",
            "size": [
             13.47
            ],
            "sizemode": "area",
            "sizeref": 0.08427777777777777,
            "symbol": "circle"
           },
           "mode": "markers",
           "name": "Himachal Pradesh",
           "showlegend": true,
           "type": "scattergeo"
          },
          {
           "geo": "geo",
           "hovertemplate": "<b>%{hovertext}</b><br><br>State=Jammu & Kashmir<br>Month=6<br>Unemployment_Rate=%{marker.size}<br>longitude=%{lat}<br>latitude=%{lon}<extra></extra>",
           "hovertext": [
            "Jammu & Kashmir"
           ],
           "lat": [
            33.7782
           ],
           "legendgroup": "Jammu & Kashmir",
           "lon": [
            76.5762
           ],
           "marker": {
            "color": "#000010",
            "size": [
             17.92
            ],
            "sizemode": "area",
            "sizeref": 0.08427777777777777,
            "symbol": "circle"
           },
           "mode": "markers",
           "name": "Jammu & Kashmir",
           "showlegend": true,
           "type": "scattergeo"
          },
          {
           "geo": "geo",
           "hovertemplate": "<b>%{hovertext}</b><br><br>State=Jharkhand<br>Month=6<br>Unemployment_Rate=%{marker.size}<br>longitude=%{lat}<br>latitude=%{lon}<extra></extra>",
           "hovertext": [
            "Jharkhand"
           ],
           "lat": [
            23.6102
           ],
           "legendgroup": "Jharkhand",
           "lon": [
            85.2799
           ],
           "marker": {
            "color": "#000001",
            "size": [
             20.95
            ],
            "sizemode": "area",
            "sizeref": 0.08427777777777777,
            "symbol": "circle"
           },
           "mode": "markers",
           "name": "Jharkhand",
           "showlegend": true,
           "type": "scattergeo"
          },
          {
           "geo": "geo",
           "hovertemplate": "<b>%{hovertext}</b><br><br>State=Karnataka<br>Month=6<br>Unemployment_Rate=%{marker.size}<br>longitude=%{lat}<br>latitude=%{lon}<extra></extra>",
           "hovertext": [
            "Karnataka"
           ],
           "lat": [
            15.3173
           ],
           "legendgroup": "Karnataka",
           "lon": [
            75.7139
           ],
           "marker": {
            "color": "#000002",
            "size": [
             8.44
            ],
            "sizemode": "area",
            "sizeref": 0.08427777777777777,
            "symbol": "circle"
           },
           "mode": "markers",
           "name": "Karnataka",
           "showlegend": true,
           "type": "scattergeo"
          },
          {
           "geo": "geo",
           "hovertemplate": "<b>%{hovertext}</b><br><br>State=Kerala<br>Month=6<br>Unemployment_Rate=%{marker.size}<br>longitude=%{lat}<br>latitude=%{lon}<extra></extra>",
           "hovertext": [
            "Kerala"
           ],
           "lat": [
            10.8505
           ],
           "legendgroup": "Kerala",
           "lon": [
            76.2711
           ],
           "marker": {
            "color": "#000003",
            "size": [
             9.71
            ],
            "sizemode": "area",
            "sizeref": 0.08427777777777777,
            "symbol": "circle"
           },
           "mode": "markers",
           "name": "Kerala",
           "showlegend": true,
           "type": "scattergeo"
          },
          {
           "geo": "geo",
           "hovertemplate": "<b>%{hovertext}</b><br><br>State=Madhya Pradesh<br>Month=6<br>Unemployment_Rate=%{marker.size}<br>longitude=%{lat}<br>latitude=%{lon}<extra></extra>",
           "hovertext": [
            "Madhya Pradesh"
           ],
           "lat": [
            22.9734
           ],
           "legendgroup": "Madhya Pradesh",
           "lon": [
            78.6569
           ],
           "marker": {
            "color": "#000004",
            "size": [
             6.48
            ],
            "sizemode": "area",
            "sizeref": 0.08427777777777777,
            "symbol": "circle"
           },
           "mode": "markers",
           "name": "Madhya Pradesh",
           "showlegend": true,
           "type": "scattergeo"
          },
          {
           "geo": "geo",
           "hovertemplate": "<b>%{hovertext}</b><br><br>State=Maharashtra<br>Month=6<br>Unemployment_Rate=%{marker.size}<br>longitude=%{lat}<br>latitude=%{lon}<extra></extra>",
           "hovertext": [
            "Maharashtra"
           ],
           "lat": [
            19.7515
           ],
           "legendgroup": "Maharashtra",
           "lon": [
            75.7139
           ],
           "marker": {
            "color": "#000005",
            "size": [
             9.23
            ],
            "sizemode": "area",
            "sizeref": 0.08427777777777777,
            "symbol": "circle"
           },
           "mode": "markers",
           "name": "Maharashtra",
           "showlegend": true,
           "type": "scattergeo"
          },
          {
           "geo": "geo",
           "hovertemplate": "<b>%{hovertext}</b><br><br>State=Meghalaya<br>Month=6<br>Unemployment_Rate=%{marker.size}<br>longitude=%{lat}<br>latitude=%{lon}<extra></extra>",
           "hovertext": [
            "Meghalaya"
           ],
           "lat": [
            25.467
           ],
           "legendgroup": "Meghalaya",
           "lon": [
            91.3662
           ],
           "marker": {
            "color": "#000006",
            "size": [
             1.15
            ],
            "sizemode": "area",
            "sizeref": 0.08427777777777777,
            "symbol": "circle"
           },
           "mode": "markers",
           "name": "Meghalaya",
           "showlegend": true,
           "type": "scattergeo"
          },
          {
           "geo": "geo",
           "hovertemplate": "<b>%{hovertext}</b><br><br>State=Odisha<br>Month=6<br>Unemployment_Rate=%{marker.size}<br>longitude=%{lat}<br>latitude=%{lon}<extra></extra>",
           "hovertext": [
            "Odisha"
           ],
           "lat": [
            20.9517
           ],
           "legendgroup": "Odisha",
           "lon": [
            85.0985
           ],
           "marker": {
            "color": "#000007",
            "size": [
             3.77
            ],
            "sizemode": "area",
            "sizeref": 0.08427777777777777,
            "symbol": "circle"
           },
           "mode": "markers",
           "name": "Odisha",
           "showlegend": true,
           "type": "scattergeo"
          },
          {
           "geo": "geo",
           "hovertemplate": "<b>%{hovertext}</b><br><br>State=Puducherry<br>Month=6<br>Unemployment_Rate=%{marker.size}<br>longitude=%{lat}<br>latitude=%{lon}<extra></extra>",
           "hovertext": [
            "Puducherry"
           ],
           "lat": [
            11.9416
           ],
           "legendgroup": "Puducherry",
           "lon": [
            79.8083
           ],
           "marker": {
            "color": "#000008",
            "size": [
             4.24
            ],
            "sizemode": "area",
            "sizeref": 0.08427777777777777,
            "symbol": "circle"
           },
           "mode": "markers",
           "name": "Puducherry",
           "showlegend": true,
           "type": "scattergeo"
          },
          {
           "geo": "geo",
           "hovertemplate": "<b>%{hovertext}</b><br><br>State=Punjab<br>Month=6<br>Unemployment_Rate=%{marker.size}<br>longitude=%{lat}<br>latitude=%{lon}<extra></extra>",
           "hovertext": [
            "Punjab"
           ],
           "lat": [
            31.1471
           ],
           "legendgroup": "Punjab",
           "lon": [
            75.3412
           ],
           "marker": {
            "color": "#000009",
            "size": [
             16.55
            ],
            "sizemode": "area",
            "sizeref": 0.08427777777777777,
            "symbol": "circle"
           },
           "mode": "markers",
           "name": "Punjab",
           "showlegend": true,
           "type": "scattergeo"
          },
          {
           "geo": "geo",
           "hovertemplate": "<b>%{hovertext}</b><br><br>State=Rajasthan<br>Month=6<br>Unemployment_Rate=%{marker.size}<br>longitude=%{lat}<br>latitude=%{lon}<extra></extra>",
           "hovertext": [
            "Rajasthan"
           ],
           "lat": [
            27.0238
           ],
           "legendgroup": "Rajasthan",
           "lon": [
            74.2179
           ],
           "marker": {
            "color": "#000010",
            "size": [
             14.39
            ],
            "sizemode": "area",
            "sizeref": 0.08427777777777777,
            "symbol": "circle"
           },
           "mode": "markers",
           "name": "Rajasthan",
           "showlegend": true,
           "type": "scattergeo"
          },
          {
           "geo": "geo",
           "hovertemplate": "<b>%{hovertext}</b><br><br>State=Sikkim<br>Month=6<br>Unemployment_Rate=%{marker.size}<br>longitude=%{lat}<br>latitude=%{lon}<extra></extra>",
           "hovertext": [
            "Sikkim"
           ],
           "lat": [
            27.533
           ],
           "legendgroup": "Sikkim",
           "lon": [
            88.5122
           ],
           "marker": {
            "color": "#000001",
            "size": [
             4.46
            ],
            "sizemode": "area",
            "sizeref": 0.08427777777777777,
            "symbol": "circle"
           },
           "mode": "markers",
           "name": "Sikkim",
           "showlegend": true,
           "type": "scattergeo"
          },
          {
           "geo": "geo",
           "hovertemplate": "<b>%{hovertext}</b><br><br>State=Tamil Nadu<br>Month=6<br>Unemployment_Rate=%{marker.size}<br>longitude=%{lat}<br>latitude=%{lon}<extra></extra>",
           "hovertext": [
            "Tamil Nadu"
           ],
           "lat": [
            11.1271
           ],
           "legendgroup": "Tamil Nadu",
           "lon": [
            78.6569
           ],
           "marker": {
            "color": "#000002",
            "size": [
             12.2
            ],
            "sizemode": "area",
            "sizeref": 0.08427777777777777,
            "symbol": "circle"
           },
           "mode": "markers",
           "name": "Tamil Nadu",
           "showlegend": true,
           "type": "scattergeo"
          },
          {
           "geo": "geo",
           "hovertemplate": "<b>%{hovertext}</b><br><br>State=Telangana<br>Month=6<br>Unemployment_Rate=%{marker.size}<br>longitude=%{lat}<br>latitude=%{lon}<extra></extra>",
           "hovertext": [
            "Telangana"
           ],
           "lat": [
            18.1124
           ],
           "legendgroup": "Telangana",
           "lon": [
            79.0193
           ],
           "marker": {
            "color": "#000003",
            "size": [
             10.55
            ],
            "sizemode": "area",
            "sizeref": 0.08427777777777777,
            "symbol": "circle"
           },
           "mode": "markers",
           "name": "Telangana",
           "showlegend": true,
           "type": "scattergeo"
          },
          {
           "geo": "geo",
           "hovertemplate": "<b>%{hovertext}</b><br><br>State=Tripura<br>Month=6<br>Unemployment_Rate=%{marker.size}<br>longitude=%{lat}<br>latitude=%{lon}<extra></extra>",
           "hovertext": [
            "Tripura"
           ],
           "lat": [
            23.9408
           ],
           "legendgroup": "Tripura",
           "lon": [
            91.9882
           ],
           "marker": {
            "color": "#000004",
            "size": [
             21.71
            ],
            "sizemode": "area",
            "sizeref": 0.08427777777777777,
            "symbol": "circle"
           },
           "mode": "markers",
           "name": "Tripura",
           "showlegend": true,
           "type": "scattergeo"
          },
          {
           "geo": "geo",
           "hovertemplate": "<b>%{hovertext}</b><br><br>State=Uttar Pradesh<br>Month=6<br>Unemployment_Rate=%{marker.size}<br>longitude=%{lat}<br>latitude=%{lon}<extra></extra>",
           "hovertext": [
            "Uttar Pradesh"
           ],
           "lat": [
            26.8467
           ],
           "legendgroup": "Uttar Pradesh",
           "lon": [
            80.9462
           ],
           "marker": {
            "color": "#000005",
            "size": [
             9.47
            ],
            "sizemode": "area",
            "sizeref": 0.08427777777777777,
            "symbol": "circle"
           },
           "mode": "markers",
           "name": "Uttar Pradesh",
           "showlegend": true,
           "type": "scattergeo"
          },
          {
           "geo": "geo",
           "hovertemplate": "<b>%{hovertext}</b><br><br>State=Uttarakhand<br>Month=6<br>Unemployment_Rate=%{marker.size}<br>longitude=%{lat}<br>latitude=%{lon}<extra></extra>",
           "hovertext": [
            "Uttarakhand"
           ],
           "lat": [
            30.0668
           ],
           "legendgroup": "Uttarakhand",
           "lon": [
            79.0193
           ],
           "marker": {
            "color": "#000006",
            "size": [
             8.61
            ],
            "sizemode": "area",
            "sizeref": 0.08427777777777777,
            "symbol": "circle"
           },
           "mode": "markers",
           "name": "Uttarakhand",
           "showlegend": true,
           "type": "scattergeo"
          },
          {
           "geo": "geo",
           "hovertemplate": "<b>%{hovertext}</b><br><br>State=West Bengal<br>Month=6<br>Unemployment_Rate=%{marker.size}<br>longitude=%{lat}<br>latitude=%{lon}<extra></extra>",
           "hovertext": [
            "West Bengal"
           ],
           "lat": [
            22.9868
           ],
           "legendgroup": "West Bengal",
           "lon": [
            87.855
           ],
           "marker": {
            "color": "#000007",
            "size": [
             7.29
            ],
            "sizemode": "area",
            "sizeref": 0.08427777777777777,
            "symbol": "circle"
           },
           "mode": "markers",
           "name": "West Bengal",
           "showlegend": true,
           "type": "scattergeo"
          }
         ],
         "name": "6"
        },
        {
         "data": [
          {
           "geo": "geo",
           "hovertemplate": "<b>%{hovertext}</b><br><br>State=Andhra Pradesh<br>Month=7<br>Unemployment_Rate=%{marker.size}<br>longitude=%{lat}<br>latitude=%{lon}<extra></extra>",
           "hovertext": [
            "Andhra Pradesh"
           ],
           "lat": [
            15.9129
           ],
           "legendgroup": "Andhra Pradesh",
           "lon": [
            79.74
           ],
           "marker": {
            "color": "#000001",
            "size": [
             8.34
            ],
            "sizemode": "area",
            "sizeref": 0.08427777777777777,
            "symbol": "circle"
           },
           "mode": "markers",
           "name": "Andhra Pradesh",
           "showlegend": true,
           "type": "scattergeo"
          },
          {
           "geo": "geo",
           "hovertemplate": "<b>%{hovertext}</b><br><br>State=Assam<br>Month=7<br>Unemployment_Rate=%{marker.size}<br>longitude=%{lat}<br>latitude=%{lon}<extra></extra>",
           "hovertext": [
            "Assam"
           ],
           "lat": [
            26.2006
           ],
           "legendgroup": "Assam",
           "lon": [
            92.9376
           ],
           "marker": {
            "color": "#000002",
            "size": [
             3.77
            ],
            "sizemode": "area",
            "sizeref": 0.08427777777777777,
            "symbol": "circle"
           },
           "mode": "markers",
           "name": "Assam",
           "showlegend": true,
           "type": "scattergeo"
          },
          {
           "geo": "geo",
           "hovertemplate": "<b>%{hovertext}</b><br><br>State=Bihar<br>Month=7<br>Unemployment_Rate=%{marker.size}<br>longitude=%{lat}<br>latitude=%{lon}<extra></extra>",
           "hovertext": [
            "Bihar"
           ],
           "lat": [
            25.0961
           ],
           "legendgroup": "Bihar",
           "lon": [
            85.3131
           ],
           "marker": {
            "color": "#000003",
            "size": [
             12.79
            ],
            "sizemode": "area",
            "sizeref": 0.08427777777777777,
            "symbol": "circle"
           },
           "mode": "markers",
           "name": "Bihar",
           "showlegend": true,
           "type": "scattergeo"
          },
          {
           "geo": "geo",
           "hovertemplate": "<b>%{hovertext}</b><br><br>State=Chhattisgarh<br>Month=7<br>Unemployment_Rate=%{marker.size}<br>longitude=%{lat}<br>latitude=%{lon}<extra></extra>",
           "hovertext": [
            "Chhattisgarh"
           ],
           "lat": [
            21.2787
           ],
           "legendgroup": "Chhattisgarh",
           "lon": [
            81.8661
           ],
           "marker": {
            "color": "#000004",
            "size": [
             10.27
            ],
            "sizemode": "area",
            "sizeref": 0.08427777777777777,
            "symbol": "circle"
           },
           "mode": "markers",
           "name": "Chhattisgarh",
           "showlegend": true,
           "type": "scattergeo"
          },
          {
           "geo": "geo",
           "hovertemplate": "<b>%{hovertext}</b><br><br>State=Delhi<br>Month=7<br>Unemployment_Rate=%{marker.size}<br>longitude=%{lat}<br>latitude=%{lon}<extra></extra>",
           "hovertext": [
            "Delhi"
           ],
           "lat": [
            28.7041
           ],
           "legendgroup": "Delhi",
           "lon": [
            77.1025
           ],
           "marker": {
            "color": "#000005",
            "size": [
             20.3
            ],
            "sizemode": "area",
            "sizeref": 0.08427777777777777,
            "symbol": "circle"
           },
           "mode": "markers",
           "name": "Delhi",
           "showlegend": true,
           "type": "scattergeo"
          },
          {
           "geo": "geo",
           "hovertemplate": "<b>%{hovertext}</b><br><br>State=Goa<br>Month=7<br>Unemployment_Rate=%{marker.size}<br>longitude=%{lat}<br>latitude=%{lon}<extra></extra>",
           "hovertext": [
            "Goa"
           ],
           "lat": [
            15.2993
           ],
           "legendgroup": "Goa",
           "lon": [
            74.124
           ],
           "marker": {
            "color": "#000006",
            "size": [
             17.07
            ],
            "sizemode": "area",
            "sizeref": 0.08427777777777777,
            "symbol": "circle"
           },
           "mode": "markers",
           "name": "Goa",
           "showlegend": true,
           "type": "scattergeo"
          },
          {
           "geo": "geo",
           "hovertemplate": "<b>%{hovertext}</b><br><br>State=Gujarat<br>Month=7<br>Unemployment_Rate=%{marker.size}<br>longitude=%{lat}<br>latitude=%{lon}<extra></extra>",
           "hovertext": [
            "Gujarat"
           ],
           "lat": [
            22.2587
           ],
           "legendgroup": "Gujarat",
           "lon": [
            71.1924
           ],
           "marker": {
            "color": "#000007",
            "size": [
             1.84
            ],
            "sizemode": "area",
            "sizeref": 0.08427777777777777,
            "symbol": "circle"
           },
           "mode": "markers",
           "name": "Gujarat",
           "showlegend": true,
           "type": "scattergeo"
          },
          {
           "geo": "geo",
           "hovertemplate": "<b>%{hovertext}</b><br><br>State=Haryana<br>Month=7<br>Unemployment_Rate=%{marker.size}<br>longitude=%{lat}<br>latitude=%{lon}<extra></extra>",
           "hovertext": [
            "Haryana"
           ],
           "lat": [
            29.0588
           ],
           "legendgroup": "Haryana",
           "lon": [
            76.0856
           ],
           "marker": {
            "color": "#000008",
            "size": [
             24.18
            ],
            "sizemode": "area",
            "sizeref": 0.08427777777777777,
            "symbol": "circle"
           },
           "mode": "markers",
           "name": "Haryana",
           "showlegend": true,
           "type": "scattergeo"
          },
          {
           "geo": "geo",
           "hovertemplate": "<b>%{hovertext}</b><br><br>State=Himachal Pradesh<br>Month=7<br>Unemployment_Rate=%{marker.size}<br>longitude=%{lat}<br>latitude=%{lon}<extra></extra>",
           "hovertext": [
            "Himachal Pradesh"
           ],
           "lat": [
            31.1048
           ],
           "legendgroup": "Himachal Pradesh",
           "lon": [
            77.1734
           ],
           "marker": {
            "color": "#000009",
            "size": [
             24.31
            ],
            "sizemode": "area",
            "sizeref": 0.08427777777777777,
            "symbol": "circle"
           },
           "mode": "markers",
           "name": "Himachal Pradesh",
           "showlegend": true,
           "type": "scattergeo"
          },
          {
           "geo": "geo",
           "hovertemplate": "<b>%{hovertext}</b><br><br>State=Jammu & Kashmir<br>Month=7<br>Unemployment_Rate=%{marker.size}<br>longitude=%{lat}<br>latitude=%{lon}<extra></extra>",
           "hovertext": [
            "Jammu & Kashmir"
           ],
           "lat": [
            33.7782
           ],
           "legendgroup": "Jammu & Kashmir",
           "lon": [
            76.5762
           ],
           "marker": {
            "color": "#000010",
            "size": [
             10.88
            ],
            "sizemode": "area",
            "sizeref": 0.08427777777777777,
            "symbol": "circle"
           },
           "mode": "markers",
           "name": "Jammu & Kashmir",
           "showlegend": true,
           "type": "scattergeo"
          },
          {
           "geo": "geo",
           "hovertemplate": "<b>%{hovertext}</b><br><br>State=Jharkhand<br>Month=7<br>Unemployment_Rate=%{marker.size}<br>longitude=%{lat}<br>latitude=%{lon}<extra></extra>",
           "hovertext": [
            "Jharkhand"
           ],
           "lat": [
            23.6102
           ],
           "legendgroup": "Jharkhand",
           "lon": [
            85.2799
           ],
           "marker": {
            "color": "#000001",
            "size": [
             7.63
            ],
            "sizemode": "area",
            "sizeref": 0.08427777777777777,
            "symbol": "circle"
           },
           "mode": "markers",
           "name": "Jharkhand",
           "showlegend": true,
           "type": "scattergeo"
          },
          {
           "geo": "geo",
           "hovertemplate": "<b>%{hovertext}</b><br><br>State=Karnataka<br>Month=7<br>Unemployment_Rate=%{marker.size}<br>longitude=%{lat}<br>latitude=%{lon}<extra></extra>",
           "hovertext": [
            "Karnataka"
           ],
           "lat": [
            15.3173
           ],
           "legendgroup": "Karnataka",
           "lon": [
            75.7139
           ],
           "marker": {
            "color": "#000002",
            "size": [
             4.01
            ],
            "sizemode": "area",
            "sizeref": 0.08427777777777777,
            "symbol": "circle"
           },
           "mode": "markers",
           "name": "Karnataka",
           "showlegend": true,
           "type": "scattergeo"
          },
          {
           "geo": "geo",
           "hovertemplate": "<b>%{hovertext}</b><br><br>State=Kerala<br>Month=7<br>Unemployment_Rate=%{marker.size}<br>longitude=%{lat}<br>latitude=%{lon}<extra></extra>",
           "hovertext": [
            "Kerala"
           ],
           "lat": [
            10.8505
           ],
           "legendgroup": "Kerala",
           "lon": [
            76.2711
           ],
           "marker": {
            "color": "#000003",
            "size": [
             7.09
            ],
            "sizemode": "area",
            "sizeref": 0.08427777777777777,
            "symbol": "circle"
           },
           "mode": "markers",
           "name": "Kerala",
           "showlegend": true,
           "type": "scattergeo"
          },
          {
           "geo": "geo",
           "hovertemplate": "<b>%{hovertext}</b><br><br>State=Madhya Pradesh<br>Month=7<br>Unemployment_Rate=%{marker.size}<br>longitude=%{lat}<br>latitude=%{lon}<extra></extra>",
           "hovertext": [
            "Madhya Pradesh"
           ],
           "lat": [
            22.9734
           ],
           "legendgroup": "Madhya Pradesh",
           "lon": [
            78.6569
           ],
           "marker": {
            "color": "#000004",
            "size": [
             5.08
            ],
            "sizemode": "area",
            "sizeref": 0.08427777777777777,
            "symbol": "circle"
           },
           "mode": "markers",
           "name": "Madhya Pradesh",
           "showlegend": true,
           "type": "scattergeo"
          },
          {
           "geo": "geo",
           "hovertemplate": "<b>%{hovertext}</b><br><br>State=Maharashtra<br>Month=7<br>Unemployment_Rate=%{marker.size}<br>longitude=%{lat}<br>latitude=%{lon}<extra></extra>",
           "hovertext": [
            "Maharashtra"
           ],
           "lat": [
            19.7515
           ],
           "legendgroup": "Maharashtra",
           "lon": [
            75.7139
           ],
           "marker": {
            "color": "#000005",
            "size": [
             3.89
            ],
            "sizemode": "area",
            "sizeref": 0.08427777777777777,
            "symbol": "circle"
           },
           "mode": "markers",
           "name": "Maharashtra",
           "showlegend": true,
           "type": "scattergeo"
          },
          {
           "geo": "geo",
           "hovertemplate": "<b>%{hovertext}</b><br><br>State=Meghalaya<br>Month=7<br>Unemployment_Rate=%{marker.size}<br>longitude=%{lat}<br>latitude=%{lon}<extra></extra>",
           "hovertext": [
            "Meghalaya"
           ],
           "lat": [
            25.467
           ],
           "legendgroup": "Meghalaya",
           "lon": [
            91.3662
           ],
           "marker": {
            "color": "#000006",
            "size": [
             2.1
            ],
            "sizemode": "area",
            "sizeref": 0.08427777777777777,
            "symbol": "circle"
           },
           "mode": "markers",
           "name": "Meghalaya",
           "showlegend": true,
           "type": "scattergeo"
          },
          {
           "geo": "geo",
           "hovertemplate": "<b>%{hovertext}</b><br><br>State=Odisha<br>Month=7<br>Unemployment_Rate=%{marker.size}<br>longitude=%{lat}<br>latitude=%{lon}<extra></extra>",
           "hovertext": [
            "Odisha"
           ],
           "lat": [
            20.9517
           ],
           "legendgroup": "Odisha",
           "lon": [
            85.0985
           ],
           "marker": {
            "color": "#000007",
            "size": [
             1.88
            ],
            "sizemode": "area",
            "sizeref": 0.08427777777777777,
            "symbol": "circle"
           },
           "mode": "markers",
           "name": "Odisha",
           "showlegend": true,
           "type": "scattergeo"
          },
          {
           "geo": "geo",
           "hovertemplate": "<b>%{hovertext}</b><br><br>State=Puducherry<br>Month=7<br>Unemployment_Rate=%{marker.size}<br>longitude=%{lat}<br>latitude=%{lon}<extra></extra>",
           "hovertext": [
            "Puducherry"
           ],
           "lat": [
            11.9416
           ],
           "legendgroup": "Puducherry",
           "lon": [
            79.8083
           ],
           "marker": {
            "color": "#000008",
            "size": [
             15.47
            ],
            "sizemode": "area",
            "sizeref": 0.08427777777777777,
            "symbol": "circle"
           },
           "mode": "markers",
           "name": "Puducherry",
           "showlegend": true,
           "type": "scattergeo"
          },
          {
           "geo": "geo",
           "hovertemplate": "<b>%{hovertext}</b><br><br>State=Punjab<br>Month=7<br>Unemployment_Rate=%{marker.size}<br>longitude=%{lat}<br>latitude=%{lon}<extra></extra>",
           "hovertext": [
            "Punjab"
           ],
           "lat": [
            31.1471
           ],
           "legendgroup": "Punjab",
           "lon": [
            75.3412
           ],
           "marker": {
            "color": "#000009",
            "size": [
             9.19
            ],
            "sizemode": "area",
            "sizeref": 0.08427777777777777,
            "symbol": "circle"
           },
           "mode": "markers",
           "name": "Punjab",
           "showlegend": true,
           "type": "scattergeo"
          },
          {
           "geo": "geo",
           "hovertemplate": "<b>%{hovertext}</b><br><br>State=Rajasthan<br>Month=7<br>Unemployment_Rate=%{marker.size}<br>longitude=%{lat}<br>latitude=%{lon}<extra></extra>",
           "hovertext": [
            "Rajasthan"
           ],
           "lat": [
            27.0238
           ],
           "legendgroup": "Rajasthan",
           "lon": [
            74.2179
           ],
           "marker": {
            "color": "#000010",
            "size": [
             15.81
            ],
            "sizemode": "area",
            "sizeref": 0.08427777777777777,
            "symbol": "circle"
           },
           "mode": "markers",
           "name": "Rajasthan",
           "showlegend": true,
           "type": "scattergeo"
          },
          {
           "geo": "geo",
           "hovertemplate": "<b>%{hovertext}</b><br><br>State=Sikkim<br>Month=7<br>Unemployment_Rate=%{marker.size}<br>longitude=%{lat}<br>latitude=%{lon}<extra></extra>",
           "hovertext": [
            "Sikkim"
           ],
           "lat": [
            27.533
           ],
           "legendgroup": "Sikkim",
           "lon": [
            88.5122
           ],
           "marker": {
            "color": "#000001",
            "size": [
             4.45
            ],
            "sizemode": "area",
            "sizeref": 0.08427777777777777,
            "symbol": "circle"
           },
           "mode": "markers",
           "name": "Sikkim",
           "showlegend": true,
           "type": "scattergeo"
          },
          {
           "geo": "geo",
           "hovertemplate": "<b>%{hovertext}</b><br><br>State=Tamil Nadu<br>Month=7<br>Unemployment_Rate=%{marker.size}<br>longitude=%{lat}<br>latitude=%{lon}<extra></extra>",
           "hovertext": [
            "Tamil Nadu"
           ],
           "lat": [
            11.1271
           ],
           "legendgroup": "Tamil Nadu",
           "lon": [
            78.6569
           ],
           "marker": {
            "color": "#000002",
            "size": [
             6.81
            ],
            "sizemode": "area",
            "sizeref": 0.08427777777777777,
            "symbol": "circle"
           },
           "mode": "markers",
           "name": "Tamil Nadu",
           "showlegend": true,
           "type": "scattergeo"
          },
          {
           "geo": "geo",
           "hovertemplate": "<b>%{hovertext}</b><br><br>State=Telangana<br>Month=7<br>Unemployment_Rate=%{marker.size}<br>longitude=%{lat}<br>latitude=%{lon}<extra></extra>",
           "hovertext": [
            "Telangana"
           ],
           "lat": [
            18.1124
           ],
           "legendgroup": "Telangana",
           "lon": [
            79.0193
           ],
           "marker": {
            "color": "#000003",
            "size": [
             5.36
            ],
            "sizemode": "area",
            "sizeref": 0.08427777777777777,
            "symbol": "circle"
           },
           "mode": "markers",
           "name": "Telangana",
           "showlegend": true,
           "type": "scattergeo"
          },
          {
           "geo": "geo",
           "hovertemplate": "<b>%{hovertext}</b><br><br>State=Tripura<br>Month=7<br>Unemployment_Rate=%{marker.size}<br>longitude=%{lat}<br>latitude=%{lon}<extra></extra>",
           "hovertext": [
            "Tripura"
           ],
           "lat": [
            23.9408
           ],
           "legendgroup": "Tripura",
           "lon": [
            91.9882
           ],
           "marker": {
            "color": "#000004",
            "size": [
             18.24
            ],
            "sizemode": "area",
            "sizeref": 0.08427777777777777,
            "symbol": "circle"
           },
           "mode": "markers",
           "name": "Tripura",
           "showlegend": true,
           "type": "scattergeo"
          },
          {
           "geo": "geo",
           "hovertemplate": "<b>%{hovertext}</b><br><br>State=Uttar Pradesh<br>Month=7<br>Unemployment_Rate=%{marker.size}<br>longitude=%{lat}<br>latitude=%{lon}<extra></extra>",
           "hovertext": [
            "Uttar Pradesh"
           ],
           "lat": [
            26.8467
           ],
           "legendgroup": "Uttar Pradesh",
           "lon": [
            80.9462
           ],
           "marker": {
            "color": "#000005",
            "size": [
             5.56
            ],
            "sizemode": "area",
            "sizeref": 0.08427777777777777,
            "symbol": "circle"
           },
           "mode": "markers",
           "name": "Uttar Pradesh",
           "showlegend": true,
           "type": "scattergeo"
          },
          {
           "geo": "geo",
           "hovertemplate": "<b>%{hovertext}</b><br><br>State=Uttarakhand<br>Month=7<br>Unemployment_Rate=%{marker.size}<br>longitude=%{lat}<br>latitude=%{lon}<extra></extra>",
           "hovertext": [
            "Uttarakhand"
           ],
           "lat": [
            30.0668
           ],
           "legendgroup": "Uttarakhand",
           "lon": [
            79.0193
           ],
           "marker": {
            "color": "#000006",
            "size": [
             12.38
            ],
            "sizemode": "area",
            "sizeref": 0.08427777777777777,
            "symbol": "circle"
           },
           "mode": "markers",
           "name": "Uttarakhand",
           "showlegend": true,
           "type": "scattergeo"
          },
          {
           "geo": "geo",
           "hovertemplate": "<b>%{hovertext}</b><br><br>State=West Bengal<br>Month=7<br>Unemployment_Rate=%{marker.size}<br>longitude=%{lat}<br>latitude=%{lon}<extra></extra>",
           "hovertext": [
            "West Bengal"
           ],
           "lat": [
            22.9868
           ],
           "legendgroup": "West Bengal",
           "lon": [
            87.855
           ],
           "marker": {
            "color": "#000007",
            "size": [
             6.83
            ],
            "sizemode": "area",
            "sizeref": 0.08427777777777777,
            "symbol": "circle"
           },
           "mode": "markers",
           "name": "West Bengal",
           "showlegend": true,
           "type": "scattergeo"
          }
         ],
         "name": "7"
        },
        {
         "data": [
          {
           "geo": "geo",
           "hovertemplate": "<b>%{hovertext}</b><br><br>State=Andhra Pradesh<br>Month=8<br>Unemployment_Rate=%{marker.size}<br>longitude=%{lat}<br>latitude=%{lon}<extra></extra>",
           "hovertext": [
            "Andhra Pradesh"
           ],
           "lat": [
            15.9129
           ],
           "legendgroup": "Andhra Pradesh",
           "lon": [
            79.74
           ],
           "marker": {
            "color": "#000001",
            "size": [
             6.96
            ],
            "sizemode": "area",
            "sizeref": 0.08427777777777777,
            "symbol": "circle"
           },
           "mode": "markers",
           "name": "Andhra Pradesh",
           "showlegend": true,
           "type": "scattergeo"
          },
          {
           "geo": "geo",
           "hovertemplate": "<b>%{hovertext}</b><br><br>State=Assam<br>Month=8<br>Unemployment_Rate=%{marker.size}<br>longitude=%{lat}<br>latitude=%{lon}<extra></extra>",
           "hovertext": [
            "Assam"
           ],
           "lat": [
            26.2006
           ],
           "legendgroup": "Assam",
           "lon": [
            92.9376
           ],
           "marker": {
            "color": "#000002",
            "size": [
             5.53
            ],
            "sizemode": "area",
            "sizeref": 0.08427777777777777,
            "symbol": "circle"
           },
           "mode": "markers",
           "name": "Assam",
           "showlegend": true,
           "type": "scattergeo"
          },
          {
           "geo": "geo",
           "hovertemplate": "<b>%{hovertext}</b><br><br>State=Bihar<br>Month=8<br>Unemployment_Rate=%{marker.size}<br>longitude=%{lat}<br>latitude=%{lon}<extra></extra>",
           "hovertext": [
            "Bihar"
           ],
           "lat": [
            25.0961
           ],
           "legendgroup": "Bihar",
           "lon": [
            85.3131
           ],
           "marker": {
            "color": "#000003",
            "size": [
             13.44
            ],
            "sizemode": "area",
            "sizeref": 0.08427777777777777,
            "symbol": "circle"
           },
           "mode": "markers",
           "name": "Bihar",
           "showlegend": true,
           "type": "scattergeo"
          },
          {
           "geo": "geo",
           "hovertemplate": "<b>%{hovertext}</b><br><br>State=Chhattisgarh<br>Month=8<br>Unemployment_Rate=%{marker.size}<br>longitude=%{lat}<br>latitude=%{lon}<extra></extra>",
           "hovertext": [
            "Chhattisgarh"
           ],
           "lat": [
            21.2787
           ],
           "legendgroup": "Chhattisgarh",
           "lon": [
            81.8661
           ],
           "marker": {
            "color": "#000004",
            "size": [
             5.63
            ],
            "sizemode": "area",
            "sizeref": 0.08427777777777777,
            "symbol": "circle"
           },
           "mode": "markers",
           "name": "Chhattisgarh",
           "showlegend": true,
           "type": "scattergeo"
          },
          {
           "geo": "geo",
           "hovertemplate": "<b>%{hovertext}</b><br><br>State=Delhi<br>Month=8<br>Unemployment_Rate=%{marker.size}<br>longitude=%{lat}<br>latitude=%{lon}<extra></extra>",
           "hovertext": [
            "Delhi"
           ],
           "lat": [
            28.7041
           ],
           "legendgroup": "Delhi",
           "lon": [
            77.1025
           ],
           "marker": {
            "color": "#000005",
            "size": [
             13.79
            ],
            "sizemode": "area",
            "sizeref": 0.08427777777777777,
            "symbol": "circle"
           },
           "mode": "markers",
           "name": "Delhi",
           "showlegend": true,
           "type": "scattergeo"
          },
          {
           "geo": "geo",
           "hovertemplate": "<b>%{hovertext}</b><br><br>State=Goa<br>Month=8<br>Unemployment_Rate=%{marker.size}<br>longitude=%{lat}<br>latitude=%{lon}<extra></extra>",
           "hovertext": [
            "Goa"
           ],
           "lat": [
            15.2993
           ],
           "legendgroup": "Goa",
           "lon": [
            74.124
           ],
           "marker": {
            "color": "#000006",
            "size": [
             16.21
            ],
            "sizemode": "area",
            "sizeref": 0.08427777777777777,
            "symbol": "circle"
           },
           "mode": "markers",
           "name": "Goa",
           "showlegend": true,
           "type": "scattergeo"
          },
          {
           "geo": "geo",
           "hovertemplate": "<b>%{hovertext}</b><br><br>State=Gujarat<br>Month=8<br>Unemployment_Rate=%{marker.size}<br>longitude=%{lat}<br>latitude=%{lon}<extra></extra>",
           "hovertext": [
            "Gujarat"
           ],
           "lat": [
            22.2587
           ],
           "legendgroup": "Gujarat",
           "lon": [
            71.1924
           ],
           "marker": {
            "color": "#000007",
            "size": [
             1.87
            ],
            "sizemode": "area",
            "sizeref": 0.08427777777777777,
            "symbol": "circle"
           },
           "mode": "markers",
           "name": "Gujarat",
           "showlegend": true,
           "type": "scattergeo"
          },
          {
           "geo": "geo",
           "hovertemplate": "<b>%{hovertext}</b><br><br>State=Haryana<br>Month=8<br>Unemployment_Rate=%{marker.size}<br>longitude=%{lat}<br>latitude=%{lon}<extra></extra>",
           "hovertext": [
            "Haryana"
           ],
           "lat": [
            29.0588
           ],
           "legendgroup": "Haryana",
           "lon": [
            76.0856
           ],
           "marker": {
            "color": "#000008",
            "size": [
             33.5
            ],
            "sizemode": "area",
            "sizeref": 0.08427777777777777,
            "symbol": "circle"
           },
           "mode": "markers",
           "name": "Haryana",
           "showlegend": true,
           "type": "scattergeo"
          },
          {
           "geo": "geo",
           "hovertemplate": "<b>%{hovertext}</b><br><br>State=Himachal Pradesh<br>Month=8<br>Unemployment_Rate=%{marker.size}<br>longitude=%{lat}<br>latitude=%{lon}<extra></extra>",
           "hovertext": [
            "Himachal Pradesh"
           ],
           "lat": [
            31.1048
           ],
           "legendgroup": "Himachal Pradesh",
           "lon": [
            77.1734
           ],
           "marker": {
            "color": "#000009",
            "size": [
             15.79
            ],
            "sizemode": "area",
            "sizeref": 0.08427777777777777,
            "symbol": "circle"
           },
           "mode": "markers",
           "name": "Himachal Pradesh",
           "showlegend": true,
           "type": "scattergeo"
          },
          {
           "geo": "geo",
           "hovertemplate": "<b>%{hovertext}</b><br><br>State=Jammu & Kashmir<br>Month=8<br>Unemployment_Rate=%{marker.size}<br>longitude=%{lat}<br>latitude=%{lon}<extra></extra>",
           "hovertext": [
            "Jammu & Kashmir"
           ],
           "lat": [
            33.7782
           ],
           "legendgroup": "Jammu & Kashmir",
           "lon": [
            76.5762
           ],
           "marker": {
            "color": "#000010",
            "size": [
             11.09
            ],
            "sizemode": "area",
            "sizeref": 0.08427777777777777,
            "symbol": "circle"
           },
           "mode": "markers",
           "name": "Jammu & Kashmir",
           "showlegend": true,
           "type": "scattergeo"
          },
          {
           "geo": "geo",
           "hovertemplate": "<b>%{hovertext}</b><br><br>State=Jharkhand<br>Month=8<br>Unemployment_Rate=%{marker.size}<br>longitude=%{lat}<br>latitude=%{lon}<extra></extra>",
           "hovertext": [
            "Jharkhand"
           ],
           "lat": [
            23.6102
           ],
           "legendgroup": "Jharkhand",
           "lon": [
            85.2799
           ],
           "marker": {
            "color": "#000001",
            "size": [
             9.76
            ],
            "sizemode": "area",
            "sizeref": 0.08427777777777777,
            "symbol": "circle"
           },
           "mode": "markers",
           "name": "Jharkhand",
           "showlegend": true,
           "type": "scattergeo"
          },
          {
           "geo": "geo",
           "hovertemplate": "<b>%{hovertext}</b><br><br>State=Karnataka<br>Month=8<br>Unemployment_Rate=%{marker.size}<br>longitude=%{lat}<br>latitude=%{lon}<extra></extra>",
           "hovertext": [
            "Karnataka"
           ],
           "lat": [
            15.3173
           ],
           "legendgroup": "Karnataka",
           "lon": [
            75.7139
           ],
           "marker": {
            "color": "#000002",
            "size": [
             0.5
            ],
            "sizemode": "area",
            "sizeref": 0.08427777777777777,
            "symbol": "circle"
           },
           "mode": "markers",
           "name": "Karnataka",
           "showlegend": true,
           "type": "scattergeo"
          },
          {
           "geo": "geo",
           "hovertemplate": "<b>%{hovertext}</b><br><br>State=Kerala<br>Month=8<br>Unemployment_Rate=%{marker.size}<br>longitude=%{lat}<br>latitude=%{lon}<extra></extra>",
           "hovertext": [
            "Kerala"
           ],
           "lat": [
            10.8505
           ],
           "legendgroup": "Kerala",
           "lon": [
            76.2711
           ],
           "marker": {
            "color": "#000003",
            "size": [
             10.98
            ],
            "sizemode": "area",
            "sizeref": 0.08427777777777777,
            "symbol": "circle"
           },
           "mode": "markers",
           "name": "Kerala",
           "showlegend": true,
           "type": "scattergeo"
          },
          {
           "geo": "geo",
           "hovertemplate": "<b>%{hovertext}</b><br><br>State=Madhya Pradesh<br>Month=8<br>Unemployment_Rate=%{marker.size}<br>longitude=%{lat}<br>latitude=%{lon}<extra></extra>",
           "hovertext": [
            "Madhya Pradesh"
           ],
           "lat": [
            22.9734
           ],
           "legendgroup": "Madhya Pradesh",
           "lon": [
            78.6569
           ],
           "marker": {
            "color": "#000004",
            "size": [
             4.7
            ],
            "sizemode": "area",
            "sizeref": 0.08427777777777777,
            "symbol": "circle"
           },
           "mode": "markers",
           "name": "Madhya Pradesh",
           "showlegend": true,
           "type": "scattergeo"
          },
          {
           "geo": "geo",
           "hovertemplate": "<b>%{hovertext}</b><br><br>State=Maharashtra<br>Month=8<br>Unemployment_Rate=%{marker.size}<br>longitude=%{lat}<br>latitude=%{lon}<extra></extra>",
           "hovertext": [
            "Maharashtra"
           ],
           "lat": [
            19.7515
           ],
           "legendgroup": "Maharashtra",
           "lon": [
            75.7139
           ],
           "marker": {
            "color": "#000005",
            "size": [
             6.23
            ],
            "sizemode": "area",
            "sizeref": 0.08427777777777777,
            "symbol": "circle"
           },
           "mode": "markers",
           "name": "Maharashtra",
           "showlegend": true,
           "type": "scattergeo"
          },
          {
           "geo": "geo",
           "hovertemplate": "<b>%{hovertext}</b><br><br>State=Meghalaya<br>Month=8<br>Unemployment_Rate=%{marker.size}<br>longitude=%{lat}<br>latitude=%{lon}<extra></extra>",
           "hovertext": [
            "Meghalaya"
           ],
           "lat": [
            25.467
           ],
           "legendgroup": "Meghalaya",
           "lon": [
            91.3662
           ],
           "marker": {
            "color": "#000006",
            "size": [
             3.74
            ],
            "sizemode": "area",
            "sizeref": 0.08427777777777777,
            "symbol": "circle"
           },
           "mode": "markers",
           "name": "Meghalaya",
           "showlegend": true,
           "type": "scattergeo"
          },
          {
           "geo": "geo",
           "hovertemplate": "<b>%{hovertext}</b><br><br>State=Odisha<br>Month=8<br>Unemployment_Rate=%{marker.size}<br>longitude=%{lat}<br>latitude=%{lon}<extra></extra>",
           "hovertext": [
            "Odisha"
           ],
           "lat": [
            20.9517
           ],
           "legendgroup": "Odisha",
           "lon": [
            85.0985
           ],
           "marker": {
            "color": "#000007",
            "size": [
             1.42
            ],
            "sizemode": "area",
            "sizeref": 0.08427777777777777,
            "symbol": "circle"
           },
           "mode": "markers",
           "name": "Odisha",
           "showlegend": true,
           "type": "scattergeo"
          },
          {
           "geo": "geo",
           "hovertemplate": "<b>%{hovertext}</b><br><br>State=Puducherry<br>Month=8<br>Unemployment_Rate=%{marker.size}<br>longitude=%{lat}<br>latitude=%{lon}<extra></extra>",
           "hovertext": [
            "Puducherry"
           ],
           "lat": [
            11.9416
           ],
           "legendgroup": "Puducherry",
           "lon": [
            79.8083
           ],
           "marker": {
            "color": "#000008",
            "size": [
             5.05
            ],
            "sizemode": "area",
            "sizeref": 0.08427777777777777,
            "symbol": "circle"
           },
           "mode": "markers",
           "name": "Puducherry",
           "showlegend": true,
           "type": "scattergeo"
          },
          {
           "geo": "geo",
           "hovertemplate": "<b>%{hovertext}</b><br><br>State=Punjab<br>Month=8<br>Unemployment_Rate=%{marker.size}<br>longitude=%{lat}<br>latitude=%{lon}<extra></extra>",
           "hovertext": [
            "Punjab"
           ],
           "lat": [
            31.1471
           ],
           "legendgroup": "Punjab",
           "lon": [
            75.3412
           ],
           "marker": {
            "color": "#000009",
            "size": [
             10.99
            ],
            "sizemode": "area",
            "sizeref": 0.08427777777777777,
            "symbol": "circle"
           },
           "mode": "markers",
           "name": "Punjab",
           "showlegend": true,
           "type": "scattergeo"
          },
          {
           "geo": "geo",
           "hovertemplate": "<b>%{hovertext}</b><br><br>State=Rajasthan<br>Month=8<br>Unemployment_Rate=%{marker.size}<br>longitude=%{lat}<br>latitude=%{lon}<extra></extra>",
           "hovertext": [
            "Rajasthan"
           ],
           "lat": [
            27.0238
           ],
           "legendgroup": "Rajasthan",
           "lon": [
            74.2179
           ],
           "marker": {
            "color": "#000010",
            "size": [
             17.51
            ],
            "sizemode": "area",
            "sizeref": 0.08427777777777777,
            "symbol": "circle"
           },
           "mode": "markers",
           "name": "Rajasthan",
           "showlegend": true,
           "type": "scattergeo"
          },
          {
           "geo": "geo",
           "hovertemplate": "<b>%{hovertext}</b><br><br>State=Sikkim<br>Month=8<br>Unemployment_Rate=%{marker.size}<br>longitude=%{lat}<br>latitude=%{lon}<extra></extra>",
           "hovertext": [
            "Sikkim"
           ],
           "lat": [
            27.533
           ],
           "legendgroup": "Sikkim",
           "lon": [
            88.5122
           ],
           "marker": {
            "color": "#000001",
            "size": [
             12.49
            ],
            "sizemode": "area",
            "sizeref": 0.08427777777777777,
            "symbol": "circle"
           },
           "mode": "markers",
           "name": "Sikkim",
           "showlegend": true,
           "type": "scattergeo"
          },
          {
           "geo": "geo",
           "hovertemplate": "<b>%{hovertext}</b><br><br>State=Tamil Nadu<br>Month=8<br>Unemployment_Rate=%{marker.size}<br>longitude=%{lat}<br>latitude=%{lon}<extra></extra>",
           "hovertext": [
            "Tamil Nadu"
           ],
           "lat": [
            11.1271
           ],
           "legendgroup": "Tamil Nadu",
           "lon": [
            78.6569
           ],
           "marker": {
            "color": "#000002",
            "size": [
             2.65
            ],
            "sizemode": "area",
            "sizeref": 0.08427777777777777,
            "symbol": "circle"
           },
           "mode": "markers",
           "name": "Tamil Nadu",
           "showlegend": true,
           "type": "scattergeo"
          },
          {
           "geo": "geo",
           "hovertemplate": "<b>%{hovertext}</b><br><br>State=Telangana<br>Month=8<br>Unemployment_Rate=%{marker.size}<br>longitude=%{lat}<br>latitude=%{lon}<extra></extra>",
           "hovertext": [
            "Telangana"
           ],
           "lat": [
            18.1124
           ],
           "legendgroup": "Telangana",
           "lon": [
            79.0193
           ],
           "marker": {
            "color": "#000003",
            "size": [
             5.79
            ],
            "sizemode": "area",
            "sizeref": 0.08427777777777777,
            "symbol": "circle"
           },
           "mode": "markers",
           "name": "Telangana",
           "showlegend": true,
           "type": "scattergeo"
          },
          {
           "geo": "geo",
           "hovertemplate": "<b>%{hovertext}</b><br><br>State=Tripura<br>Month=8<br>Unemployment_Rate=%{marker.size}<br>longitude=%{lat}<br>latitude=%{lon}<extra></extra>",
           "hovertext": [
            "Tripura"
           ],
           "lat": [
            23.9408
           ],
           "legendgroup": "Tripura",
           "lon": [
            91.9882
           ],
           "marker": {
            "color": "#000004",
            "size": [
             27.92
            ],
            "sizemode": "area",
            "sizeref": 0.08427777777777777,
            "symbol": "circle"
           },
           "mode": "markers",
           "name": "Tripura",
           "showlegend": true,
           "type": "scattergeo"
          },
          {
           "geo": "geo",
           "hovertemplate": "<b>%{hovertext}</b><br><br>State=Uttar Pradesh<br>Month=8<br>Unemployment_Rate=%{marker.size}<br>longitude=%{lat}<br>latitude=%{lon}<extra></extra>",
           "hovertext": [
            "Uttar Pradesh"
           ],
           "lat": [
            26.8467
           ],
           "legendgroup": "Uttar Pradesh",
           "lon": [
            80.9462
           ],
           "marker": {
            "color": "#000005",
            "size": [
             5.79
            ],
            "sizemode": "area",
            "sizeref": 0.08427777777777777,
            "symbol": "circle"
           },
           "mode": "markers",
           "name": "Uttar Pradesh",
           "showlegend": true,
           "type": "scattergeo"
          },
          {
           "geo": "geo",
           "hovertemplate": "<b>%{hovertext}</b><br><br>State=Uttarakhand<br>Month=8<br>Unemployment_Rate=%{marker.size}<br>longitude=%{lat}<br>latitude=%{lon}<extra></extra>",
           "hovertext": [
            "Uttarakhand"
           ],
           "lat": [
            30.0668
           ],
           "legendgroup": "Uttarakhand",
           "lon": [
            79.0193
           ],
           "marker": {
            "color": "#000006",
            "size": [
             14.26
            ],
            "sizemode": "area",
            "sizeref": 0.08427777777777777,
            "symbol": "circle"
           },
           "mode": "markers",
           "name": "Uttarakhand",
           "showlegend": true,
           "type": "scattergeo"
          },
          {
           "geo": "geo",
           "hovertemplate": "<b>%{hovertext}</b><br><br>State=West Bengal<br>Month=8<br>Unemployment_Rate=%{marker.size}<br>longitude=%{lat}<br>latitude=%{lon}<extra></extra>",
           "hovertext": [
            "West Bengal"
           ],
           "lat": [
            22.9868
           ],
           "legendgroup": "West Bengal",
           "lon": [
            87.855
           ],
           "marker": {
            "color": "#000007",
            "size": [
             14.87
            ],
            "sizemode": "area",
            "sizeref": 0.08427777777777777,
            "symbol": "circle"
           },
           "mode": "markers",
           "name": "West Bengal",
           "showlegend": true,
           "type": "scattergeo"
          }
         ],
         "name": "8"
        },
        {
         "data": [
          {
           "geo": "geo",
           "hovertemplate": "<b>%{hovertext}</b><br><br>State=Andhra Pradesh<br>Month=9<br>Unemployment_Rate=%{marker.size}<br>longitude=%{lat}<br>latitude=%{lon}<extra></extra>",
           "hovertext": [
            "Andhra Pradesh"
           ],
           "lat": [
            15.9129
           ],
           "legendgroup": "Andhra Pradesh",
           "lon": [
            79.74
           ],
           "marker": {
            "color": "#000001",
            "size": [
             6.4
            ],
            "sizemode": "area",
            "sizeref": 0.08427777777777777,
            "symbol": "circle"
           },
           "mode": "markers",
           "name": "Andhra Pradesh",
           "showlegend": true,
           "type": "scattergeo"
          },
          {
           "geo": "geo",
           "hovertemplate": "<b>%{hovertext}</b><br><br>State=Assam<br>Month=9<br>Unemployment_Rate=%{marker.size}<br>longitude=%{lat}<br>latitude=%{lon}<extra></extra>",
           "hovertext": [
            "Assam"
           ],
           "lat": [
            26.2006
           ],
           "legendgroup": "Assam",
           "lon": [
            92.9376
           ],
           "marker": {
            "color": "#000002",
            "size": [
             1.19
            ],
            "sizemode": "area",
            "sizeref": 0.08427777777777777,
            "symbol": "circle"
           },
           "mode": "markers",
           "name": "Assam",
           "showlegend": true,
           "type": "scattergeo"
          },
          {
           "geo": "geo",
           "hovertemplate": "<b>%{hovertext}</b><br><br>State=Bihar<br>Month=9<br>Unemployment_Rate=%{marker.size}<br>longitude=%{lat}<br>latitude=%{lon}<extra></extra>",
           "hovertext": [
            "Bihar"
           ],
           "lat": [
            25.0961
           ],
           "legendgroup": "Bihar",
           "lon": [
            85.3131
           ],
           "marker": {
            "color": "#000003",
            "size": [
             11.91
            ],
            "sizemode": "area",
            "sizeref": 0.08427777777777777,
            "symbol": "circle"
           },
           "mode": "markers",
           "name": "Bihar",
           "showlegend": true,
           "type": "scattergeo"
          },
          {
           "geo": "geo",
           "hovertemplate": "<b>%{hovertext}</b><br><br>State=Chhattisgarh<br>Month=9<br>Unemployment_Rate=%{marker.size}<br>longitude=%{lat}<br>latitude=%{lon}<extra></extra>",
           "hovertext": [
            "Chhattisgarh"
           ],
           "lat": [
            21.2787
           ],
           "legendgroup": "Chhattisgarh",
           "lon": [
            81.8661
           ],
           "marker": {
            "color": "#000004",
            "size": [
             1.96
            ],
            "sizemode": "area",
            "sizeref": 0.08427777777777777,
            "symbol": "circle"
           },
           "mode": "markers",
           "name": "Chhattisgarh",
           "showlegend": true,
           "type": "scattergeo"
          },
          {
           "geo": "geo",
           "hovertemplate": "<b>%{hovertext}</b><br><br>State=Delhi<br>Month=9<br>Unemployment_Rate=%{marker.size}<br>longitude=%{lat}<br>latitude=%{lon}<extra></extra>",
           "hovertext": [
            "Delhi"
           ],
           "lat": [
            28.7041
           ],
           "legendgroup": "Delhi",
           "lon": [
            77.1025
           ],
           "marker": {
            "color": "#000005",
            "size": [
             12.53
            ],
            "sizemode": "area",
            "sizeref": 0.08427777777777777,
            "symbol": "circle"
           },
           "mode": "markers",
           "name": "Delhi",
           "showlegend": true,
           "type": "scattergeo"
          },
          {
           "geo": "geo",
           "hovertemplate": "<b>%{hovertext}</b><br><br>State=Goa<br>Month=9<br>Unemployment_Rate=%{marker.size}<br>longitude=%{lat}<br>latitude=%{lon}<extra></extra>",
           "hovertext": [
            "Goa"
           ],
           "lat": [
            15.2993
           ],
           "legendgroup": "Goa",
           "lon": [
            74.124
           ],
           "marker": {
            "color": "#000006",
            "size": [
             15.38
            ],
            "sizemode": "area",
            "sizeref": 0.08427777777777777,
            "symbol": "circle"
           },
           "mode": "markers",
           "name": "Goa",
           "showlegend": true,
           "type": "scattergeo"
          },
          {
           "geo": "geo",
           "hovertemplate": "<b>%{hovertext}</b><br><br>State=Gujarat<br>Month=9<br>Unemployment_Rate=%{marker.size}<br>longitude=%{lat}<br>latitude=%{lon}<extra></extra>",
           "hovertext": [
            "Gujarat"
           ],
           "lat": [
            22.2587
           ],
           "legendgroup": "Gujarat",
           "lon": [
            71.1924
           ],
           "marker": {
            "color": "#000007",
            "size": [
             3.42
            ],
            "sizemode": "area",
            "sizeref": 0.08427777777777777,
            "symbol": "circle"
           },
           "mode": "markers",
           "name": "Gujarat",
           "showlegend": true,
           "type": "scattergeo"
          },
          {
           "geo": "geo",
           "hovertemplate": "<b>%{hovertext}</b><br><br>State=Haryana<br>Month=9<br>Unemployment_Rate=%{marker.size}<br>longitude=%{lat}<br>latitude=%{lon}<extra></extra>",
           "hovertext": [
            "Haryana"
           ],
           "lat": [
            29.0588
           ],
           "legendgroup": "Haryana",
           "lon": [
            76.0856
           ],
           "marker": {
            "color": "#000008",
            "size": [
             19.68
            ],
            "sizemode": "area",
            "sizeref": 0.08427777777777777,
            "symbol": "circle"
           },
           "mode": "markers",
           "name": "Haryana",
           "showlegend": true,
           "type": "scattergeo"
          },
          {
           "geo": "geo",
           "hovertemplate": "<b>%{hovertext}</b><br><br>State=Himachal Pradesh<br>Month=9<br>Unemployment_Rate=%{marker.size}<br>longitude=%{lat}<br>latitude=%{lon}<extra></extra>",
           "hovertext": [
            "Himachal Pradesh"
           ],
           "lat": [
            31.1048
           ],
           "legendgroup": "Himachal Pradesh",
           "lon": [
            77.1734
           ],
           "marker": {
            "color": "#000009",
            "size": [
             12.04
            ],
            "sizemode": "area",
            "sizeref": 0.08427777777777777,
            "symbol": "circle"
           },
           "mode": "markers",
           "name": "Himachal Pradesh",
           "showlegend": true,
           "type": "scattergeo"
          },
          {
           "geo": "geo",
           "hovertemplate": "<b>%{hovertext}</b><br><br>State=Jammu & Kashmir<br>Month=9<br>Unemployment_Rate=%{marker.size}<br>longitude=%{lat}<br>latitude=%{lon}<extra></extra>",
           "hovertext": [
            "Jammu & Kashmir"
           ],
           "lat": [
            33.7782
           ],
           "legendgroup": "Jammu & Kashmir",
           "lon": [
            76.5762
           ],
           "marker": {
            "color": "#000010",
            "size": [
             16.17
            ],
            "sizemode": "area",
            "sizeref": 0.08427777777777777,
            "symbol": "circle"
           },
           "mode": "markers",
           "name": "Jammu & Kashmir",
           "showlegend": true,
           "type": "scattergeo"
          },
          {
           "geo": "geo",
           "hovertemplate": "<b>%{hovertext}</b><br><br>State=Jharkhand<br>Month=9<br>Unemployment_Rate=%{marker.size}<br>longitude=%{lat}<br>latitude=%{lon}<extra></extra>",
           "hovertext": [
            "Jharkhand"
           ],
           "lat": [
            23.6102
           ],
           "legendgroup": "Jharkhand",
           "lon": [
            85.2799
           ],
           "marker": {
            "color": "#000001",
            "size": [
             8.24
            ],
            "sizemode": "area",
            "sizeref": 0.08427777777777777,
            "symbol": "circle"
           },
           "mode": "markers",
           "name": "Jharkhand",
           "showlegend": true,
           "type": "scattergeo"
          },
          {
           "geo": "geo",
           "hovertemplate": "<b>%{hovertext}</b><br><br>State=Karnataka<br>Month=9<br>Unemployment_Rate=%{marker.size}<br>longitude=%{lat}<br>latitude=%{lon}<extra></extra>",
           "hovertext": [
            "Karnataka"
           ],
           "lat": [
            15.3173
           ],
           "legendgroup": "Karnataka",
           "lon": [
            75.7139
           ],
           "marker": {
            "color": "#000002",
            "size": [
             2.41
            ],
            "sizemode": "area",
            "sizeref": 0.08427777777777777,
            "symbol": "circle"
           },
           "mode": "markers",
           "name": "Karnataka",
           "showlegend": true,
           "type": "scattergeo"
          },
          {
           "geo": "geo",
           "hovertemplate": "<b>%{hovertext}</b><br><br>State=Kerala<br>Month=9<br>Unemployment_Rate=%{marker.size}<br>longitude=%{lat}<br>latitude=%{lon}<extra></extra>",
           "hovertext": [
            "Kerala"
           ],
           "lat": [
            10.8505
           ],
           "legendgroup": "Kerala",
           "lon": [
            76.2711
           ],
           "marker": {
            "color": "#000003",
            "size": [
             5.91
            ],
            "sizemode": "area",
            "sizeref": 0.08427777777777777,
            "symbol": "circle"
           },
           "mode": "markers",
           "name": "Kerala",
           "showlegend": true,
           "type": "scattergeo"
          },
          {
           "geo": "geo",
           "hovertemplate": "<b>%{hovertext}</b><br><br>State=Madhya Pradesh<br>Month=9<br>Unemployment_Rate=%{marker.size}<br>longitude=%{lat}<br>latitude=%{lon}<extra></extra>",
           "hovertext": [
            "Madhya Pradesh"
           ],
           "lat": [
            22.9734
           ],
           "legendgroup": "Madhya Pradesh",
           "lon": [
            78.6569
           ],
           "marker": {
            "color": "#000004",
            "size": [
             3.91
            ],
            "sizemode": "area",
            "sizeref": 0.08427777777777777,
            "symbol": "circle"
           },
           "mode": "markers",
           "name": "Madhya Pradesh",
           "showlegend": true,
           "type": "scattergeo"
          },
          {
           "geo": "geo",
           "hovertemplate": "<b>%{hovertext}</b><br><br>State=Maharashtra<br>Month=9<br>Unemployment_Rate=%{marker.size}<br>longitude=%{lat}<br>latitude=%{lon}<extra></extra>",
           "hovertext": [
            "Maharashtra"
           ],
           "lat": [
            19.7515
           ],
           "legendgroup": "Maharashtra",
           "lon": [
            75.7139
           ],
           "marker": {
            "color": "#000005",
            "size": [
             4.55
            ],
            "sizemode": "area",
            "sizeref": 0.08427777777777777,
            "symbol": "circle"
           },
           "mode": "markers",
           "name": "Maharashtra",
           "showlegend": true,
           "type": "scattergeo"
          },
          {
           "geo": "geo",
           "hovertemplate": "<b>%{hovertext}</b><br><br>State=Meghalaya<br>Month=9<br>Unemployment_Rate=%{marker.size}<br>longitude=%{lat}<br>latitude=%{lon}<extra></extra>",
           "hovertext": [
            "Meghalaya"
           ],
           "lat": [
            25.467
           ],
           "legendgroup": "Meghalaya",
           "lon": [
            91.3662
           ],
           "marker": {
            "color": "#000006",
            "size": [
             4.29
            ],
            "sizemode": "area",
            "sizeref": 0.08427777777777777,
            "symbol": "circle"
           },
           "mode": "markers",
           "name": "Meghalaya",
           "showlegend": true,
           "type": "scattergeo"
          },
          {
           "geo": "geo",
           "hovertemplate": "<b>%{hovertext}</b><br><br>State=Odisha<br>Month=9<br>Unemployment_Rate=%{marker.size}<br>longitude=%{lat}<br>latitude=%{lon}<extra></extra>",
           "hovertext": [
            "Odisha"
           ],
           "lat": [
            20.9517
           ],
           "legendgroup": "Odisha",
           "lon": [
            85.0985
           ],
           "marker": {
            "color": "#000007",
            "size": [
             2.1
            ],
            "sizemode": "area",
            "sizeref": 0.08427777777777777,
            "symbol": "circle"
           },
           "mode": "markers",
           "name": "Odisha",
           "showlegend": true,
           "type": "scattergeo"
          },
          {
           "geo": "geo",
           "hovertemplate": "<b>%{hovertext}</b><br><br>State=Puducherry<br>Month=9<br>Unemployment_Rate=%{marker.size}<br>longitude=%{lat}<br>latitude=%{lon}<extra></extra>",
           "hovertext": [
            "Puducherry"
           ],
           "lat": [
            11.9416
           ],
           "legendgroup": "Puducherry",
           "lon": [
            79.8083
           ],
           "marker": {
            "color": "#000008",
            "size": [
             10.9
            ],
            "sizemode": "area",
            "sizeref": 0.08427777777777777,
            "symbol": "circle"
           },
           "mode": "markers",
           "name": "Puducherry",
           "showlegend": true,
           "type": "scattergeo"
          },
          {
           "geo": "geo",
           "hovertemplate": "<b>%{hovertext}</b><br><br>State=Punjab<br>Month=9<br>Unemployment_Rate=%{marker.size}<br>longitude=%{lat}<br>latitude=%{lon}<extra></extra>",
           "hovertext": [
            "Punjab"
           ],
           "lat": [
            31.1471
           ],
           "legendgroup": "Punjab",
           "lon": [
            75.3412
           ],
           "marker": {
            "color": "#000009",
            "size": [
             9.61
            ],
            "sizemode": "area",
            "sizeref": 0.08427777777777777,
            "symbol": "circle"
           },
           "mode": "markers",
           "name": "Punjab",
           "showlegend": true,
           "type": "scattergeo"
          },
          {
           "geo": "geo",
           "hovertemplate": "<b>%{hovertext}</b><br><br>State=Rajasthan<br>Month=9<br>Unemployment_Rate=%{marker.size}<br>longitude=%{lat}<br>latitude=%{lon}<extra></extra>",
           "hovertext": [
            "Rajasthan"
           ],
           "lat": [
            27.0238
           ],
           "legendgroup": "Rajasthan",
           "lon": [
            74.2179
           ],
           "marker": {
            "color": "#000010",
            "size": [
             15.35
            ],
            "sizemode": "area",
            "sizeref": 0.08427777777777777,
            "symbol": "circle"
           },
           "mode": "markers",
           "name": "Rajasthan",
           "showlegend": true,
           "type": "scattergeo"
          },
          {
           "geo": "geo",
           "hovertemplate": "<b>%{hovertext}</b><br><br>State=Sikkim<br>Month=9<br>Unemployment_Rate=%{marker.size}<br>longitude=%{lat}<br>latitude=%{lon}<extra></extra>",
           "hovertext": [
            "Sikkim"
           ],
           "lat": [
            27.533
           ],
           "legendgroup": "Sikkim",
           "lon": [
            88.5122
           ],
           "marker": {
            "color": "#000001",
            "size": [
             5.7
            ],
            "sizemode": "area",
            "sizeref": 0.08427777777777777,
            "symbol": "circle"
           },
           "mode": "markers",
           "name": "Sikkim",
           "showlegend": true,
           "type": "scattergeo"
          },
          {
           "geo": "geo",
           "hovertemplate": "<b>%{hovertext}</b><br><br>State=Tamil Nadu<br>Month=9<br>Unemployment_Rate=%{marker.size}<br>longitude=%{lat}<br>latitude=%{lon}<extra></extra>",
           "hovertext": [
            "Tamil Nadu"
           ],
           "lat": [
            11.1271
           ],
           "legendgroup": "Tamil Nadu",
           "lon": [
            78.6569
           ],
           "marker": {
            "color": "#000002",
            "size": [
             5
            ],
            "sizemode": "area",
            "sizeref": 0.08427777777777777,
            "symbol": "circle"
           },
           "mode": "markers",
           "name": "Tamil Nadu",
           "showlegend": true,
           "type": "scattergeo"
          },
          {
           "geo": "geo",
           "hovertemplate": "<b>%{hovertext}</b><br><br>State=Telangana<br>Month=9<br>Unemployment_Rate=%{marker.size}<br>longitude=%{lat}<br>latitude=%{lon}<extra></extra>",
           "hovertext": [
            "Telangana"
           ],
           "lat": [
            18.1124
           ],
           "legendgroup": "Telangana",
           "lon": [
            79.0193
           ],
           "marker": {
            "color": "#000003",
            "size": [
             3.27
            ],
            "sizemode": "area",
            "sizeref": 0.08427777777777777,
            "symbol": "circle"
           },
           "mode": "markers",
           "name": "Telangana",
           "showlegend": true,
           "type": "scattergeo"
          },
          {
           "geo": "geo",
           "hovertemplate": "<b>%{hovertext}</b><br><br>State=Tripura<br>Month=9<br>Unemployment_Rate=%{marker.size}<br>longitude=%{lat}<br>latitude=%{lon}<extra></extra>",
           "hovertext": [
            "Tripura"
           ],
           "lat": [
            23.9408
           ],
           "legendgroup": "Tripura",
           "lon": [
            91.9882
           ],
           "marker": {
            "color": "#000004",
            "size": [
             17.35
            ],
            "sizemode": "area",
            "sizeref": 0.08427777777777777,
            "symbol": "circle"
           },
           "mode": "markers",
           "name": "Tripura",
           "showlegend": true,
           "type": "scattergeo"
          },
          {
           "geo": "geo",
           "hovertemplate": "<b>%{hovertext}</b><br><br>State=Uttar Pradesh<br>Month=9<br>Unemployment_Rate=%{marker.size}<br>longitude=%{lat}<br>latitude=%{lon}<extra></extra>",
           "hovertext": [
            "Uttar Pradesh"
           ],
           "lat": [
            26.8467
           ],
           "legendgroup": "Uttar Pradesh",
           "lon": [
            80.9462
           ],
           "marker": {
            "color": "#000005",
            "size": [
             4.18
            ],
            "sizemode": "area",
            "sizeref": 0.08427777777777777,
            "symbol": "circle"
           },
           "mode": "markers",
           "name": "Uttar Pradesh",
           "showlegend": true,
           "type": "scattergeo"
          },
          {
           "geo": "geo",
           "hovertemplate": "<b>%{hovertext}</b><br><br>State=Uttarakhand<br>Month=9<br>Unemployment_Rate=%{marker.size}<br>longitude=%{lat}<br>latitude=%{lon}<extra></extra>",
           "hovertext": [
            "Uttarakhand"
           ],
           "lat": [
            30.0668
           ],
           "legendgroup": "Uttarakhand",
           "lon": [
            79.0193
           ],
           "marker": {
            "color": "#000006",
            "size": [
             22.26
            ],
            "sizemode": "area",
            "sizeref": 0.08427777777777777,
            "symbol": "circle"
           },
           "mode": "markers",
           "name": "Uttarakhand",
           "showlegend": true,
           "type": "scattergeo"
          },
          {
           "geo": "geo",
           "hovertemplate": "<b>%{hovertext}</b><br><br>State=West Bengal<br>Month=9<br>Unemployment_Rate=%{marker.size}<br>longitude=%{lat}<br>latitude=%{lon}<extra></extra>",
           "hovertext": [
            "West Bengal"
           ],
           "lat": [
            22.9868
           ],
           "legendgroup": "West Bengal",
           "lon": [
            87.855
           ],
           "marker": {
            "color": "#000007",
            "size": [
             9.35
            ],
            "sizemode": "area",
            "sizeref": 0.08427777777777777,
            "symbol": "circle"
           },
           "mode": "markers",
           "name": "West Bengal",
           "showlegend": true,
           "type": "scattergeo"
          }
         ],
         "name": "9"
        },
        {
         "data": [
          {
           "geo": "geo",
           "hovertemplate": "<b>%{hovertext}</b><br><br>State=Andhra Pradesh<br>Month=10<br>Unemployment_Rate=%{marker.size}<br>longitude=%{lat}<br>latitude=%{lon}<extra></extra>",
           "hovertext": [
            "Andhra Pradesh"
           ],
           "lat": [
            15.9129
           ],
           "legendgroup": "Andhra Pradesh",
           "lon": [
            79.74
           ],
           "marker": {
            "color": "#000001",
            "size": [
             6.59
            ],
            "sizemode": "area",
            "sizeref": 0.08427777777777777,
            "symbol": "circle"
           },
           "mode": "markers",
           "name": "Andhra Pradesh",
           "showlegend": true,
           "type": "scattergeo"
          },
          {
           "geo": "geo",
           "hovertemplate": "<b>%{hovertext}</b><br><br>State=Assam<br>Month=10<br>Unemployment_Rate=%{marker.size}<br>longitude=%{lat}<br>latitude=%{lon}<extra></extra>",
           "hovertext": [
            "Assam"
           ],
           "lat": [
            26.2006
           ],
           "legendgroup": "Assam",
           "lon": [
            92.9376
           ],
           "marker": {
            "color": "#000002",
            "size": [
             3.02
            ],
            "sizemode": "area",
            "sizeref": 0.08427777777777777,
            "symbol": "circle"
           },
           "mode": "markers",
           "name": "Assam",
           "showlegend": true,
           "type": "scattergeo"
          },
          {
           "geo": "geo",
           "hovertemplate": "<b>%{hovertext}</b><br><br>State=Bihar<br>Month=10<br>Unemployment_Rate=%{marker.size}<br>longitude=%{lat}<br>latitude=%{lon}<extra></extra>",
           "hovertext": [
            "Bihar"
           ],
           "lat": [
            25.0961
           ],
           "legendgroup": "Bihar",
           "lon": [
            85.3131
           ],
           "marker": {
            "color": "#000003",
            "size": [
             9.82
            ],
            "sizemode": "area",
            "sizeref": 0.08427777777777777,
            "symbol": "circle"
           },
           "mode": "markers",
           "name": "Bihar",
           "showlegend": true,
           "type": "scattergeo"
          },
          {
           "geo": "geo",
           "hovertemplate": "<b>%{hovertext}</b><br><br>State=Chhattisgarh<br>Month=10<br>Unemployment_Rate=%{marker.size}<br>longitude=%{lat}<br>latitude=%{lon}<extra></extra>",
           "hovertext": [
            "Chhattisgarh"
           ],
           "lat": [
            21.2787
           ],
           "legendgroup": "Chhattisgarh",
           "lon": [
            81.8661
           ],
           "marker": {
            "color": "#000004",
            "size": [
             6.62
            ],
            "sizemode": "area",
            "sizeref": 0.08427777777777777,
            "symbol": "circle"
           },
           "mode": "markers",
           "name": "Chhattisgarh",
           "showlegend": true,
           "type": "scattergeo"
          },
          {
           "geo": "geo",
           "hovertemplate": "<b>%{hovertext}</b><br><br>State=Delhi<br>Month=10<br>Unemployment_Rate=%{marker.size}<br>longitude=%{lat}<br>latitude=%{lon}<extra></extra>",
           "hovertext": [
            "Delhi"
           ],
           "lat": [
            28.7041
           ],
           "legendgroup": "Delhi",
           "lon": [
            77.1025
           ],
           "marker": {
            "color": "#000005",
            "size": [
             6.27
            ],
            "sizemode": "area",
            "sizeref": 0.08427777777777777,
            "symbol": "circle"
           },
           "mode": "markers",
           "name": "Delhi",
           "showlegend": true,
           "type": "scattergeo"
          },
          {
           "geo": "geo",
           "hovertemplate": "<b>%{hovertext}</b><br><br>State=Goa<br>Month=10<br>Unemployment_Rate=%{marker.size}<br>longitude=%{lat}<br>latitude=%{lon}<extra></extra>",
           "hovertext": [
            "Goa"
           ],
           "lat": [
            15.2993
           ],
           "legendgroup": "Goa",
           "lon": [
            74.124
           ],
           "marker": {
            "color": "#000006",
            "size": [
             11.54
            ],
            "sizemode": "area",
            "sizeref": 0.08427777777777777,
            "symbol": "circle"
           },
           "mode": "markers",
           "name": "Goa",
           "showlegend": true,
           "type": "scattergeo"
          },
          {
           "geo": "geo",
           "hovertemplate": "<b>%{hovertext}</b><br><br>State=Gujarat<br>Month=10<br>Unemployment_Rate=%{marker.size}<br>longitude=%{lat}<br>latitude=%{lon}<extra></extra>",
           "hovertext": [
            "Gujarat"
           ],
           "lat": [
            22.2587
           ],
           "legendgroup": "Gujarat",
           "lon": [
            71.1924
           ],
           "marker": {
            "color": "#000007",
            "size": [
             4.03
            ],
            "sizemode": "area",
            "sizeref": 0.08427777777777777,
            "symbol": "circle"
           },
           "mode": "markers",
           "name": "Gujarat",
           "showlegend": true,
           "type": "scattergeo"
          },
          {
           "geo": "geo",
           "hovertemplate": "<b>%{hovertext}</b><br><br>State=Haryana<br>Month=10<br>Unemployment_Rate=%{marker.size}<br>longitude=%{lat}<br>latitude=%{lon}<extra></extra>",
           "hovertext": [
            "Haryana"
           ],
           "lat": [
            29.0588
           ],
           "legendgroup": "Haryana",
           "lon": [
            76.0856
           ],
           "marker": {
            "color": "#000008",
            "size": [
             27.31
            ],
            "sizemode": "area",
            "sizeref": 0.08427777777777777,
            "symbol": "circle"
           },
           "mode": "markers",
           "name": "Haryana",
           "showlegend": true,
           "type": "scattergeo"
          },
          {
           "geo": "geo",
           "hovertemplate": "<b>%{hovertext}</b><br><br>State=Himachal Pradesh<br>Month=10<br>Unemployment_Rate=%{marker.size}<br>longitude=%{lat}<br>latitude=%{lon}<extra></extra>",
           "hovertext": [
            "Himachal Pradesh"
           ],
           "lat": [
            31.1048
           ],
           "legendgroup": "Himachal Pradesh",
           "lon": [
            77.1734
           ],
           "marker": {
            "color": "#000009",
            "size": [
             13.46
            ],
            "sizemode": "area",
            "sizeref": 0.08427777777777777,
            "symbol": "circle"
           },
           "mode": "markers",
           "name": "Himachal Pradesh",
           "showlegend": true,
           "type": "scattergeo"
          },
          {
           "geo": "geo",
           "hovertemplate": "<b>%{hovertext}</b><br><br>State=Jammu & Kashmir<br>Month=10<br>Unemployment_Rate=%{marker.size}<br>longitude=%{lat}<br>latitude=%{lon}<extra></extra>",
           "hovertext": [
            "Jammu & Kashmir"
           ],
           "lat": [
            33.7782
           ],
           "legendgroup": "Jammu & Kashmir",
           "lon": [
            76.5762
           ],
           "marker": {
            "color": "#000010",
            "size": [
             16.14
            ],
            "sizemode": "area",
            "sizeref": 0.08427777777777777,
            "symbol": "circle"
           },
           "mode": "markers",
           "name": "Jammu & Kashmir",
           "showlegend": true,
           "type": "scattergeo"
          },
          {
           "geo": "geo",
           "hovertemplate": "<b>%{hovertext}</b><br><br>State=Jharkhand<br>Month=10<br>Unemployment_Rate=%{marker.size}<br>longitude=%{lat}<br>latitude=%{lon}<extra></extra>",
           "hovertext": [
            "Jharkhand"
           ],
           "lat": [
            23.6102
           ],
           "legendgroup": "Jharkhand",
           "lon": [
            85.2799
           ],
           "marker": {
            "color": "#000001",
            "size": [
             11.8
            ],
            "sizemode": "area",
            "sizeref": 0.08427777777777777,
            "symbol": "circle"
           },
           "mode": "markers",
           "name": "Jharkhand",
           "showlegend": true,
           "type": "scattergeo"
          },
          {
           "geo": "geo",
           "hovertemplate": "<b>%{hovertext}</b><br><br>State=Karnataka<br>Month=10<br>Unemployment_Rate=%{marker.size}<br>longitude=%{lat}<br>latitude=%{lon}<extra></extra>",
           "hovertext": [
            "Karnataka"
           ],
           "lat": [
            15.3173
           ],
           "legendgroup": "Karnataka",
           "lon": [
            75.7139
           ],
           "marker": {
            "color": "#000002",
            "size": [
             1.58
            ],
            "sizemode": "area",
            "sizeref": 0.08427777777777777,
            "symbol": "circle"
           },
           "mode": "markers",
           "name": "Karnataka",
           "showlegend": true,
           "type": "scattergeo"
          },
          {
           "geo": "geo",
           "hovertemplate": "<b>%{hovertext}</b><br><br>State=Kerala<br>Month=10<br>Unemployment_Rate=%{marker.size}<br>longitude=%{lat}<br>latitude=%{lon}<extra></extra>",
           "hovertext": [
            "Kerala"
           ],
           "lat": [
            10.8505
           ],
           "legendgroup": "Kerala",
           "lon": [
            76.2711
           ],
           "marker": {
            "color": "#000003",
            "size": [
             3.88
            ],
            "sizemode": "area",
            "sizeref": 0.08427777777777777,
            "symbol": "circle"
           },
           "mode": "markers",
           "name": "Kerala",
           "showlegend": true,
           "type": "scattergeo"
          },
          {
           "geo": "geo",
           "hovertemplate": "<b>%{hovertext}</b><br><br>State=Madhya Pradesh<br>Month=10<br>Unemployment_Rate=%{marker.size}<br>longitude=%{lat}<br>latitude=%{lon}<extra></extra>",
           "hovertext": [
            "Madhya Pradesh"
           ],
           "lat": [
            22.9734
           ],
           "legendgroup": "Madhya Pradesh",
           "lon": [
            78.6569
           ],
           "marker": {
            "color": "#000004",
            "size": [
             3.13
            ],
            "sizemode": "area",
            "sizeref": 0.08427777777777777,
            "symbol": "circle"
           },
           "mode": "markers",
           "name": "Madhya Pradesh",
           "showlegend": true,
           "type": "scattergeo"
          },
          {
           "geo": "geo",
           "hovertemplate": "<b>%{hovertext}</b><br><br>State=Maharashtra<br>Month=10<br>Unemployment_Rate=%{marker.size}<br>longitude=%{lat}<br>latitude=%{lon}<extra></extra>",
           "hovertext": [
            "Maharashtra"
           ],
           "lat": [
            19.7515
           ],
           "legendgroup": "Maharashtra",
           "lon": [
            75.7139
           ],
           "marker": {
            "color": "#000005",
            "size": [
             4.1
            ],
            "sizemode": "area",
            "sizeref": 0.08427777777777777,
            "symbol": "circle"
           },
           "mode": "markers",
           "name": "Maharashtra",
           "showlegend": true,
           "type": "scattergeo"
          },
          {
           "geo": "geo",
           "hovertemplate": "<b>%{hovertext}</b><br><br>State=Meghalaya<br>Month=10<br>Unemployment_Rate=%{marker.size}<br>longitude=%{lat}<br>latitude=%{lon}<extra></extra>",
           "hovertext": [
            "Meghalaya"
           ],
           "lat": [
            25.467
           ],
           "legendgroup": "Meghalaya",
           "lon": [
            91.3662
           ],
           "marker": {
            "color": "#000006",
            "size": [
             4.6
            ],
            "sizemode": "area",
            "sizeref": 0.08427777777777777,
            "symbol": "circle"
           },
           "mode": "markers",
           "name": "Meghalaya",
           "showlegend": true,
           "type": "scattergeo"
          },
          {
           "geo": "geo",
           "hovertemplate": "<b>%{hovertext}</b><br><br>State=Odisha<br>Month=10<br>Unemployment_Rate=%{marker.size}<br>longitude=%{lat}<br>latitude=%{lon}<extra></extra>",
           "hovertext": [
            "Odisha"
           ],
           "lat": [
            20.9517
           ],
           "legendgroup": "Odisha",
           "lon": [
            85.0985
           ],
           "marker": {
            "color": "#000007",
            "size": [
             2.18
            ],
            "sizemode": "area",
            "sizeref": 0.08427777777777777,
            "symbol": "circle"
           },
           "mode": "markers",
           "name": "Odisha",
           "showlegend": true,
           "type": "scattergeo"
          },
          {
           "geo": "geo",
           "hovertemplate": "<b>%{hovertext}</b><br><br>State=Puducherry<br>Month=10<br>Unemployment_Rate=%{marker.size}<br>longitude=%{lat}<br>latitude=%{lon}<extra></extra>",
           "hovertext": [
            "Puducherry"
           ],
           "lat": [
            11.9416
           ],
           "legendgroup": "Puducherry",
           "lon": [
            79.8083
           ],
           "marker": {
            "color": "#000008",
            "size": [
             6.18
            ],
            "sizemode": "area",
            "sizeref": 0.08427777777777777,
            "symbol": "circle"
           },
           "mode": "markers",
           "name": "Puducherry",
           "showlegend": true,
           "type": "scattergeo"
          },
          {
           "geo": "geo",
           "hovertemplate": "<b>%{hovertext}</b><br><br>State=Punjab<br>Month=10<br>Unemployment_Rate=%{marker.size}<br>longitude=%{lat}<br>latitude=%{lon}<extra></extra>",
           "hovertext": [
            "Punjab"
           ],
           "lat": [
            31.1471
           ],
           "legendgroup": "Punjab",
           "lon": [
            75.3412
           ],
           "marker": {
            "color": "#000009",
            "size": [
             9.88
            ],
            "sizemode": "area",
            "sizeref": 0.08427777777777777,
            "symbol": "circle"
           },
           "mode": "markers",
           "name": "Punjab",
           "showlegend": true,
           "type": "scattergeo"
          },
          {
           "geo": "geo",
           "hovertemplate": "<b>%{hovertext}</b><br><br>State=Rajasthan<br>Month=10<br>Unemployment_Rate=%{marker.size}<br>longitude=%{lat}<br>latitude=%{lon}<extra></extra>",
           "hovertext": [
            "Rajasthan"
           ],
           "lat": [
            27.0238
           ],
           "legendgroup": "Rajasthan",
           "lon": [
            74.2179
           ],
           "marker": {
            "color": "#000010",
            "size": [
             24.15
            ],
            "sizemode": "area",
            "sizeref": 0.08427777777777777,
            "symbol": "circle"
           },
           "mode": "markers",
           "name": "Rajasthan",
           "showlegend": true,
           "type": "scattergeo"
          },
          {
           "geo": "geo",
           "hovertemplate": "<b>%{hovertext}</b><br><br>State=Sikkim<br>Month=10<br>Unemployment_Rate=%{marker.size}<br>longitude=%{lat}<br>latitude=%{lon}<extra></extra>",
           "hovertext": [
            "Sikkim"
           ],
           "lat": [
            27.533
           ],
           "legendgroup": "Sikkim",
           "lon": [
            88.5122
           ],
           "marker": {
            "color": "#000001",
            "size": [
             0.88
            ],
            "sizemode": "area",
            "sizeref": 0.08427777777777777,
            "symbol": "circle"
           },
           "mode": "markers",
           "name": "Sikkim",
           "showlegend": true,
           "type": "scattergeo"
          },
          {
           "geo": "geo",
           "hovertemplate": "<b>%{hovertext}</b><br><br>State=Tamil Nadu<br>Month=10<br>Unemployment_Rate=%{marker.size}<br>longitude=%{lat}<br>latitude=%{lon}<extra></extra>",
           "hovertext": [
            "Tamil Nadu"
           ],
           "lat": [
            11.1271
           ],
           "legendgroup": "Tamil Nadu",
           "lon": [
            78.6569
           ],
           "marker": {
            "color": "#000002",
            "size": [
             2.16
            ],
            "sizemode": "area",
            "sizeref": 0.08427777777777777,
            "symbol": "circle"
           },
           "mode": "markers",
           "name": "Tamil Nadu",
           "showlegend": true,
           "type": "scattergeo"
          },
          {
           "geo": "geo",
           "hovertemplate": "<b>%{hovertext}</b><br><br>State=Telangana<br>Month=10<br>Unemployment_Rate=%{marker.size}<br>longitude=%{lat}<br>latitude=%{lon}<extra></extra>",
           "hovertext": [
            "Telangana"
           ],
           "lat": [
            18.1124
           ],
           "legendgroup": "Telangana",
           "lon": [
            79.0193
           ],
           "marker": {
            "color": "#000003",
            "size": [
             2.86
            ],
            "sizemode": "area",
            "sizeref": 0.08427777777777777,
            "symbol": "circle"
           },
           "mode": "markers",
           "name": "Telangana",
           "showlegend": true,
           "type": "scattergeo"
          },
          {
           "geo": "geo",
           "hovertemplate": "<b>%{hovertext}</b><br><br>State=Tripura<br>Month=10<br>Unemployment_Rate=%{marker.size}<br>longitude=%{lat}<br>latitude=%{lon}<extra></extra>",
           "hovertext": [
            "Tripura"
           ],
           "lat": [
            23.9408
           ],
           "legendgroup": "Tripura",
           "lon": [
            91.9882
           ],
           "marker": {
            "color": "#000004",
            "size": [
             11.57
            ],
            "sizemode": "area",
            "sizeref": 0.08427777777777777,
            "symbol": "circle"
           },
           "mode": "markers",
           "name": "Tripura",
           "showlegend": true,
           "type": "scattergeo"
          },
          {
           "geo": "geo",
           "hovertemplate": "<b>%{hovertext}</b><br><br>State=Uttar Pradesh<br>Month=10<br>Unemployment_Rate=%{marker.size}<br>longitude=%{lat}<br>latitude=%{lon}<extra></extra>",
           "hovertext": [
            "Uttar Pradesh"
           ],
           "lat": [
            26.8467
           ],
           "legendgroup": "Uttar Pradesh",
           "lon": [
            80.9462
           ],
           "marker": {
            "color": "#000005",
            "size": [
             3.75
            ],
            "sizemode": "area",
            "sizeref": 0.08427777777777777,
            "symbol": "circle"
           },
           "mode": "markers",
           "name": "Uttar Pradesh",
           "showlegend": true,
           "type": "scattergeo"
          },
          {
           "geo": "geo",
           "hovertemplate": "<b>%{hovertext}</b><br><br>State=Uttarakhand<br>Month=10<br>Unemployment_Rate=%{marker.size}<br>longitude=%{lat}<br>latitude=%{lon}<extra></extra>",
           "hovertext": [
            "Uttarakhand"
           ],
           "lat": [
            30.0668
           ],
           "legendgroup": "Uttarakhand",
           "lon": [
            79.0193
           ],
           "marker": {
            "color": "#000006",
            "size": [
             9.23
            ],
            "sizemode": "area",
            "sizeref": 0.08427777777777777,
            "symbol": "circle"
           },
           "mode": "markers",
           "name": "Uttarakhand",
           "showlegend": true,
           "type": "scattergeo"
          },
          {
           "geo": "geo",
           "hovertemplate": "<b>%{hovertext}</b><br><br>State=West Bengal<br>Month=10<br>Unemployment_Rate=%{marker.size}<br>longitude=%{lat}<br>latitude=%{lon}<extra></extra>",
           "hovertext": [
            "West Bengal"
           ],
           "lat": [
            22.9868
           ],
           "legendgroup": "West Bengal",
           "lon": [
            87.855
           ],
           "marker": {
            "color": "#000007",
            "size": [
             9.98
            ],
            "sizemode": "area",
            "sizeref": 0.08427777777777777,
            "symbol": "circle"
           },
           "mode": "markers",
           "name": "West Bengal",
           "showlegend": true,
           "type": "scattergeo"
          }
         ],
         "name": "10"
        }
       ],
       "layout": {
        "geo": {
         "center": {
          "lat": 23,
          "lon": 78
         },
         "coastlinecolor": "RebeccaPurple",
         "coastlinewidth": 1,
         "countrycolor": "Black",
         "countrywidth": 1,
         "domain": {
          "x": [
           0,
           1
          ],
          "y": [
           0,
           1
          ]
         },
         "lakecolor": "LightBlue",
         "landcolor": "LightGreen",
         "oceancolor": "LightBlue",
         "projection": {
          "scale": 4,
          "type": "natural earth"
         },
         "scope": "asia",
         "showcoastlines": true,
         "showcountries": true,
         "showlakes": true,
         "showland": true,
         "showocean": true
        },
        "legend": {
         "itemsizing": "constant",
         "title": {
          "text": "State"
         },
         "tracegroupgap": 0
        },
        "sliders": [
         {
          "active": 0,
          "currentvalue": {
           "prefix": "Month="
          },
          "len": 0.9,
          "pad": {
           "b": 10,
           "t": 60
          },
          "steps": [
           {
            "args": [
             [
              "1"
             ],
             {
              "frame": {
               "duration": 0,
               "redraw": true
              },
              "fromcurrent": true,
              "mode": "immediate",
              "transition": {
               "duration": 0,
               "easing": "linear"
              }
             }
            ],
            "label": "1",
            "method": "animate"
           },
           {
            "args": [
             [
              "2"
             ],
             {
              "frame": {
               "duration": 0,
               "redraw": true
              },
              "fromcurrent": true,
              "mode": "immediate",
              "transition": {
               "duration": 0,
               "easing": "linear"
              }
             }
            ],
            "label": "2",
            "method": "animate"
           },
           {
            "args": [
             [
              "3"
             ],
             {
              "frame": {
               "duration": 0,
               "redraw": true
              },
              "fromcurrent": true,
              "mode": "immediate",
              "transition": {
               "duration": 0,
               "easing": "linear"
              }
             }
            ],
            "label": "3",
            "method": "animate"
           },
           {
            "args": [
             [
              "4"
             ],
             {
              "frame": {
               "duration": 0,
               "redraw": true
              },
              "fromcurrent": true,
              "mode": "immediate",
              "transition": {
               "duration": 0,
               "easing": "linear"
              }
             }
            ],
            "label": "4",
            "method": "animate"
           },
           {
            "args": [
             [
              "5"
             ],
             {
              "frame": {
               "duration": 0,
               "redraw": true
              },
              "fromcurrent": true,
              "mode": "immediate",
              "transition": {
               "duration": 0,
               "easing": "linear"
              }
             }
            ],
            "label": "5",
            "method": "animate"
           },
           {
            "args": [
             [
              "6"
             ],
             {
              "frame": {
               "duration": 0,
               "redraw": true
              },
              "fromcurrent": true,
              "mode": "immediate",
              "transition": {
               "duration": 0,
               "easing": "linear"
              }
             }
            ],
            "label": "6",
            "method": "animate"
           },
           {
            "args": [
             [
              "7"
             ],
             {
              "frame": {
               "duration": 0,
               "redraw": true
              },
              "fromcurrent": true,
              "mode": "immediate",
              "transition": {
               "duration": 0,
               "easing": "linear"
              }
             }
            ],
            "label": "7",
            "method": "animate"
           },
           {
            "args": [
             [
              "8"
             ],
             {
              "frame": {
               "duration": 0,
               "redraw": true
              },
              "fromcurrent": true,
              "mode": "immediate",
              "transition": {
               "duration": 0,
               "easing": "linear"
              }
             }
            ],
            "label": "8",
            "method": "animate"
           },
           {
            "args": [
             [
              "9"
             ],
             {
              "frame": {
               "duration": 0,
               "redraw": true
              },
              "fromcurrent": true,
              "mode": "immediate",
              "transition": {
               "duration": 0,
               "easing": "linear"
              }
             }
            ],
            "label": "9",
            "method": "animate"
           },
           {
            "args": [
             [
              "10"
             ],
             {
              "frame": {
               "duration": 0,
               "redraw": true
              },
              "fromcurrent": true,
              "mode": "immediate",
              "transition": {
               "duration": 0,
               "easing": "linear"
              }
             }
            ],
            "label": "10",
            "method": "animate"
           }
          ],
          "x": 0.1,
          "xanchor": "left",
          "y": 0,
          "yanchor": "top"
         }
        ],
        "template": {
         "data": {
          "candlestick": [
           {
            "decreasing": {
             "line": {
              "color": "#000033"
             }
            },
            "increasing": {
             "line": {
              "color": "#000032"
             }
            },
            "type": "candlestick"
           }
          ],
          "contour": [
           {
            "colorscale": [
             [
              0,
              "#000011"
             ],
             [
              0.1111111111111111,
              "#000012"
             ],
             [
              0.2222222222222222,
              "#000013"
             ],
             [
              0.3333333333333333,
              "#000014"
             ],
             [
              0.4444444444444444,
              "#000015"
             ],
             [
              0.5555555555555556,
              "#000016"
             ],
             [
              0.6666666666666666,
              "#000017"
             ],
             [
              0.7777777777777778,
              "#000018"
             ],
             [
              0.8888888888888888,
              "#000019"
             ],
             [
              1,
              "#000020"
             ]
            ],
            "type": "contour"
           }
          ],
          "contourcarpet": [
           {
            "colorscale": [
             [
              0,
              "#000011"
             ],
             [
              0.1111111111111111,
              "#000012"
             ],
             [
              0.2222222222222222,
              "#000013"
             ],
             [
              0.3333333333333333,
              "#000014"
             ],
             [
              0.4444444444444444,
              "#000015"
             ],
             [
              0.5555555555555556,
              "#000016"
             ],
             [
              0.6666666666666666,
              "#000017"
             ],
             [
              0.7777777777777778,
              "#000018"
             ],
             [
              0.8888888888888888,
              "#000019"
             ],
             [
              1,
              "#000020"
             ]
            ],
            "type": "contourcarpet"
           }
          ],
          "heatmap": [
           {
            "colorscale": [
             [
              0,
              "#000011"
             ],
             [
              0.1111111111111111,
              "#000012"
             ],
             [
              0.2222222222222222,
              "#000013"
             ],
             [
              0.3333333333333333,
              "#000014"
             ],
             [
              0.4444444444444444,
              "#000015"
             ],
             [
              0.5555555555555556,
              "#000016"
             ],
             [
              0.6666666666666666,
              "#000017"
             ],
             [
              0.7777777777777778,
              "#000018"
             ],
             [
              0.8888888888888888,
              "#000019"
             ],
             [
              1,
              "#000020"
             ]
            ],
            "type": "heatmap"
           }
          ],
          "histogram2d": [
           {
            "colorscale": [
             [
              0,
              "#000011"
             ],
             [
              0.1111111111111111,
              "#000012"
             ],
             [
              0.2222222222222222,
              "#000013"
             ],
             [
              0.3333333333333333,
              "#000014"
             ],
             [
              0.4444444444444444,
              "#000015"
             ],
             [
              0.5555555555555556,
              "#000016"
             ],
             [
              0.6666666666666666,
              "#000017"
             ],
             [
              0.7777777777777778,
              "#000018"
             ],
             [
              0.8888888888888888,
              "#000019"
             ],
             [
              1,
              "#000020"
             ]
            ],
            "type": "histogram2d"
           }
          ],
          "icicle": [
           {
            "textfont": {
             "color": "white"
            },
            "type": "icicle"
           }
          ],
          "sankey": [
           {
            "textfont": {
             "color": "#000036"
            },
            "type": "sankey"
           }
          ],
          "scatter": [
           {
            "marker": {
             "line": {
              "width": 0
             }
            },
            "type": "scatter"
           }
          ],
          "table": [
           {
            "cells": {
             "fill": {
              "color": "#000038"
             },
             "font": {
              "color": "#000037"
             },
             "line": {
              "color": "#000039"
             }
            },
            "header": {
             "fill": {
              "color": "#000040"
             },
             "font": {
              "color": "#000036"
             },
             "line": {
              "color": "#000039"
             }
            },
            "type": "table"
           }
          ],
          "waterfall": [
           {
            "connector": {
             "line": {
              "color": "#000036",
              "width": 2
             }
            },
            "decreasing": {
             "marker": {
              "color": "#000033"
             }
            },
            "increasing": {
             "marker": {
              "color": "#000032"
             }
            },
            "totals": {
             "marker": {
              "color": "#000034"
             }
            },
            "type": "waterfall"
           }
          ]
         },
         "layout": {
          "coloraxis": {
           "colorscale": [
            [
             0,
             "#000011"
            ],
            [
             0.1111111111111111,
             "#000012"
            ],
            [
             0.2222222222222222,
             "#000013"
            ],
            [
             0.3333333333333333,
             "#000014"
            ],
            [
             0.4444444444444444,
             "#000015"
            ],
            [
             0.5555555555555556,
             "#000016"
            ],
            [
             0.6666666666666666,
             "#000017"
            ],
            [
             0.7777777777777778,
             "#000018"
            ],
            [
             0.8888888888888888,
             "#000019"
            ],
            [
             1,
             "#000020"
            ]
           ]
          },
          "colorscale": {
           "diverging": [
            [
             0,
             "#000021"
            ],
            [
             0.1,
             "#000022"
            ],
            [
             0.2,
             "#000023"
            ],
            [
             0.3,
             "#000024"
            ],
            [
             0.4,
             "#000025"
            ],
            [
             0.5,
             "#000026"
            ],
            [
             0.6,
             "#000027"
            ],
            [
             0.7,
             "#000028"
            ],
            [
             0.8,
             "#000029"
            ],
            [
             0.9,
             "#000030"
            ],
            [
             1,
             "#000031"
            ]
           ],
           "sequential": [
            [
             0,
             "#000011"
            ],
            [
             0.1111111111111111,
             "#000012"
            ],
            [
             0.2222222222222222,
             "#000013"
            ],
            [
             0.3333333333333333,
             "#000014"
            ],
            [
             0.4444444444444444,
             "#000015"
            ],
            [
             0.5555555555555556,
             "#000016"
            ],
            [
             0.6666666666666666,
             "#000017"
            ],
            [
             0.7777777777777778,
             "#000018"
            ],
            [
             0.8888888888888888,
             "#000019"
            ],
            [
             1,
             "#000020"
            ]
           ],
           "sequentialminus": [
            [
             0,
             "#000011"
            ],
            [
             0.1111111111111111,
             "#000012"
            ],
            [
             0.2222222222222222,
             "#000013"
            ],
            [
             0.3333333333333333,
             "#000014"
            ],
            [
             0.4444444444444444,
             "#000015"
            ],
            [
             0.5555555555555556,
             "#000016"
            ],
            [
             0.6666666666666666,
             "#000017"
            ],
            [
             0.7777777777777778,
             "#000018"
            ],
            [
             0.8888888888888888,
             "#000019"
            ],
            [
             1,
             "#000020"
            ]
           ]
          },
          "colorway": [
           "#000001",
           "#000002",
           "#000003",
           "#000004",
           "#000005",
           "#000006",
           "#000007",
           "#000008",
           "#000009",
           "#000010"
          ]
         }
        },
        "title": {
         "text": "Impact of Lockdown on Employment in India"
        },
        "updatemenus": [
         {
          "buttons": [
           {
            "args": [
             null,
             {
              "frame": {
               "duration": 500,
               "redraw": true
              },
              "fromcurrent": true,
              "mode": "immediate",
              "transition": {
               "duration": 500,
               "easing": "linear"
              }
             }
            ],
            "label": "&#9654;",
            "method": "animate"
           },
           {
            "args": [
             [
              null
             ],
             {
              "frame": {
               "duration": 0,
               "redraw": true
              },
              "fromcurrent": true,
              "mode": "immediate",
              "transition": {
               "duration": 0,
               "easing": "linear"
              }
             }
            ],
            "label": "&#9724;",
            "method": "animate"
           }
          ],
          "direction": "left",
          "pad": {
           "r": 10,
           "t": 70
          },
          "showactive": false,
          "type": "buttons",
          "x": 0.1,
          "xanchor": "right",
          "y": 0,
          "yanchor": "top"
         }
        ]
       }
      }
     },
     "metadata": {},
     "output_type": "display_data"
    }
   ],
   "source": [
    "fig = px.scatter_geo(data, \n",
    "                     lat='longitude', lon='latitude', color=\"State\",\n",
    "                     hover_name=\"State\", size=\"Unemployment_Rate\",\n",
    "                     animation_frame=\"Month\", scope='asia',\n",
    "                     title='Impact of Lockdown on Employment in India',\n",
    "                     projection='natural earth',\n",
    "                     color_continuous_scale='viridis',\n",
    "                     size_max=30)\n",
    "fig.update_geos(\n",
    "    showcoastlines=True, coastlinecolor=\"RebeccaPurple\", coastlinewidth=1,\n",
    "    showland=True, landcolor=\"LightGreen\", \n",
    "    showocean=True, oceancolor=\"LightBlue\", \n",
    "    showcountries=True, countrycolor=\"Black\", countrywidth=1, \n",
    "    showlakes=True, lakecolor=\"LightBlue\"\n",
    ")\n",
    "\n",
    "# Setting center around India and increase the scale for closer view\n",
    "fig.update_geos(center=dict(lon=78, lat=23), projection_scale=4)\n",
    "\n",
    "fig.show()"
   ]
  },
  {
   "cell_type": "code",
   "execution_count": 21,
   "metadata": {},
   "outputs": [
    {
     "data": {
      "image/png": "[encoded data removed]",
      "text/plain": [
       "<Figure size 1200x600 with 1 Axes>"
      ]
     },
     "metadata": {},
     "output_type": "display_data"
    }
   ],
   "source": [
    "state_unemployment = data.groupby('State')['Unemployment_Rate'].mean().reset_index()\n",
    "\n",
    "# Sort the data in descending order to find the state with the highest unemployment rate\n",
    "state_unemployment_sorted = state_unemployment.sort_values(by='Unemployment_Rate', ascending=False)\n",
    "\n",
    "# Plot the bar plot\n",
    "plt.figure(figsize=(12, 6))\n",
    "sns.barplot(x='State', y='Unemployment_Rate', data=state_unemployment_sorted)\n",
    "plt.xticks(rotation=90)\n",
    "plt.xlabel('State')\n",
    "plt.ylabel('Average Unemployment Rate')\n",
    "plt.title('Average Unemployment Rate by State')\n",
    "plt.tight_layout()\n",
    "plt.show()"
   ]
  }
 ],
 "metadata": {
  "kernelspec": {
   "display_name": "base",
   "language": "python",
   "name": "python3"
  },
  "language_info": {
   "codemirror_mode": {
    "name": "ipython",
    "version": 3
   },
   "file_extension": ".py",
   "mimetype": "text/x-python",
   "name": "python",
   "nbconvert_exporter": "python",
   "pygments_lexer": "ipython3",
   "version": "3.11.7"
  }
 },
 "nbformat": 4,
 "nbformat_minor": 2
}
